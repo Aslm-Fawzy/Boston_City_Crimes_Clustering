{
 "cells": [
  {
   "cell_type": "markdown",
   "metadata": {
    "id": "VaCTEVo8mlrq"
   },
   "source": [
    "# Introduction\n",
    "> Crime incident reports are provided by Boston Police Department (BPD) to document the initial details surrounding an incident to which BPD officers respond. This is a dataset containing records from the new crime incident report system, which includes a reduced set of fields focused on capturing the type of incident as well as when and where it occurred.\n",
    ">### **Data Contents :**\n",
    "Records begin in June 14, 2015 and continue to September 3, 2018. and contain 327820 rows and 17 columns that're:\n",
    "\n",
    "        1. INCIDENT_NUMBER\n",
    "        2. OFFENSE_CODE\n",
    "        3. OFFENSECODEGROUP\n",
    "        4. OFFENSE_DESCRIPTION\n",
    "        5. DISTRICT\n",
    "        6. REPORTING_AREA\n",
    "        7. SHOOTING\n",
    "        8. OCCURREDONDATE\n",
    "        9. YEAR \n",
    "        10. MONTH\n",
    "        11. DAYOFWEEK\n",
    "        12. HOUR\n",
    "        13. UCR_PART\n",
    "        14. STREET\n",
    "        15. LATITUDE\n",
    "        16. LONGITUDE\n",
    "        17. LOCATION"
   ]
  },
  {
   "cell_type": "markdown",
   "metadata": {
    "id": "WxPZ5Z_DDR4L"
   },
   "source": [
    "# Imporing Libraries and Dataset\n",
    "\n"
   ]
  },
  {
   "cell_type": "code",
   "execution_count": 1,
   "metadata": {
    "id": "ChPCFnKCDALC"
   },
   "outputs": [],
   "source": [
    "import pandas as pd\n",
    "import matplotlib.pyplot as plt\n",
    "import seaborn as sns\n",
    "import numpy  as np\n",
    "%matplotlib inline\n",
    "sns.set(rc={'figure.figsize':(8, 8)}, font_scale=1.3)"
   ]
  },
  {
   "cell_type": "code",
   "execution_count": 2,
   "metadata": {
    "colab": {
     "base_uri": "https://localhost:8080/",
     "height": 748
    },
    "id": "U814ExlLwiT_",
    "outputId": "199183b5-9162-460e-9cf3-cf2a891dc52b"
   },
   "outputs": [
    {
     "name": "stderr",
     "output_type": "stream",
     "text": [
      "<ipython-input-2-170deb0af2a4>:1: DtypeWarning: Columns (6) have mixed types. Specify dtype option on import or set low_memory=False.\n",
      "  df = pd.read_csv('crime.csv', encoding='latin-1')\n"
     ]
    },
    {
     "data": {
      "text/html": [
       "<div>\n",
       "<style scoped>\n",
       "    .dataframe tbody tr th:only-of-type {\n",
       "        vertical-align: middle;\n",
       "    }\n",
       "\n",
       "    .dataframe tbody tr th {\n",
       "        vertical-align: top;\n",
       "    }\n",
       "\n",
       "    .dataframe thead th {\n",
       "        text-align: right;\n",
       "    }\n",
       "</style>\n",
       "<table border=\"1\" class=\"dataframe\">\n",
       "  <thead>\n",
       "    <tr style=\"text-align: right;\">\n",
       "      <th></th>\n",
       "      <th>INCIDENT_NUMBER</th>\n",
       "      <th>OFFENSE_CODE</th>\n",
       "      <th>OFFENSE_CODE_GROUP</th>\n",
       "      <th>OFFENSE_DESCRIPTION</th>\n",
       "      <th>DISTRICT</th>\n",
       "      <th>REPORTING_AREA</th>\n",
       "      <th>SHOOTING</th>\n",
       "      <th>OCCURRED_ON_DATE</th>\n",
       "      <th>YEAR</th>\n",
       "      <th>MONTH</th>\n",
       "      <th>DAY_OF_WEEK</th>\n",
       "      <th>HOUR</th>\n",
       "      <th>UCR_PART</th>\n",
       "      <th>STREET</th>\n",
       "      <th>Lat</th>\n",
       "      <th>Long</th>\n",
       "      <th>Location</th>\n",
       "    </tr>\n",
       "  </thead>\n",
       "  <tbody>\n",
       "    <tr>\n",
       "      <th>0</th>\n",
       "      <td>I182080058</td>\n",
       "      <td>2403</td>\n",
       "      <td>Disorderly Conduct</td>\n",
       "      <td>DISTURBING THE PEACE</td>\n",
       "      <td>E18</td>\n",
       "      <td>495</td>\n",
       "      <td>NaN</td>\n",
       "      <td>2018-10-03 20:13:00</td>\n",
       "      <td>2018</td>\n",
       "      <td>10</td>\n",
       "      <td>Wednesday</td>\n",
       "      <td>20</td>\n",
       "      <td>Part Two</td>\n",
       "      <td>ARLINGTON ST</td>\n",
       "      <td>42.262608</td>\n",
       "      <td>-71.121186</td>\n",
       "      <td>(42.26260773, -71.12118637)</td>\n",
       "    </tr>\n",
       "    <tr>\n",
       "      <th>1</th>\n",
       "      <td>I182080053</td>\n",
       "      <td>3201</td>\n",
       "      <td>Property Lost</td>\n",
       "      <td>PROPERTY - LOST</td>\n",
       "      <td>D14</td>\n",
       "      <td>795</td>\n",
       "      <td>NaN</td>\n",
       "      <td>2018-08-30 20:00:00</td>\n",
       "      <td>2018</td>\n",
       "      <td>8</td>\n",
       "      <td>Thursday</td>\n",
       "      <td>20</td>\n",
       "      <td>Part Three</td>\n",
       "      <td>ALLSTON ST</td>\n",
       "      <td>42.352111</td>\n",
       "      <td>-71.135311</td>\n",
       "      <td>(42.35211146, -71.13531147)</td>\n",
       "    </tr>\n",
       "    <tr>\n",
       "      <th>2</th>\n",
       "      <td>I182080052</td>\n",
       "      <td>2647</td>\n",
       "      <td>Other</td>\n",
       "      <td>THREATS TO DO BODILY HARM</td>\n",
       "      <td>B2</td>\n",
       "      <td>329</td>\n",
       "      <td>NaN</td>\n",
       "      <td>2018-10-03 19:20:00</td>\n",
       "      <td>2018</td>\n",
       "      <td>10</td>\n",
       "      <td>Wednesday</td>\n",
       "      <td>19</td>\n",
       "      <td>Part Two</td>\n",
       "      <td>DEVON ST</td>\n",
       "      <td>42.308126</td>\n",
       "      <td>-71.076930</td>\n",
       "      <td>(42.30812619, -71.07692974)</td>\n",
       "    </tr>\n",
       "    <tr>\n",
       "      <th>3</th>\n",
       "      <td>I182080051</td>\n",
       "      <td>413</td>\n",
       "      <td>Aggravated Assault</td>\n",
       "      <td>ASSAULT - AGGRAVATED - BATTERY</td>\n",
       "      <td>A1</td>\n",
       "      <td>92</td>\n",
       "      <td>NaN</td>\n",
       "      <td>2018-10-03 20:00:00</td>\n",
       "      <td>2018</td>\n",
       "      <td>10</td>\n",
       "      <td>Wednesday</td>\n",
       "      <td>20</td>\n",
       "      <td>Part One</td>\n",
       "      <td>CAMBRIDGE ST</td>\n",
       "      <td>42.359454</td>\n",
       "      <td>-71.059648</td>\n",
       "      <td>(42.35945371, -71.05964817)</td>\n",
       "    </tr>\n",
       "    <tr>\n",
       "      <th>4</th>\n",
       "      <td>I182080050</td>\n",
       "      <td>3122</td>\n",
       "      <td>Aircraft</td>\n",
       "      <td>AIRCRAFT INCIDENTS</td>\n",
       "      <td>A7</td>\n",
       "      <td>36</td>\n",
       "      <td>NaN</td>\n",
       "      <td>2018-10-03 20:49:00</td>\n",
       "      <td>2018</td>\n",
       "      <td>10</td>\n",
       "      <td>Wednesday</td>\n",
       "      <td>20</td>\n",
       "      <td>Part Three</td>\n",
       "      <td>PRESCOTT ST</td>\n",
       "      <td>42.375258</td>\n",
       "      <td>-71.024663</td>\n",
       "      <td>(42.37525782, -71.02466343)</td>\n",
       "    </tr>\n",
       "    <tr>\n",
       "      <th>...</th>\n",
       "      <td>...</td>\n",
       "      <td>...</td>\n",
       "      <td>...</td>\n",
       "      <td>...</td>\n",
       "      <td>...</td>\n",
       "      <td>...</td>\n",
       "      <td>...</td>\n",
       "      <td>...</td>\n",
       "      <td>...</td>\n",
       "      <td>...</td>\n",
       "      <td>...</td>\n",
       "      <td>...</td>\n",
       "      <td>...</td>\n",
       "      <td>...</td>\n",
       "      <td>...</td>\n",
       "      <td>...</td>\n",
       "      <td>...</td>\n",
       "    </tr>\n",
       "    <tr>\n",
       "      <th>327815</th>\n",
       "      <td>I050310906-00</td>\n",
       "      <td>3125</td>\n",
       "      <td>Warrant Arrests</td>\n",
       "      <td>WARRANT ARREST</td>\n",
       "      <td>D4</td>\n",
       "      <td>285</td>\n",
       "      <td>NaN</td>\n",
       "      <td>2016-06-05 17:25:00</td>\n",
       "      <td>2016</td>\n",
       "      <td>6</td>\n",
       "      <td>Sunday</td>\n",
       "      <td>17</td>\n",
       "      <td>Part Three</td>\n",
       "      <td>COVENTRY ST</td>\n",
       "      <td>42.336951</td>\n",
       "      <td>-71.085748</td>\n",
       "      <td>(42.33695098, -71.08574813)</td>\n",
       "    </tr>\n",
       "    <tr>\n",
       "      <th>327816</th>\n",
       "      <td>I030217815-08</td>\n",
       "      <td>111</td>\n",
       "      <td>Homicide</td>\n",
       "      <td>MURDER, NON-NEGLIGIENT MANSLAUGHTER</td>\n",
       "      <td>E18</td>\n",
       "      <td>520</td>\n",
       "      <td>NaN</td>\n",
       "      <td>2015-07-09 13:38:00</td>\n",
       "      <td>2015</td>\n",
       "      <td>7</td>\n",
       "      <td>Thursday</td>\n",
       "      <td>13</td>\n",
       "      <td>Part One</td>\n",
       "      <td>RIVER ST</td>\n",
       "      <td>42.255926</td>\n",
       "      <td>-71.123172</td>\n",
       "      <td>(42.25592648, -71.12317207)</td>\n",
       "    </tr>\n",
       "    <tr>\n",
       "      <th>327817</th>\n",
       "      <td>I030217815-08</td>\n",
       "      <td>3125</td>\n",
       "      <td>Warrant Arrests</td>\n",
       "      <td>WARRANT ARREST</td>\n",
       "      <td>E18</td>\n",
       "      <td>520</td>\n",
       "      <td>NaN</td>\n",
       "      <td>2015-07-09 13:38:00</td>\n",
       "      <td>2015</td>\n",
       "      <td>7</td>\n",
       "      <td>Thursday</td>\n",
       "      <td>13</td>\n",
       "      <td>Part Three</td>\n",
       "      <td>RIVER ST</td>\n",
       "      <td>42.255926</td>\n",
       "      <td>-71.123172</td>\n",
       "      <td>(42.25592648, -71.12317207)</td>\n",
       "    </tr>\n",
       "    <tr>\n",
       "      <th>327818</th>\n",
       "      <td>I010370257-00</td>\n",
       "      <td>3125</td>\n",
       "      <td>Warrant Arrests</td>\n",
       "      <td>WARRANT ARREST</td>\n",
       "      <td>E13</td>\n",
       "      <td>569</td>\n",
       "      <td>NaN</td>\n",
       "      <td>2016-05-31 19:35:00</td>\n",
       "      <td>2016</td>\n",
       "      <td>5</td>\n",
       "      <td>Tuesday</td>\n",
       "      <td>19</td>\n",
       "      <td>Part Three</td>\n",
       "      <td>NEW WASHINGTON ST</td>\n",
       "      <td>42.302333</td>\n",
       "      <td>-71.111565</td>\n",
       "      <td>(42.30233307, -71.11156487)</td>\n",
       "    </tr>\n",
       "    <tr>\n",
       "      <th>327819</th>\n",
       "      <td>142052550</td>\n",
       "      <td>3125</td>\n",
       "      <td>Warrant Arrests</td>\n",
       "      <td>WARRANT ARREST</td>\n",
       "      <td>D4</td>\n",
       "      <td>903</td>\n",
       "      <td>NaN</td>\n",
       "      <td>2015-06-22 00:12:00</td>\n",
       "      <td>2015</td>\n",
       "      <td>6</td>\n",
       "      <td>Monday</td>\n",
       "      <td>0</td>\n",
       "      <td>Part Three</td>\n",
       "      <td>WASHINGTON ST</td>\n",
       "      <td>42.333839</td>\n",
       "      <td>-71.080290</td>\n",
       "      <td>(42.33383935, -71.08029038)</td>\n",
       "    </tr>\n",
       "  </tbody>\n",
       "</table>\n",
       "<p>327820 rows × 17 columns</p>\n",
       "</div>"
      ],
      "text/plain": [
       "       INCIDENT_NUMBER  OFFENSE_CODE  OFFENSE_CODE_GROUP  \\\n",
       "0           I182080058          2403  Disorderly Conduct   \n",
       "1           I182080053          3201       Property Lost   \n",
       "2           I182080052          2647               Other   \n",
       "3           I182080051           413  Aggravated Assault   \n",
       "4           I182080050          3122            Aircraft   \n",
       "...                ...           ...                 ...   \n",
       "327815   I050310906-00          3125     Warrant Arrests   \n",
       "327816   I030217815-08           111            Homicide   \n",
       "327817   I030217815-08          3125     Warrant Arrests   \n",
       "327818   I010370257-00          3125     Warrant Arrests   \n",
       "327819       142052550          3125     Warrant Arrests   \n",
       "\n",
       "                        OFFENSE_DESCRIPTION DISTRICT REPORTING_AREA SHOOTING  \\\n",
       "0                      DISTURBING THE PEACE      E18            495      NaN   \n",
       "1                           PROPERTY - LOST      D14            795      NaN   \n",
       "2                 THREATS TO DO BODILY HARM       B2            329      NaN   \n",
       "3            ASSAULT - AGGRAVATED - BATTERY       A1             92      NaN   \n",
       "4                        AIRCRAFT INCIDENTS       A7             36      NaN   \n",
       "...                                     ...      ...            ...      ...   \n",
       "327815                       WARRANT ARREST       D4            285      NaN   \n",
       "327816  MURDER, NON-NEGLIGIENT MANSLAUGHTER      E18            520      NaN   \n",
       "327817                       WARRANT ARREST      E18            520      NaN   \n",
       "327818                       WARRANT ARREST      E13            569      NaN   \n",
       "327819                       WARRANT ARREST       D4            903      NaN   \n",
       "\n",
       "           OCCURRED_ON_DATE  YEAR  MONTH DAY_OF_WEEK  HOUR    UCR_PART  \\\n",
       "0       2018-10-03 20:13:00  2018     10   Wednesday    20    Part Two   \n",
       "1       2018-08-30 20:00:00  2018      8    Thursday    20  Part Three   \n",
       "2       2018-10-03 19:20:00  2018     10   Wednesday    19    Part Two   \n",
       "3       2018-10-03 20:00:00  2018     10   Wednesday    20    Part One   \n",
       "4       2018-10-03 20:49:00  2018     10   Wednesday    20  Part Three   \n",
       "...                     ...   ...    ...         ...   ...         ...   \n",
       "327815  2016-06-05 17:25:00  2016      6      Sunday    17  Part Three   \n",
       "327816  2015-07-09 13:38:00  2015      7    Thursday    13    Part One   \n",
       "327817  2015-07-09 13:38:00  2015      7    Thursday    13  Part Three   \n",
       "327818  2016-05-31 19:35:00  2016      5     Tuesday    19  Part Three   \n",
       "327819  2015-06-22 00:12:00  2015      6      Monday     0  Part Three   \n",
       "\n",
       "                   STREET        Lat       Long                     Location  \n",
       "0            ARLINGTON ST  42.262608 -71.121186  (42.26260773, -71.12118637)  \n",
       "1              ALLSTON ST  42.352111 -71.135311  (42.35211146, -71.13531147)  \n",
       "2                DEVON ST  42.308126 -71.076930  (42.30812619, -71.07692974)  \n",
       "3            CAMBRIDGE ST  42.359454 -71.059648  (42.35945371, -71.05964817)  \n",
       "4             PRESCOTT ST  42.375258 -71.024663  (42.37525782, -71.02466343)  \n",
       "...                   ...        ...        ...                          ...  \n",
       "327815        COVENTRY ST  42.336951 -71.085748  (42.33695098, -71.08574813)  \n",
       "327816           RIVER ST  42.255926 -71.123172  (42.25592648, -71.12317207)  \n",
       "327817           RIVER ST  42.255926 -71.123172  (42.25592648, -71.12317207)  \n",
       "327818  NEW WASHINGTON ST  42.302333 -71.111565  (42.30233307, -71.11156487)  \n",
       "327819      WASHINGTON ST  42.333839 -71.080290  (42.33383935, -71.08029038)  \n",
       "\n",
       "[327820 rows x 17 columns]"
      ]
     },
     "execution_count": 2,
     "metadata": {},
     "output_type": "execute_result"
    }
   ],
   "source": [
    "df = pd.read_csv('crime.csv', encoding='latin-1')\n",
    "df"
   ]
  },
  {
   "cell_type": "code",
   "execution_count": 3,
   "metadata": {
    "colab": {
     "base_uri": "https://localhost:8080/"
    },
    "id": "0vrhotq6y1TZ",
    "outputId": "af3fdbc9-d2bd-4261-f30f-3aa98c07d1f7"
   },
   "outputs": [
    {
     "name": "stdout",
     "output_type": "stream",
     "text": [
      "<class 'pandas.core.frame.DataFrame'>\n",
      "RangeIndex: 327820 entries, 0 to 327819\n",
      "Data columns (total 17 columns):\n",
      " #   Column               Non-Null Count   Dtype  \n",
      "---  ------               --------------   -----  \n",
      " 0   INCIDENT_NUMBER      327820 non-null  object \n",
      " 1   OFFENSE_CODE         327820 non-null  int64  \n",
      " 2   OFFENSE_CODE_GROUP   327820 non-null  object \n",
      " 3   OFFENSE_DESCRIPTION  327820 non-null  object \n",
      " 4   DISTRICT             326046 non-null  object \n",
      " 5   REPORTING_AREA       327820 non-null  object \n",
      " 6   SHOOTING             1055 non-null    object \n",
      " 7   OCCURRED_ON_DATE     327820 non-null  object \n",
      " 8   YEAR                 327820 non-null  int64  \n",
      " 9   MONTH                327820 non-null  int64  \n",
      " 10  DAY_OF_WEEK          327820 non-null  object \n",
      " 11  HOUR                 327820 non-null  int64  \n",
      " 12  UCR_PART             327727 non-null  object \n",
      " 13  STREET               316843 non-null  object \n",
      " 14  Lat                  307188 non-null  float64\n",
      " 15  Long                 307188 non-null  float64\n",
      " 16  Location             327820 non-null  object \n",
      "dtypes: float64(2), int64(4), object(11)\n",
      "memory usage: 42.5+ MB\n"
     ]
    }
   ],
   "source": [
    "df.info()"
   ]
  },
  {
   "cell_type": "code",
   "execution_count": 4,
   "metadata": {
    "colab": {
     "base_uri": "https://localhost:8080/",
     "height": 300
    },
    "id": "jAAPNlxay4Qe",
    "outputId": "be33e7f8-91f5-464c-d7ad-2d9ca3376e11"
   },
   "outputs": [
    {
     "data": {
      "text/html": [
       "<div>\n",
       "<style scoped>\n",
       "    .dataframe tbody tr th:only-of-type {\n",
       "        vertical-align: middle;\n",
       "    }\n",
       "\n",
       "    .dataframe tbody tr th {\n",
       "        vertical-align: top;\n",
       "    }\n",
       "\n",
       "    .dataframe thead th {\n",
       "        text-align: right;\n",
       "    }\n",
       "</style>\n",
       "<table border=\"1\" class=\"dataframe\">\n",
       "  <thead>\n",
       "    <tr style=\"text-align: right;\">\n",
       "      <th></th>\n",
       "      <th>OFFENSE_CODE</th>\n",
       "      <th>YEAR</th>\n",
       "      <th>MONTH</th>\n",
       "      <th>HOUR</th>\n",
       "      <th>Lat</th>\n",
       "      <th>Long</th>\n",
       "    </tr>\n",
       "  </thead>\n",
       "  <tbody>\n",
       "    <tr>\n",
       "      <th>count</th>\n",
       "      <td>327820.000000</td>\n",
       "      <td>327820.000000</td>\n",
       "      <td>327820.000000</td>\n",
       "      <td>327820.000000</td>\n",
       "      <td>307188.000000</td>\n",
       "      <td>307188.000000</td>\n",
       "    </tr>\n",
       "    <tr>\n",
       "      <th>mean</th>\n",
       "      <td>2317.961171</td>\n",
       "      <td>2016.598676</td>\n",
       "      <td>6.672213</td>\n",
       "      <td>13.114840</td>\n",
       "      <td>42.212995</td>\n",
       "      <td>-70.906030</td>\n",
       "    </tr>\n",
       "    <tr>\n",
       "      <th>std</th>\n",
       "      <td>1184.990073</td>\n",
       "      <td>1.009775</td>\n",
       "      <td>3.253984</td>\n",
       "      <td>6.292714</td>\n",
       "      <td>2.173496</td>\n",
       "      <td>3.515832</td>\n",
       "    </tr>\n",
       "    <tr>\n",
       "      <th>min</th>\n",
       "      <td>111.000000</td>\n",
       "      <td>2015.000000</td>\n",
       "      <td>1.000000</td>\n",
       "      <td>0.000000</td>\n",
       "      <td>-1.000000</td>\n",
       "      <td>-71.178674</td>\n",
       "    </tr>\n",
       "    <tr>\n",
       "      <th>25%</th>\n",
       "      <td>1001.000000</td>\n",
       "      <td>2016.000000</td>\n",
       "      <td>4.000000</td>\n",
       "      <td>9.000000</td>\n",
       "      <td>42.297466</td>\n",
       "      <td>-71.097081</td>\n",
       "    </tr>\n",
       "    <tr>\n",
       "      <th>50%</th>\n",
       "      <td>2907.000000</td>\n",
       "      <td>2017.000000</td>\n",
       "      <td>7.000000</td>\n",
       "      <td>14.000000</td>\n",
       "      <td>42.325552</td>\n",
       "      <td>-71.077493</td>\n",
       "    </tr>\n",
       "    <tr>\n",
       "      <th>75%</th>\n",
       "      <td>3201.000000</td>\n",
       "      <td>2017.000000</td>\n",
       "      <td>9.000000</td>\n",
       "      <td>18.000000</td>\n",
       "      <td>42.348624</td>\n",
       "      <td>-71.062482</td>\n",
       "    </tr>\n",
       "    <tr>\n",
       "      <th>max</th>\n",
       "      <td>3831.000000</td>\n",
       "      <td>2018.000000</td>\n",
       "      <td>12.000000</td>\n",
       "      <td>23.000000</td>\n",
       "      <td>42.395042</td>\n",
       "      <td>-1.000000</td>\n",
       "    </tr>\n",
       "  </tbody>\n",
       "</table>\n",
       "</div>"
      ],
      "text/plain": [
       "        OFFENSE_CODE           YEAR          MONTH           HOUR  \\\n",
       "count  327820.000000  327820.000000  327820.000000  327820.000000   \n",
       "mean     2317.961171    2016.598676       6.672213      13.114840   \n",
       "std      1184.990073       1.009775       3.253984       6.292714   \n",
       "min       111.000000    2015.000000       1.000000       0.000000   \n",
       "25%      1001.000000    2016.000000       4.000000       9.000000   \n",
       "50%      2907.000000    2017.000000       7.000000      14.000000   \n",
       "75%      3201.000000    2017.000000       9.000000      18.000000   \n",
       "max      3831.000000    2018.000000      12.000000      23.000000   \n",
       "\n",
       "                 Lat           Long  \n",
       "count  307188.000000  307188.000000  \n",
       "mean       42.212995     -70.906030  \n",
       "std         2.173496       3.515832  \n",
       "min        -1.000000     -71.178674  \n",
       "25%        42.297466     -71.097081  \n",
       "50%        42.325552     -71.077493  \n",
       "75%        42.348624     -71.062482  \n",
       "max        42.395042      -1.000000  "
      ]
     },
     "execution_count": 4,
     "metadata": {},
     "output_type": "execute_result"
    }
   ],
   "source": [
    "df.describe()"
   ]
  },
  {
   "cell_type": "code",
   "execution_count": 5,
   "metadata": {
    "colab": {
     "base_uri": "https://localhost:8080/",
     "height": 374
    },
    "id": "W_R12vGvy6gY",
    "outputId": "e4ceaf8d-d285-4e01-a48b-2e1e47e8d4f2"
   },
   "outputs": [
    {
     "data": {
      "text/html": [
       "<div>\n",
       "<style scoped>\n",
       "    .dataframe tbody tr th:only-of-type {\n",
       "        vertical-align: middle;\n",
       "    }\n",
       "\n",
       "    .dataframe tbody tr th {\n",
       "        vertical-align: top;\n",
       "    }\n",
       "\n",
       "    .dataframe thead th {\n",
       "        text-align: right;\n",
       "    }\n",
       "</style>\n",
       "<table border=\"1\" class=\"dataframe\">\n",
       "  <thead>\n",
       "    <tr style=\"text-align: right;\">\n",
       "      <th></th>\n",
       "      <th>INCIDENT_NUMBER</th>\n",
       "      <th>OFFENSE_CODE</th>\n",
       "      <th>OFFENSE_CODE_GROUP</th>\n",
       "      <th>OFFENSE_DESCRIPTION</th>\n",
       "      <th>DISTRICT</th>\n",
       "      <th>REPORTING_AREA</th>\n",
       "      <th>SHOOTING</th>\n",
       "      <th>OCCURRED_ON_DATE</th>\n",
       "      <th>YEAR</th>\n",
       "      <th>MONTH</th>\n",
       "      <th>DAY_OF_WEEK</th>\n",
       "      <th>HOUR</th>\n",
       "      <th>UCR_PART</th>\n",
       "      <th>STREET</th>\n",
       "      <th>Lat</th>\n",
       "      <th>Long</th>\n",
       "      <th>Location</th>\n",
       "    </tr>\n",
       "  </thead>\n",
       "  <tbody>\n",
       "    <tr>\n",
       "      <th>0</th>\n",
       "      <td>I182080058</td>\n",
       "      <td>2403</td>\n",
       "      <td>Disorderly Conduct</td>\n",
       "      <td>DISTURBING THE PEACE</td>\n",
       "      <td>E18</td>\n",
       "      <td>495</td>\n",
       "      <td>NaN</td>\n",
       "      <td>2018-10-03 20:13:00</td>\n",
       "      <td>2018</td>\n",
       "      <td>10</td>\n",
       "      <td>Wednesday</td>\n",
       "      <td>20</td>\n",
       "      <td>Part Two</td>\n",
       "      <td>ARLINGTON ST</td>\n",
       "      <td>42.262608</td>\n",
       "      <td>-71.121186</td>\n",
       "      <td>(42.26260773, -71.12118637)</td>\n",
       "    </tr>\n",
       "    <tr>\n",
       "      <th>1</th>\n",
       "      <td>I182080053</td>\n",
       "      <td>3201</td>\n",
       "      <td>Property Lost</td>\n",
       "      <td>PROPERTY - LOST</td>\n",
       "      <td>D14</td>\n",
       "      <td>795</td>\n",
       "      <td>NaN</td>\n",
       "      <td>2018-08-30 20:00:00</td>\n",
       "      <td>2018</td>\n",
       "      <td>8</td>\n",
       "      <td>Thursday</td>\n",
       "      <td>20</td>\n",
       "      <td>Part Three</td>\n",
       "      <td>ALLSTON ST</td>\n",
       "      <td>42.352111</td>\n",
       "      <td>-71.135311</td>\n",
       "      <td>(42.35211146, -71.13531147)</td>\n",
       "    </tr>\n",
       "    <tr>\n",
       "      <th>2</th>\n",
       "      <td>I182080052</td>\n",
       "      <td>2647</td>\n",
       "      <td>Other</td>\n",
       "      <td>THREATS TO DO BODILY HARM</td>\n",
       "      <td>B2</td>\n",
       "      <td>329</td>\n",
       "      <td>NaN</td>\n",
       "      <td>2018-10-03 19:20:00</td>\n",
       "      <td>2018</td>\n",
       "      <td>10</td>\n",
       "      <td>Wednesday</td>\n",
       "      <td>19</td>\n",
       "      <td>Part Two</td>\n",
       "      <td>DEVON ST</td>\n",
       "      <td>42.308126</td>\n",
       "      <td>-71.076930</td>\n",
       "      <td>(42.30812619, -71.07692974)</td>\n",
       "    </tr>\n",
       "    <tr>\n",
       "      <th>3</th>\n",
       "      <td>I182080051</td>\n",
       "      <td>413</td>\n",
       "      <td>Aggravated Assault</td>\n",
       "      <td>ASSAULT - AGGRAVATED - BATTERY</td>\n",
       "      <td>A1</td>\n",
       "      <td>92</td>\n",
       "      <td>NaN</td>\n",
       "      <td>2018-10-03 20:00:00</td>\n",
       "      <td>2018</td>\n",
       "      <td>10</td>\n",
       "      <td>Wednesday</td>\n",
       "      <td>20</td>\n",
       "      <td>Part One</td>\n",
       "      <td>CAMBRIDGE ST</td>\n",
       "      <td>42.359454</td>\n",
       "      <td>-71.059648</td>\n",
       "      <td>(42.35945371, -71.05964817)</td>\n",
       "    </tr>\n",
       "    <tr>\n",
       "      <th>4</th>\n",
       "      <td>I182080050</td>\n",
       "      <td>3122</td>\n",
       "      <td>Aircraft</td>\n",
       "      <td>AIRCRAFT INCIDENTS</td>\n",
       "      <td>A7</td>\n",
       "      <td>36</td>\n",
       "      <td>NaN</td>\n",
       "      <td>2018-10-03 20:49:00</td>\n",
       "      <td>2018</td>\n",
       "      <td>10</td>\n",
       "      <td>Wednesday</td>\n",
       "      <td>20</td>\n",
       "      <td>Part Three</td>\n",
       "      <td>PRESCOTT ST</td>\n",
       "      <td>42.375258</td>\n",
       "      <td>-71.024663</td>\n",
       "      <td>(42.37525782, -71.02466343)</td>\n",
       "    </tr>\n",
       "  </tbody>\n",
       "</table>\n",
       "</div>"
      ],
      "text/plain": [
       "  INCIDENT_NUMBER  OFFENSE_CODE  OFFENSE_CODE_GROUP  \\\n",
       "0      I182080058          2403  Disorderly Conduct   \n",
       "1      I182080053          3201       Property Lost   \n",
       "2      I182080052          2647               Other   \n",
       "3      I182080051           413  Aggravated Assault   \n",
       "4      I182080050          3122            Aircraft   \n",
       "\n",
       "              OFFENSE_DESCRIPTION DISTRICT REPORTING_AREA SHOOTING  \\\n",
       "0            DISTURBING THE PEACE      E18            495      NaN   \n",
       "1                 PROPERTY - LOST      D14            795      NaN   \n",
       "2       THREATS TO DO BODILY HARM       B2            329      NaN   \n",
       "3  ASSAULT - AGGRAVATED - BATTERY       A1             92      NaN   \n",
       "4              AIRCRAFT INCIDENTS       A7             36      NaN   \n",
       "\n",
       "      OCCURRED_ON_DATE  YEAR  MONTH DAY_OF_WEEK  HOUR    UCR_PART  \\\n",
       "0  2018-10-03 20:13:00  2018     10   Wednesday    20    Part Two   \n",
       "1  2018-08-30 20:00:00  2018      8    Thursday    20  Part Three   \n",
       "2  2018-10-03 19:20:00  2018     10   Wednesday    19    Part Two   \n",
       "3  2018-10-03 20:00:00  2018     10   Wednesday    20    Part One   \n",
       "4  2018-10-03 20:49:00  2018     10   Wednesday    20  Part Three   \n",
       "\n",
       "         STREET        Lat       Long                     Location  \n",
       "0  ARLINGTON ST  42.262608 -71.121186  (42.26260773, -71.12118637)  \n",
       "1    ALLSTON ST  42.352111 -71.135311  (42.35211146, -71.13531147)  \n",
       "2      DEVON ST  42.308126 -71.076930  (42.30812619, -71.07692974)  \n",
       "3  CAMBRIDGE ST  42.359454 -71.059648  (42.35945371, -71.05964817)  \n",
       "4   PRESCOTT ST  42.375258 -71.024663  (42.37525782, -71.02466343)  "
      ]
     },
     "execution_count": 5,
     "metadata": {},
     "output_type": "execute_result"
    }
   ],
   "source": [
    "df.head()"
   ]
  },
  {
   "cell_type": "code",
   "execution_count": 6,
   "metadata": {
    "colab": {
     "base_uri": "https://localhost:8080/",
     "height": 357
    },
    "id": "lTME-rKpy-Da",
    "outputId": "64258f89-315f-4e60-bcb2-88182a48860a"
   },
   "outputs": [
    {
     "data": {
      "text/html": [
       "<div>\n",
       "<style scoped>\n",
       "    .dataframe tbody tr th:only-of-type {\n",
       "        vertical-align: middle;\n",
       "    }\n",
       "\n",
       "    .dataframe tbody tr th {\n",
       "        vertical-align: top;\n",
       "    }\n",
       "\n",
       "    .dataframe thead th {\n",
       "        text-align: right;\n",
       "    }\n",
       "</style>\n",
       "<table border=\"1\" class=\"dataframe\">\n",
       "  <thead>\n",
       "    <tr style=\"text-align: right;\">\n",
       "      <th></th>\n",
       "      <th>INCIDENT_NUMBER</th>\n",
       "      <th>OFFENSE_CODE</th>\n",
       "      <th>OFFENSE_CODE_GROUP</th>\n",
       "      <th>OFFENSE_DESCRIPTION</th>\n",
       "      <th>DISTRICT</th>\n",
       "      <th>REPORTING_AREA</th>\n",
       "      <th>SHOOTING</th>\n",
       "      <th>OCCURRED_ON_DATE</th>\n",
       "      <th>YEAR</th>\n",
       "      <th>MONTH</th>\n",
       "      <th>DAY_OF_WEEK</th>\n",
       "      <th>HOUR</th>\n",
       "      <th>UCR_PART</th>\n",
       "      <th>STREET</th>\n",
       "      <th>Lat</th>\n",
       "      <th>Long</th>\n",
       "      <th>Location</th>\n",
       "    </tr>\n",
       "  </thead>\n",
       "  <tbody>\n",
       "    <tr>\n",
       "      <th>319875</th>\n",
       "      <td>I152058320</td>\n",
       "      <td>3410</td>\n",
       "      <td>Towed</td>\n",
       "      <td>TOWED MOTOR VEHICLE</td>\n",
       "      <td>C6</td>\n",
       "      <td>207</td>\n",
       "      <td>NaN</td>\n",
       "      <td>2015-07-14 22:00:00</td>\n",
       "      <td>2015</td>\n",
       "      <td>7</td>\n",
       "      <td>Tuesday</td>\n",
       "      <td>22</td>\n",
       "      <td>Part Three</td>\n",
       "      <td>NORTHERN AVE</td>\n",
       "      <td>42.352351</td>\n",
       "      <td>-71.044636</td>\n",
       "      <td>(42.35235105, -71.04463592)</td>\n",
       "    </tr>\n",
       "    <tr>\n",
       "      <th>238946</th>\n",
       "      <td>I162038624</td>\n",
       "      <td>3501</td>\n",
       "      <td>Missing Person Reported</td>\n",
       "      <td>MISSING PERSON</td>\n",
       "      <td>C11</td>\n",
       "      <td>362</td>\n",
       "      <td>NaN</td>\n",
       "      <td>2016-05-16 12:00:00</td>\n",
       "      <td>2016</td>\n",
       "      <td>5</td>\n",
       "      <td>Monday</td>\n",
       "      <td>12</td>\n",
       "      <td>Part Three</td>\n",
       "      <td>MELVILLE AVE</td>\n",
       "      <td>42.293390</td>\n",
       "      <td>-71.071557</td>\n",
       "      <td>(42.29338993, -71.07155745)</td>\n",
       "    </tr>\n",
       "    <tr>\n",
       "      <th>30744</th>\n",
       "      <td>I182047038</td>\n",
       "      <td>2905</td>\n",
       "      <td>Violations</td>\n",
       "      <td>VAL - OPERATING WITHOUT LICENSE</td>\n",
       "      <td>B2</td>\n",
       "      <td>183</td>\n",
       "      <td>NaN</td>\n",
       "      <td>2018-06-16 21:46:00</td>\n",
       "      <td>2018</td>\n",
       "      <td>6</td>\n",
       "      <td>Saturday</td>\n",
       "      <td>21</td>\n",
       "      <td>Part Two</td>\n",
       "      <td>DUDLEY ST</td>\n",
       "      <td>42.321042</td>\n",
       "      <td>-71.072153</td>\n",
       "      <td>(42.32104169, -71.07215291)</td>\n",
       "    </tr>\n",
       "    <tr>\n",
       "      <th>170444</th>\n",
       "      <td>I172005773</td>\n",
       "      <td>3807</td>\n",
       "      <td>Motor Vehicle Accident Response</td>\n",
       "      <td>M/V ACCIDENT - OTHER CITY VEHICLE</td>\n",
       "      <td>C11</td>\n",
       "      <td>363</td>\n",
       "      <td>NaN</td>\n",
       "      <td>2017-01-22 11:35:00</td>\n",
       "      <td>2017</td>\n",
       "      <td>1</td>\n",
       "      <td>Sunday</td>\n",
       "      <td>11</td>\n",
       "      <td>Part Three</td>\n",
       "      <td>KING ST</td>\n",
       "      <td>42.292731</td>\n",
       "      <td>-71.058861</td>\n",
       "      <td>(42.29273124, -71.05886116)</td>\n",
       "    </tr>\n",
       "    <tr>\n",
       "      <th>227339</th>\n",
       "      <td>I162051023</td>\n",
       "      <td>3811</td>\n",
       "      <td>Motor Vehicle Accident Response</td>\n",
       "      <td>M/V ACCIDENT - INVOLVING BICYCLE - NO INJURY</td>\n",
       "      <td>B2</td>\n",
       "      <td>329</td>\n",
       "      <td>NaN</td>\n",
       "      <td>2016-06-27 13:00:00</td>\n",
       "      <td>2016</td>\n",
       "      <td>6</td>\n",
       "      <td>Monday</td>\n",
       "      <td>13</td>\n",
       "      <td>Part Three</td>\n",
       "      <td>WASHINGTON ST</td>\n",
       "      <td>42.305767</td>\n",
       "      <td>-71.080975</td>\n",
       "      <td>(42.30576686, -71.08097517)</td>\n",
       "    </tr>\n",
       "  </tbody>\n",
       "</table>\n",
       "</div>"
      ],
      "text/plain": [
       "       INCIDENT_NUMBER  OFFENSE_CODE               OFFENSE_CODE_GROUP  \\\n",
       "319875      I152058320          3410                            Towed   \n",
       "238946      I162038624          3501          Missing Person Reported   \n",
       "30744       I182047038          2905                       Violations   \n",
       "170444      I172005773          3807  Motor Vehicle Accident Response   \n",
       "227339      I162051023          3811  Motor Vehicle Accident Response   \n",
       "\n",
       "                                 OFFENSE_DESCRIPTION DISTRICT REPORTING_AREA  \\\n",
       "319875                           TOWED MOTOR VEHICLE       C6            207   \n",
       "238946                                MISSING PERSON      C11            362   \n",
       "30744                VAL - OPERATING WITHOUT LICENSE       B2            183   \n",
       "170444             M/V ACCIDENT - OTHER CITY VEHICLE      C11            363   \n",
       "227339  M/V ACCIDENT - INVOLVING BICYCLE - NO INJURY       B2            329   \n",
       "\n",
       "       SHOOTING     OCCURRED_ON_DATE  YEAR  MONTH DAY_OF_WEEK  HOUR  \\\n",
       "319875      NaN  2015-07-14 22:00:00  2015      7     Tuesday    22   \n",
       "238946      NaN  2016-05-16 12:00:00  2016      5      Monday    12   \n",
       "30744       NaN  2018-06-16 21:46:00  2018      6    Saturday    21   \n",
       "170444      NaN  2017-01-22 11:35:00  2017      1      Sunday    11   \n",
       "227339      NaN  2016-06-27 13:00:00  2016      6      Monday    13   \n",
       "\n",
       "          UCR_PART         STREET        Lat       Long  \\\n",
       "319875  Part Three   NORTHERN AVE  42.352351 -71.044636   \n",
       "238946  Part Three   MELVILLE AVE  42.293390 -71.071557   \n",
       "30744     Part Two      DUDLEY ST  42.321042 -71.072153   \n",
       "170444  Part Three        KING ST  42.292731 -71.058861   \n",
       "227339  Part Three  WASHINGTON ST  42.305767 -71.080975   \n",
       "\n",
       "                           Location  \n",
       "319875  (42.35235105, -71.04463592)  \n",
       "238946  (42.29338993, -71.07155745)  \n",
       "30744   (42.32104169, -71.07215291)  \n",
       "170444  (42.29273124, -71.05886116)  \n",
       "227339  (42.30576686, -71.08097517)  "
      ]
     },
     "execution_count": 6,
     "metadata": {},
     "output_type": "execute_result"
    }
   ],
   "source": [
    "df.sample(5)"
   ]
  },
  {
   "cell_type": "code",
   "execution_count": 7,
   "metadata": {
    "colab": {
     "base_uri": "https://localhost:8080/",
     "height": 391
    },
    "id": "_tHr10mZy_5Q",
    "outputId": "15aef49e-4cdd-4272-f260-d11b664b7871"
   },
   "outputs": [
    {
     "data": {
      "text/html": [
       "<div>\n",
       "<style scoped>\n",
       "    .dataframe tbody tr th:only-of-type {\n",
       "        vertical-align: middle;\n",
       "    }\n",
       "\n",
       "    .dataframe tbody tr th {\n",
       "        vertical-align: top;\n",
       "    }\n",
       "\n",
       "    .dataframe thead th {\n",
       "        text-align: right;\n",
       "    }\n",
       "</style>\n",
       "<table border=\"1\" class=\"dataframe\">\n",
       "  <thead>\n",
       "    <tr style=\"text-align: right;\">\n",
       "      <th></th>\n",
       "      <th>INCIDENT_NUMBER</th>\n",
       "      <th>OFFENSE_CODE</th>\n",
       "      <th>OFFENSE_CODE_GROUP</th>\n",
       "      <th>OFFENSE_DESCRIPTION</th>\n",
       "      <th>DISTRICT</th>\n",
       "      <th>REPORTING_AREA</th>\n",
       "      <th>SHOOTING</th>\n",
       "      <th>OCCURRED_ON_DATE</th>\n",
       "      <th>YEAR</th>\n",
       "      <th>MONTH</th>\n",
       "      <th>DAY_OF_WEEK</th>\n",
       "      <th>HOUR</th>\n",
       "      <th>UCR_PART</th>\n",
       "      <th>STREET</th>\n",
       "      <th>Lat</th>\n",
       "      <th>Long</th>\n",
       "      <th>Location</th>\n",
       "    </tr>\n",
       "  </thead>\n",
       "  <tbody>\n",
       "    <tr>\n",
       "      <th>327815</th>\n",
       "      <td>I050310906-00</td>\n",
       "      <td>3125</td>\n",
       "      <td>Warrant Arrests</td>\n",
       "      <td>WARRANT ARREST</td>\n",
       "      <td>D4</td>\n",
       "      <td>285</td>\n",
       "      <td>NaN</td>\n",
       "      <td>2016-06-05 17:25:00</td>\n",
       "      <td>2016</td>\n",
       "      <td>6</td>\n",
       "      <td>Sunday</td>\n",
       "      <td>17</td>\n",
       "      <td>Part Three</td>\n",
       "      <td>COVENTRY ST</td>\n",
       "      <td>42.336951</td>\n",
       "      <td>-71.085748</td>\n",
       "      <td>(42.33695098, -71.08574813)</td>\n",
       "    </tr>\n",
       "    <tr>\n",
       "      <th>327816</th>\n",
       "      <td>I030217815-08</td>\n",
       "      <td>111</td>\n",
       "      <td>Homicide</td>\n",
       "      <td>MURDER, NON-NEGLIGIENT MANSLAUGHTER</td>\n",
       "      <td>E18</td>\n",
       "      <td>520</td>\n",
       "      <td>NaN</td>\n",
       "      <td>2015-07-09 13:38:00</td>\n",
       "      <td>2015</td>\n",
       "      <td>7</td>\n",
       "      <td>Thursday</td>\n",
       "      <td>13</td>\n",
       "      <td>Part One</td>\n",
       "      <td>RIVER ST</td>\n",
       "      <td>42.255926</td>\n",
       "      <td>-71.123172</td>\n",
       "      <td>(42.25592648, -71.12317207)</td>\n",
       "    </tr>\n",
       "    <tr>\n",
       "      <th>327817</th>\n",
       "      <td>I030217815-08</td>\n",
       "      <td>3125</td>\n",
       "      <td>Warrant Arrests</td>\n",
       "      <td>WARRANT ARREST</td>\n",
       "      <td>E18</td>\n",
       "      <td>520</td>\n",
       "      <td>NaN</td>\n",
       "      <td>2015-07-09 13:38:00</td>\n",
       "      <td>2015</td>\n",
       "      <td>7</td>\n",
       "      <td>Thursday</td>\n",
       "      <td>13</td>\n",
       "      <td>Part Three</td>\n",
       "      <td>RIVER ST</td>\n",
       "      <td>42.255926</td>\n",
       "      <td>-71.123172</td>\n",
       "      <td>(42.25592648, -71.12317207)</td>\n",
       "    </tr>\n",
       "    <tr>\n",
       "      <th>327818</th>\n",
       "      <td>I010370257-00</td>\n",
       "      <td>3125</td>\n",
       "      <td>Warrant Arrests</td>\n",
       "      <td>WARRANT ARREST</td>\n",
       "      <td>E13</td>\n",
       "      <td>569</td>\n",
       "      <td>NaN</td>\n",
       "      <td>2016-05-31 19:35:00</td>\n",
       "      <td>2016</td>\n",
       "      <td>5</td>\n",
       "      <td>Tuesday</td>\n",
       "      <td>19</td>\n",
       "      <td>Part Three</td>\n",
       "      <td>NEW WASHINGTON ST</td>\n",
       "      <td>42.302333</td>\n",
       "      <td>-71.111565</td>\n",
       "      <td>(42.30233307, -71.11156487)</td>\n",
       "    </tr>\n",
       "    <tr>\n",
       "      <th>327819</th>\n",
       "      <td>142052550</td>\n",
       "      <td>3125</td>\n",
       "      <td>Warrant Arrests</td>\n",
       "      <td>WARRANT ARREST</td>\n",
       "      <td>D4</td>\n",
       "      <td>903</td>\n",
       "      <td>NaN</td>\n",
       "      <td>2015-06-22 00:12:00</td>\n",
       "      <td>2015</td>\n",
       "      <td>6</td>\n",
       "      <td>Monday</td>\n",
       "      <td>0</td>\n",
       "      <td>Part Three</td>\n",
       "      <td>WASHINGTON ST</td>\n",
       "      <td>42.333839</td>\n",
       "      <td>-71.080290</td>\n",
       "      <td>(42.33383935, -71.08029038)</td>\n",
       "    </tr>\n",
       "  </tbody>\n",
       "</table>\n",
       "</div>"
      ],
      "text/plain": [
       "       INCIDENT_NUMBER  OFFENSE_CODE OFFENSE_CODE_GROUP  \\\n",
       "327815   I050310906-00          3125    Warrant Arrests   \n",
       "327816   I030217815-08           111           Homicide   \n",
       "327817   I030217815-08          3125    Warrant Arrests   \n",
       "327818   I010370257-00          3125    Warrant Arrests   \n",
       "327819       142052550          3125    Warrant Arrests   \n",
       "\n",
       "                        OFFENSE_DESCRIPTION DISTRICT REPORTING_AREA SHOOTING  \\\n",
       "327815                       WARRANT ARREST       D4            285      NaN   \n",
       "327816  MURDER, NON-NEGLIGIENT MANSLAUGHTER      E18            520      NaN   \n",
       "327817                       WARRANT ARREST      E18            520      NaN   \n",
       "327818                       WARRANT ARREST      E13            569      NaN   \n",
       "327819                       WARRANT ARREST       D4            903      NaN   \n",
       "\n",
       "           OCCURRED_ON_DATE  YEAR  MONTH DAY_OF_WEEK  HOUR    UCR_PART  \\\n",
       "327815  2016-06-05 17:25:00  2016      6      Sunday    17  Part Three   \n",
       "327816  2015-07-09 13:38:00  2015      7    Thursday    13    Part One   \n",
       "327817  2015-07-09 13:38:00  2015      7    Thursday    13  Part Three   \n",
       "327818  2016-05-31 19:35:00  2016      5     Tuesday    19  Part Three   \n",
       "327819  2015-06-22 00:12:00  2015      6      Monday     0  Part Three   \n",
       "\n",
       "                   STREET        Lat       Long                     Location  \n",
       "327815        COVENTRY ST  42.336951 -71.085748  (42.33695098, -71.08574813)  \n",
       "327816           RIVER ST  42.255926 -71.123172  (42.25592648, -71.12317207)  \n",
       "327817           RIVER ST  42.255926 -71.123172  (42.25592648, -71.12317207)  \n",
       "327818  NEW WASHINGTON ST  42.302333 -71.111565  (42.30233307, -71.11156487)  \n",
       "327819      WASHINGTON ST  42.333839 -71.080290  (42.33383935, -71.08029038)  "
      ]
     },
     "execution_count": 7,
     "metadata": {},
     "output_type": "execute_result"
    }
   ],
   "source": [
    "df.tail()"
   ]
  },
  {
   "cell_type": "code",
   "execution_count": 8,
   "metadata": {
    "id": "R-4-0UjdinmJ"
   },
   "outputs": [],
   "source": [
    "df.drop(['INCIDENT_NUMBER','Location','OFFENSE_CODE'],axis=1,inplace =True)"
   ]
  },
  {
   "cell_type": "code",
   "execution_count": 9,
   "metadata": {
    "colab": {
     "base_uri": "https://localhost:8080/",
     "height": 713
    },
    "id": "GdkwVFckmoQ6",
    "outputId": "c9ee14e4-ed54-461c-d760-e37522036696"
   },
   "outputs": [
    {
     "data": {
      "text/html": [
       "<div>\n",
       "<style scoped>\n",
       "    .dataframe tbody tr th:only-of-type {\n",
       "        vertical-align: middle;\n",
       "    }\n",
       "\n",
       "    .dataframe tbody tr th {\n",
       "        vertical-align: top;\n",
       "    }\n",
       "\n",
       "    .dataframe thead th {\n",
       "        text-align: right;\n",
       "    }\n",
       "</style>\n",
       "<table border=\"1\" class=\"dataframe\">\n",
       "  <thead>\n",
       "    <tr style=\"text-align: right;\">\n",
       "      <th></th>\n",
       "      <th>OFFENSE_CODE_GROUP</th>\n",
       "      <th>OFFENSE_DESCRIPTION</th>\n",
       "      <th>DISTRICT</th>\n",
       "      <th>REPORTING_AREA</th>\n",
       "      <th>SHOOTING</th>\n",
       "      <th>OCCURRED_ON_DATE</th>\n",
       "      <th>YEAR</th>\n",
       "      <th>MONTH</th>\n",
       "      <th>DAY_OF_WEEK</th>\n",
       "      <th>HOUR</th>\n",
       "      <th>UCR_PART</th>\n",
       "      <th>STREET</th>\n",
       "      <th>Lat</th>\n",
       "      <th>Long</th>\n",
       "    </tr>\n",
       "  </thead>\n",
       "  <tbody>\n",
       "    <tr>\n",
       "      <th>0</th>\n",
       "      <td>Disorderly Conduct</td>\n",
       "      <td>DISTURBING THE PEACE</td>\n",
       "      <td>E18</td>\n",
       "      <td>495</td>\n",
       "      <td>NaN</td>\n",
       "      <td>2018-10-03 20:13:00</td>\n",
       "      <td>2018</td>\n",
       "      <td>10</td>\n",
       "      <td>Wednesday</td>\n",
       "      <td>20</td>\n",
       "      <td>Part Two</td>\n",
       "      <td>ARLINGTON ST</td>\n",
       "      <td>42.262608</td>\n",
       "      <td>-71.121186</td>\n",
       "    </tr>\n",
       "    <tr>\n",
       "      <th>1</th>\n",
       "      <td>Property Lost</td>\n",
       "      <td>PROPERTY - LOST</td>\n",
       "      <td>D14</td>\n",
       "      <td>795</td>\n",
       "      <td>NaN</td>\n",
       "      <td>2018-08-30 20:00:00</td>\n",
       "      <td>2018</td>\n",
       "      <td>8</td>\n",
       "      <td>Thursday</td>\n",
       "      <td>20</td>\n",
       "      <td>Part Three</td>\n",
       "      <td>ALLSTON ST</td>\n",
       "      <td>42.352111</td>\n",
       "      <td>-71.135311</td>\n",
       "    </tr>\n",
       "    <tr>\n",
       "      <th>2</th>\n",
       "      <td>Other</td>\n",
       "      <td>THREATS TO DO BODILY HARM</td>\n",
       "      <td>B2</td>\n",
       "      <td>329</td>\n",
       "      <td>NaN</td>\n",
       "      <td>2018-10-03 19:20:00</td>\n",
       "      <td>2018</td>\n",
       "      <td>10</td>\n",
       "      <td>Wednesday</td>\n",
       "      <td>19</td>\n",
       "      <td>Part Two</td>\n",
       "      <td>DEVON ST</td>\n",
       "      <td>42.308126</td>\n",
       "      <td>-71.076930</td>\n",
       "    </tr>\n",
       "    <tr>\n",
       "      <th>3</th>\n",
       "      <td>Aggravated Assault</td>\n",
       "      <td>ASSAULT - AGGRAVATED - BATTERY</td>\n",
       "      <td>A1</td>\n",
       "      <td>92</td>\n",
       "      <td>NaN</td>\n",
       "      <td>2018-10-03 20:00:00</td>\n",
       "      <td>2018</td>\n",
       "      <td>10</td>\n",
       "      <td>Wednesday</td>\n",
       "      <td>20</td>\n",
       "      <td>Part One</td>\n",
       "      <td>CAMBRIDGE ST</td>\n",
       "      <td>42.359454</td>\n",
       "      <td>-71.059648</td>\n",
       "    </tr>\n",
       "    <tr>\n",
       "      <th>4</th>\n",
       "      <td>Aircraft</td>\n",
       "      <td>AIRCRAFT INCIDENTS</td>\n",
       "      <td>A7</td>\n",
       "      <td>36</td>\n",
       "      <td>NaN</td>\n",
       "      <td>2018-10-03 20:49:00</td>\n",
       "      <td>2018</td>\n",
       "      <td>10</td>\n",
       "      <td>Wednesday</td>\n",
       "      <td>20</td>\n",
       "      <td>Part Three</td>\n",
       "      <td>PRESCOTT ST</td>\n",
       "      <td>42.375258</td>\n",
       "      <td>-71.024663</td>\n",
       "    </tr>\n",
       "    <tr>\n",
       "      <th>...</th>\n",
       "      <td>...</td>\n",
       "      <td>...</td>\n",
       "      <td>...</td>\n",
       "      <td>...</td>\n",
       "      <td>...</td>\n",
       "      <td>...</td>\n",
       "      <td>...</td>\n",
       "      <td>...</td>\n",
       "      <td>...</td>\n",
       "      <td>...</td>\n",
       "      <td>...</td>\n",
       "      <td>...</td>\n",
       "      <td>...</td>\n",
       "      <td>...</td>\n",
       "    </tr>\n",
       "    <tr>\n",
       "      <th>327815</th>\n",
       "      <td>Warrant Arrests</td>\n",
       "      <td>WARRANT ARREST</td>\n",
       "      <td>D4</td>\n",
       "      <td>285</td>\n",
       "      <td>NaN</td>\n",
       "      <td>2016-06-05 17:25:00</td>\n",
       "      <td>2016</td>\n",
       "      <td>6</td>\n",
       "      <td>Sunday</td>\n",
       "      <td>17</td>\n",
       "      <td>Part Three</td>\n",
       "      <td>COVENTRY ST</td>\n",
       "      <td>42.336951</td>\n",
       "      <td>-71.085748</td>\n",
       "    </tr>\n",
       "    <tr>\n",
       "      <th>327816</th>\n",
       "      <td>Homicide</td>\n",
       "      <td>MURDER, NON-NEGLIGIENT MANSLAUGHTER</td>\n",
       "      <td>E18</td>\n",
       "      <td>520</td>\n",
       "      <td>NaN</td>\n",
       "      <td>2015-07-09 13:38:00</td>\n",
       "      <td>2015</td>\n",
       "      <td>7</td>\n",
       "      <td>Thursday</td>\n",
       "      <td>13</td>\n",
       "      <td>Part One</td>\n",
       "      <td>RIVER ST</td>\n",
       "      <td>42.255926</td>\n",
       "      <td>-71.123172</td>\n",
       "    </tr>\n",
       "    <tr>\n",
       "      <th>327817</th>\n",
       "      <td>Warrant Arrests</td>\n",
       "      <td>WARRANT ARREST</td>\n",
       "      <td>E18</td>\n",
       "      <td>520</td>\n",
       "      <td>NaN</td>\n",
       "      <td>2015-07-09 13:38:00</td>\n",
       "      <td>2015</td>\n",
       "      <td>7</td>\n",
       "      <td>Thursday</td>\n",
       "      <td>13</td>\n",
       "      <td>Part Three</td>\n",
       "      <td>RIVER ST</td>\n",
       "      <td>42.255926</td>\n",
       "      <td>-71.123172</td>\n",
       "    </tr>\n",
       "    <tr>\n",
       "      <th>327818</th>\n",
       "      <td>Warrant Arrests</td>\n",
       "      <td>WARRANT ARREST</td>\n",
       "      <td>E13</td>\n",
       "      <td>569</td>\n",
       "      <td>NaN</td>\n",
       "      <td>2016-05-31 19:35:00</td>\n",
       "      <td>2016</td>\n",
       "      <td>5</td>\n",
       "      <td>Tuesday</td>\n",
       "      <td>19</td>\n",
       "      <td>Part Three</td>\n",
       "      <td>NEW WASHINGTON ST</td>\n",
       "      <td>42.302333</td>\n",
       "      <td>-71.111565</td>\n",
       "    </tr>\n",
       "    <tr>\n",
       "      <th>327819</th>\n",
       "      <td>Warrant Arrests</td>\n",
       "      <td>WARRANT ARREST</td>\n",
       "      <td>D4</td>\n",
       "      <td>903</td>\n",
       "      <td>NaN</td>\n",
       "      <td>2015-06-22 00:12:00</td>\n",
       "      <td>2015</td>\n",
       "      <td>6</td>\n",
       "      <td>Monday</td>\n",
       "      <td>0</td>\n",
       "      <td>Part Three</td>\n",
       "      <td>WASHINGTON ST</td>\n",
       "      <td>42.333839</td>\n",
       "      <td>-71.080290</td>\n",
       "    </tr>\n",
       "  </tbody>\n",
       "</table>\n",
       "<p>327820 rows × 14 columns</p>\n",
       "</div>"
      ],
      "text/plain": [
       "        OFFENSE_CODE_GROUP                  OFFENSE_DESCRIPTION DISTRICT  \\\n",
       "0       Disorderly Conduct                 DISTURBING THE PEACE      E18   \n",
       "1            Property Lost                      PROPERTY - LOST      D14   \n",
       "2                    Other            THREATS TO DO BODILY HARM       B2   \n",
       "3       Aggravated Assault       ASSAULT - AGGRAVATED - BATTERY       A1   \n",
       "4                 Aircraft                   AIRCRAFT INCIDENTS       A7   \n",
       "...                    ...                                  ...      ...   \n",
       "327815     Warrant Arrests                       WARRANT ARREST       D4   \n",
       "327816            Homicide  MURDER, NON-NEGLIGIENT MANSLAUGHTER      E18   \n",
       "327817     Warrant Arrests                       WARRANT ARREST      E18   \n",
       "327818     Warrant Arrests                       WARRANT ARREST      E13   \n",
       "327819     Warrant Arrests                       WARRANT ARREST       D4   \n",
       "\n",
       "       REPORTING_AREA SHOOTING     OCCURRED_ON_DATE  YEAR  MONTH DAY_OF_WEEK  \\\n",
       "0                 495      NaN  2018-10-03 20:13:00  2018     10   Wednesday   \n",
       "1                 795      NaN  2018-08-30 20:00:00  2018      8    Thursday   \n",
       "2                 329      NaN  2018-10-03 19:20:00  2018     10   Wednesday   \n",
       "3                  92      NaN  2018-10-03 20:00:00  2018     10   Wednesday   \n",
       "4                  36      NaN  2018-10-03 20:49:00  2018     10   Wednesday   \n",
       "...               ...      ...                  ...   ...    ...         ...   \n",
       "327815            285      NaN  2016-06-05 17:25:00  2016      6      Sunday   \n",
       "327816            520      NaN  2015-07-09 13:38:00  2015      7    Thursday   \n",
       "327817            520      NaN  2015-07-09 13:38:00  2015      7    Thursday   \n",
       "327818            569      NaN  2016-05-31 19:35:00  2016      5     Tuesday   \n",
       "327819            903      NaN  2015-06-22 00:12:00  2015      6      Monday   \n",
       "\n",
       "        HOUR    UCR_PART             STREET        Lat       Long  \n",
       "0         20    Part Two       ARLINGTON ST  42.262608 -71.121186  \n",
       "1         20  Part Three         ALLSTON ST  42.352111 -71.135311  \n",
       "2         19    Part Two           DEVON ST  42.308126 -71.076930  \n",
       "3         20    Part One       CAMBRIDGE ST  42.359454 -71.059648  \n",
       "4         20  Part Three        PRESCOTT ST  42.375258 -71.024663  \n",
       "...      ...         ...                ...        ...        ...  \n",
       "327815    17  Part Three        COVENTRY ST  42.336951 -71.085748  \n",
       "327816    13    Part One           RIVER ST  42.255926 -71.123172  \n",
       "327817    13  Part Three           RIVER ST  42.255926 -71.123172  \n",
       "327818    19  Part Three  NEW WASHINGTON ST  42.302333 -71.111565  \n",
       "327819     0  Part Three      WASHINGTON ST  42.333839 -71.080290  \n",
       "\n",
       "[327820 rows x 14 columns]"
      ]
     },
     "execution_count": 9,
     "metadata": {},
     "output_type": "execute_result"
    }
   ],
   "source": [
    "df"
   ]
  },
  {
   "cell_type": "markdown",
   "metadata": {
    "id": "MhM-5ofGvpDH"
   },
   "source": [
    "# Data Preprocessing |"
   ]
  },
  {
   "cell_type": "markdown",
   "metadata": {
    "id": "IMx1Ukua0SYB"
   },
   "source": [
    "## Data Cleaning"
   ]
  },
  {
   "cell_type": "code",
   "execution_count": 10,
   "metadata": {
    "colab": {
     "base_uri": "https://localhost:8080/"
    },
    "id": "4uqEiK2z0kzS",
    "outputId": "d257a323-eefa-4fa9-ae97-6363c167f297"
   },
   "outputs": [
    {
     "name": "stdout",
     "output_type": "stream",
     "text": [
      "<class 'pandas.core.frame.DataFrame'>\n",
      "RangeIndex: 327820 entries, 0 to 327819\n",
      "Data columns (total 14 columns):\n",
      " #   Column               Non-Null Count   Dtype  \n",
      "---  ------               --------------   -----  \n",
      " 0   OFFENSE_CODE_GROUP   327820 non-null  object \n",
      " 1   OFFENSE_DESCRIPTION  327820 non-null  object \n",
      " 2   DISTRICT             326046 non-null  object \n",
      " 3   REPORTING_AREA       327820 non-null  object \n",
      " 4   SHOOTING             1055 non-null    object \n",
      " 5   OCCURRED_ON_DATE     327820 non-null  object \n",
      " 6   YEAR                 327820 non-null  int64  \n",
      " 7   MONTH                327820 non-null  int64  \n",
      " 8   DAY_OF_WEEK          327820 non-null  object \n",
      " 9   HOUR                 327820 non-null  int64  \n",
      " 10  UCR_PART             327727 non-null  object \n",
      " 11  STREET               316843 non-null  object \n",
      " 12  Lat                  307188 non-null  float64\n",
      " 13  Long                 307188 non-null  float64\n",
      "dtypes: float64(2), int64(3), object(9)\n",
      "memory usage: 35.0+ MB\n"
     ]
    }
   ],
   "source": [
    "df.info()"
   ]
  },
  {
   "cell_type": "code",
   "execution_count": 11,
   "metadata": {
    "id": "S_jtc61qYxDr"
   },
   "outputs": [],
   "source": [
    "df['OCCURRED_ON_DATE'] = pd.to_datetime(df['OCCURRED_ON_DATE'], errors=\"coerce\")"
   ]
  },
  {
   "cell_type": "code",
   "execution_count": 12,
   "metadata": {
    "colab": {
     "base_uri": "https://localhost:8080/"
    },
    "id": "rVaIsEJq0oTH",
    "outputId": "622086e3-60c2-47a6-ac90-ef9c9caa52ec"
   },
   "outputs": [
    {
     "data": {
      "text/plain": [
       "232610     92\n",
       "39833     618\n",
       "133228     92\n",
       "309334    465\n",
       "15581     145\n",
       "69371     520\n",
       "15452     794\n",
       "250548    625\n",
       "226492    273\n",
       "162803    128\n",
       "Name: REPORTING_AREA, dtype: object"
      ]
     },
     "execution_count": 12,
     "metadata": {},
     "output_type": "execute_result"
    }
   ],
   "source": [
    "df['REPORTING_AREA'].sample(10)\n"
   ]
  },
  {
   "cell_type": "code",
   "execution_count": 13,
   "metadata": {
    "colab": {
     "base_uri": "https://localhost:8080/"
    },
    "id": "YsBl6_nL399o",
    "outputId": "ae4565a9-a9eb-46b1-8d8a-1d9fadf2493b"
   },
   "outputs": [
    {
     "data": {
      "text/plain": [
       "count     327820\n",
       "unique       880\n",
       "top             \n",
       "freq       20920\n",
       "Name: REPORTING_AREA, dtype: object"
      ]
     },
     "execution_count": 13,
     "metadata": {},
     "output_type": "execute_result"
    }
   ],
   "source": [
    "df['REPORTING_AREA'].describe()"
   ]
  },
  {
   "cell_type": "code",
   "execution_count": 14,
   "metadata": {
    "colab": {
     "base_uri": "https://localhost:8080/",
     "height": 35
    },
    "id": "SXlWU_RN3HdB",
    "outputId": "d0c13fc9-4901-4c2c-bf64-e112ecd5ac3c"
   },
   "outputs": [
    {
     "data": {
      "text/plain": [
       "' '"
      ]
     },
     "execution_count": 14,
     "metadata": {},
     "output_type": "execute_result"
    }
   ],
   "source": [
    "df['REPORTING_AREA'].mode()[0]"
   ]
  },
  {
   "cell_type": "code",
   "execution_count": 15,
   "metadata": {
    "id": "gk5JBgxd24Sn"
   },
   "outputs": [],
   "source": [
    "df['REPORTING_AREA'] =df['REPORTING_AREA'].replace(' ',np.nan)"
   ]
  },
  {
   "cell_type": "code",
   "execution_count": 16,
   "metadata": {
    "colab": {
     "base_uri": "https://localhost:8080/"
    },
    "id": "fiJdjOAx9wgW",
    "outputId": "d834af79-c6a4-4c9c-84f5-2047b10c7df2"
   },
   "outputs": [
    {
     "data": {
      "text/plain": [
       "0    495\n",
       "1    795\n",
       "2    329\n",
       "3     92\n",
       "4     36\n",
       "5    351\n",
       "6    NaN\n",
       "7    603\n",
       "8    543\n",
       "9    621\n",
       "Name: REPORTING_AREA, dtype: object"
      ]
     },
     "execution_count": 16,
     "metadata": {},
     "output_type": "execute_result"
    }
   ],
   "source": [
    "df['REPORTING_AREA'].head(10)"
   ]
  },
  {
   "cell_type": "code",
   "execution_count": 17,
   "metadata": {
    "id": "whGliKPcylK1"
   },
   "outputs": [],
   "source": [
    "df['Lat'] = df['Lat'].replace(-1,df['Lat'].mean())"
   ]
  },
  {
   "cell_type": "code",
   "execution_count": 18,
   "metadata": {
    "colab": {
     "base_uri": "https://localhost:8080/",
     "height": 300
    },
    "id": "wdOTHj5W1hZl",
    "outputId": "22c8920a-8623-4862-a09f-c141e6d6367f"
   },
   "outputs": [
    {
     "data": {
      "text/html": [
       "<div>\n",
       "<style scoped>\n",
       "    .dataframe tbody tr th:only-of-type {\n",
       "        vertical-align: middle;\n",
       "    }\n",
       "\n",
       "    .dataframe tbody tr th {\n",
       "        vertical-align: top;\n",
       "    }\n",
       "\n",
       "    .dataframe thead th {\n",
       "        text-align: right;\n",
       "    }\n",
       "</style>\n",
       "<table border=\"1\" class=\"dataframe\">\n",
       "  <thead>\n",
       "    <tr style=\"text-align: right;\">\n",
       "      <th></th>\n",
       "      <th>YEAR</th>\n",
       "      <th>MONTH</th>\n",
       "      <th>HOUR</th>\n",
       "      <th>Lat</th>\n",
       "      <th>Long</th>\n",
       "    </tr>\n",
       "  </thead>\n",
       "  <tbody>\n",
       "    <tr>\n",
       "      <th>count</th>\n",
       "      <td>327820.000000</td>\n",
       "      <td>327820.000000</td>\n",
       "      <td>327820.000000</td>\n",
       "      <td>307188.000000</td>\n",
       "      <td>307188.000000</td>\n",
       "    </tr>\n",
       "    <tr>\n",
       "      <th>mean</th>\n",
       "      <td>2016.598676</td>\n",
       "      <td>6.672213</td>\n",
       "      <td>13.114840</td>\n",
       "      <td>42.322016</td>\n",
       "      <td>-70.906030</td>\n",
       "    </tr>\n",
       "    <tr>\n",
       "      <th>std</th>\n",
       "      <td>1.009775</td>\n",
       "      <td>3.253984</td>\n",
       "      <td>6.292714</td>\n",
       "      <td>0.032287</td>\n",
       "      <td>3.515832</td>\n",
       "    </tr>\n",
       "    <tr>\n",
       "      <th>min</th>\n",
       "      <td>2015.000000</td>\n",
       "      <td>1.000000</td>\n",
       "      <td>0.000000</td>\n",
       "      <td>42.212995</td>\n",
       "      <td>-71.178674</td>\n",
       "    </tr>\n",
       "    <tr>\n",
       "      <th>25%</th>\n",
       "      <td>2016.000000</td>\n",
       "      <td>4.000000</td>\n",
       "      <td>9.000000</td>\n",
       "      <td>42.297466</td>\n",
       "      <td>-71.097081</td>\n",
       "    </tr>\n",
       "    <tr>\n",
       "      <th>50%</th>\n",
       "      <td>2017.000000</td>\n",
       "      <td>7.000000</td>\n",
       "      <td>14.000000</td>\n",
       "      <td>42.325552</td>\n",
       "      <td>-71.077493</td>\n",
       "    </tr>\n",
       "    <tr>\n",
       "      <th>75%</th>\n",
       "      <td>2017.000000</td>\n",
       "      <td>9.000000</td>\n",
       "      <td>18.000000</td>\n",
       "      <td>42.348624</td>\n",
       "      <td>-71.062482</td>\n",
       "    </tr>\n",
       "    <tr>\n",
       "      <th>max</th>\n",
       "      <td>2018.000000</td>\n",
       "      <td>12.000000</td>\n",
       "      <td>23.000000</td>\n",
       "      <td>42.395042</td>\n",
       "      <td>-1.000000</td>\n",
       "    </tr>\n",
       "  </tbody>\n",
       "</table>\n",
       "</div>"
      ],
      "text/plain": [
       "                YEAR          MONTH           HOUR            Lat  \\\n",
       "count  327820.000000  327820.000000  327820.000000  307188.000000   \n",
       "mean     2016.598676       6.672213      13.114840      42.322016   \n",
       "std         1.009775       3.253984       6.292714       0.032287   \n",
       "min      2015.000000       1.000000       0.000000      42.212995   \n",
       "25%      2016.000000       4.000000       9.000000      42.297466   \n",
       "50%      2017.000000       7.000000      14.000000      42.325552   \n",
       "75%      2017.000000       9.000000      18.000000      42.348624   \n",
       "max      2018.000000      12.000000      23.000000      42.395042   \n",
       "\n",
       "                Long  \n",
       "count  307188.000000  \n",
       "mean      -70.906030  \n",
       "std         3.515832  \n",
       "min       -71.178674  \n",
       "25%       -71.097081  \n",
       "50%       -71.077493  \n",
       "75%       -71.062482  \n",
       "max        -1.000000  "
      ]
     },
     "execution_count": 18,
     "metadata": {},
     "output_type": "execute_result"
    }
   ],
   "source": [
    "df.describe()"
   ]
  },
  {
   "cell_type": "code",
   "execution_count": 19,
   "metadata": {
    "colab": {
     "base_uri": "https://localhost:8080/"
    },
    "id": "jf6EStJxyq1W",
    "outputId": "d63d6a46-95ab-4d65-e734-be74c460b0c9"
   },
   "outputs": [
    {
     "data": {
      "text/plain": [
       "array([nan, 'Y'], dtype=object)"
      ]
     },
     "execution_count": 19,
     "metadata": {},
     "output_type": "execute_result"
    }
   ],
   "source": [
    "df['SHOOTING'].unique()"
   ]
  },
  {
   "cell_type": "code",
   "execution_count": 20,
   "metadata": {
    "id": "lI4ReUnax2jo"
   },
   "outputs": [],
   "source": [
    "dict_shooting = {\n",
    "    np.nan : 'No',\n",
    "     'Y' : 'Yes'}\n",
    "df['SHOOTING'] = df['SHOOTING'].map(dict_shooting)"
   ]
  },
  {
   "cell_type": "code",
   "execution_count": 21,
   "metadata": {
    "colab": {
     "base_uri": "https://localhost:8080/"
    },
    "id": "Wr259im9yg5q",
    "outputId": "4e24344b-138c-4ff7-f66d-60cd00b2ac7e"
   },
   "outputs": [
    {
     "data": {
      "text/plain": [
       "array(['No', 'Yes'], dtype=object)"
      ]
     },
     "execution_count": 21,
     "metadata": {},
     "output_type": "execute_result"
    }
   ],
   "source": [
    "df['SHOOTING'].unique()"
   ]
  },
  {
   "cell_type": "code",
   "execution_count": 22,
   "metadata": {
    "colab": {
     "base_uri": "https://localhost:8080/"
    },
    "id": "XGtzXUjA11vb",
    "outputId": "facc6c80-4fb9-4ba9-dddb-2af3a66ca60d"
   },
   "outputs": [
    {
     "name": "stdout",
     "output_type": "stream",
     "text": [
      "<class 'pandas.core.frame.DataFrame'>\n",
      "RangeIndex: 327820 entries, 0 to 327819\n",
      "Data columns (total 14 columns):\n",
      " #   Column               Non-Null Count   Dtype         \n",
      "---  ------               --------------   -----         \n",
      " 0   OFFENSE_CODE_GROUP   327820 non-null  object        \n",
      " 1   OFFENSE_DESCRIPTION  327820 non-null  object        \n",
      " 2   DISTRICT             326046 non-null  object        \n",
      " 3   REPORTING_AREA       306900 non-null  object        \n",
      " 4   SHOOTING             327820 non-null  object        \n",
      " 5   OCCURRED_ON_DATE     327820 non-null  datetime64[ns]\n",
      " 6   YEAR                 327820 non-null  int64         \n",
      " 7   MONTH                327820 non-null  int64         \n",
      " 8   DAY_OF_WEEK          327820 non-null  object        \n",
      " 9   HOUR                 327820 non-null  int64         \n",
      " 10  UCR_PART             327727 non-null  object        \n",
      " 11  STREET               316843 non-null  object        \n",
      " 12  Lat                  307188 non-null  float64       \n",
      " 13  Long                 307188 non-null  float64       \n",
      "dtypes: datetime64[ns](1), float64(2), int64(3), object(8)\n",
      "memory usage: 35.0+ MB\n"
     ]
    }
   ],
   "source": [
    "df.info()"
   ]
  },
  {
   "cell_type": "code",
   "execution_count": 23,
   "metadata": {
    "colab": {
     "base_uri": "https://localhost:8080/",
     "height": 713
    },
    "id": "r7MicxZFx0iJ",
    "outputId": "c61450a4-4e73-4043-d542-2768ba988749"
   },
   "outputs": [
    {
     "data": {
      "text/html": [
       "<div>\n",
       "<style scoped>\n",
       "    .dataframe tbody tr th:only-of-type {\n",
       "        vertical-align: middle;\n",
       "    }\n",
       "\n",
       "    .dataframe tbody tr th {\n",
       "        vertical-align: top;\n",
       "    }\n",
       "\n",
       "    .dataframe thead th {\n",
       "        text-align: right;\n",
       "    }\n",
       "</style>\n",
       "<table border=\"1\" class=\"dataframe\">\n",
       "  <thead>\n",
       "    <tr style=\"text-align: right;\">\n",
       "      <th></th>\n",
       "      <th>OFFENSE_CODE_GROUP</th>\n",
       "      <th>OFFENSE_DESCRIPTION</th>\n",
       "      <th>DISTRICT</th>\n",
       "      <th>REPORTING_AREA</th>\n",
       "      <th>SHOOTING</th>\n",
       "      <th>OCCURRED_ON_DATE</th>\n",
       "      <th>YEAR</th>\n",
       "      <th>MONTH</th>\n",
       "      <th>DAY_OF_WEEK</th>\n",
       "      <th>HOUR</th>\n",
       "      <th>UCR_PART</th>\n",
       "      <th>STREET</th>\n",
       "      <th>Lat</th>\n",
       "      <th>Long</th>\n",
       "    </tr>\n",
       "  </thead>\n",
       "  <tbody>\n",
       "    <tr>\n",
       "      <th>0</th>\n",
       "      <td>Disorderly Conduct</td>\n",
       "      <td>DISTURBING THE PEACE</td>\n",
       "      <td>E18</td>\n",
       "      <td>495</td>\n",
       "      <td>No</td>\n",
       "      <td>2018-10-03 20:13:00</td>\n",
       "      <td>2018</td>\n",
       "      <td>10</td>\n",
       "      <td>Wednesday</td>\n",
       "      <td>20</td>\n",
       "      <td>Part Two</td>\n",
       "      <td>ARLINGTON ST</td>\n",
       "      <td>42.262608</td>\n",
       "      <td>-71.121186</td>\n",
       "    </tr>\n",
       "    <tr>\n",
       "      <th>1</th>\n",
       "      <td>Property Lost</td>\n",
       "      <td>PROPERTY - LOST</td>\n",
       "      <td>D14</td>\n",
       "      <td>795</td>\n",
       "      <td>No</td>\n",
       "      <td>2018-08-30 20:00:00</td>\n",
       "      <td>2018</td>\n",
       "      <td>8</td>\n",
       "      <td>Thursday</td>\n",
       "      <td>20</td>\n",
       "      <td>Part Three</td>\n",
       "      <td>ALLSTON ST</td>\n",
       "      <td>42.352111</td>\n",
       "      <td>-71.135311</td>\n",
       "    </tr>\n",
       "    <tr>\n",
       "      <th>2</th>\n",
       "      <td>Other</td>\n",
       "      <td>THREATS TO DO BODILY HARM</td>\n",
       "      <td>B2</td>\n",
       "      <td>329</td>\n",
       "      <td>No</td>\n",
       "      <td>2018-10-03 19:20:00</td>\n",
       "      <td>2018</td>\n",
       "      <td>10</td>\n",
       "      <td>Wednesday</td>\n",
       "      <td>19</td>\n",
       "      <td>Part Two</td>\n",
       "      <td>DEVON ST</td>\n",
       "      <td>42.308126</td>\n",
       "      <td>-71.076930</td>\n",
       "    </tr>\n",
       "    <tr>\n",
       "      <th>3</th>\n",
       "      <td>Aggravated Assault</td>\n",
       "      <td>ASSAULT - AGGRAVATED - BATTERY</td>\n",
       "      <td>A1</td>\n",
       "      <td>92</td>\n",
       "      <td>No</td>\n",
       "      <td>2018-10-03 20:00:00</td>\n",
       "      <td>2018</td>\n",
       "      <td>10</td>\n",
       "      <td>Wednesday</td>\n",
       "      <td>20</td>\n",
       "      <td>Part One</td>\n",
       "      <td>CAMBRIDGE ST</td>\n",
       "      <td>42.359454</td>\n",
       "      <td>-71.059648</td>\n",
       "    </tr>\n",
       "    <tr>\n",
       "      <th>4</th>\n",
       "      <td>Aircraft</td>\n",
       "      <td>AIRCRAFT INCIDENTS</td>\n",
       "      <td>A7</td>\n",
       "      <td>36</td>\n",
       "      <td>No</td>\n",
       "      <td>2018-10-03 20:49:00</td>\n",
       "      <td>2018</td>\n",
       "      <td>10</td>\n",
       "      <td>Wednesday</td>\n",
       "      <td>20</td>\n",
       "      <td>Part Three</td>\n",
       "      <td>PRESCOTT ST</td>\n",
       "      <td>42.375258</td>\n",
       "      <td>-71.024663</td>\n",
       "    </tr>\n",
       "    <tr>\n",
       "      <th>...</th>\n",
       "      <td>...</td>\n",
       "      <td>...</td>\n",
       "      <td>...</td>\n",
       "      <td>...</td>\n",
       "      <td>...</td>\n",
       "      <td>...</td>\n",
       "      <td>...</td>\n",
       "      <td>...</td>\n",
       "      <td>...</td>\n",
       "      <td>...</td>\n",
       "      <td>...</td>\n",
       "      <td>...</td>\n",
       "      <td>...</td>\n",
       "      <td>...</td>\n",
       "    </tr>\n",
       "    <tr>\n",
       "      <th>327815</th>\n",
       "      <td>Warrant Arrests</td>\n",
       "      <td>WARRANT ARREST</td>\n",
       "      <td>D4</td>\n",
       "      <td>285</td>\n",
       "      <td>No</td>\n",
       "      <td>2016-06-05 17:25:00</td>\n",
       "      <td>2016</td>\n",
       "      <td>6</td>\n",
       "      <td>Sunday</td>\n",
       "      <td>17</td>\n",
       "      <td>Part Three</td>\n",
       "      <td>COVENTRY ST</td>\n",
       "      <td>42.336951</td>\n",
       "      <td>-71.085748</td>\n",
       "    </tr>\n",
       "    <tr>\n",
       "      <th>327816</th>\n",
       "      <td>Homicide</td>\n",
       "      <td>MURDER, NON-NEGLIGIENT MANSLAUGHTER</td>\n",
       "      <td>E18</td>\n",
       "      <td>520</td>\n",
       "      <td>No</td>\n",
       "      <td>2015-07-09 13:38:00</td>\n",
       "      <td>2015</td>\n",
       "      <td>7</td>\n",
       "      <td>Thursday</td>\n",
       "      <td>13</td>\n",
       "      <td>Part One</td>\n",
       "      <td>RIVER ST</td>\n",
       "      <td>42.255926</td>\n",
       "      <td>-71.123172</td>\n",
       "    </tr>\n",
       "    <tr>\n",
       "      <th>327817</th>\n",
       "      <td>Warrant Arrests</td>\n",
       "      <td>WARRANT ARREST</td>\n",
       "      <td>E18</td>\n",
       "      <td>520</td>\n",
       "      <td>No</td>\n",
       "      <td>2015-07-09 13:38:00</td>\n",
       "      <td>2015</td>\n",
       "      <td>7</td>\n",
       "      <td>Thursday</td>\n",
       "      <td>13</td>\n",
       "      <td>Part Three</td>\n",
       "      <td>RIVER ST</td>\n",
       "      <td>42.255926</td>\n",
       "      <td>-71.123172</td>\n",
       "    </tr>\n",
       "    <tr>\n",
       "      <th>327818</th>\n",
       "      <td>Warrant Arrests</td>\n",
       "      <td>WARRANT ARREST</td>\n",
       "      <td>E13</td>\n",
       "      <td>569</td>\n",
       "      <td>No</td>\n",
       "      <td>2016-05-31 19:35:00</td>\n",
       "      <td>2016</td>\n",
       "      <td>5</td>\n",
       "      <td>Tuesday</td>\n",
       "      <td>19</td>\n",
       "      <td>Part Three</td>\n",
       "      <td>NEW WASHINGTON ST</td>\n",
       "      <td>42.302333</td>\n",
       "      <td>-71.111565</td>\n",
       "    </tr>\n",
       "    <tr>\n",
       "      <th>327819</th>\n",
       "      <td>Warrant Arrests</td>\n",
       "      <td>WARRANT ARREST</td>\n",
       "      <td>D4</td>\n",
       "      <td>903</td>\n",
       "      <td>No</td>\n",
       "      <td>2015-06-22 00:12:00</td>\n",
       "      <td>2015</td>\n",
       "      <td>6</td>\n",
       "      <td>Monday</td>\n",
       "      <td>0</td>\n",
       "      <td>Part Three</td>\n",
       "      <td>WASHINGTON ST</td>\n",
       "      <td>42.333839</td>\n",
       "      <td>-71.080290</td>\n",
       "    </tr>\n",
       "  </tbody>\n",
       "</table>\n",
       "<p>327820 rows × 14 columns</p>\n",
       "</div>"
      ],
      "text/plain": [
       "        OFFENSE_CODE_GROUP                  OFFENSE_DESCRIPTION DISTRICT  \\\n",
       "0       Disorderly Conduct                 DISTURBING THE PEACE      E18   \n",
       "1            Property Lost                      PROPERTY - LOST      D14   \n",
       "2                    Other            THREATS TO DO BODILY HARM       B2   \n",
       "3       Aggravated Assault       ASSAULT - AGGRAVATED - BATTERY       A1   \n",
       "4                 Aircraft                   AIRCRAFT INCIDENTS       A7   \n",
       "...                    ...                                  ...      ...   \n",
       "327815     Warrant Arrests                       WARRANT ARREST       D4   \n",
       "327816            Homicide  MURDER, NON-NEGLIGIENT MANSLAUGHTER      E18   \n",
       "327817     Warrant Arrests                       WARRANT ARREST      E18   \n",
       "327818     Warrant Arrests                       WARRANT ARREST      E13   \n",
       "327819     Warrant Arrests                       WARRANT ARREST       D4   \n",
       "\n",
       "       REPORTING_AREA SHOOTING    OCCURRED_ON_DATE  YEAR  MONTH DAY_OF_WEEK  \\\n",
       "0                 495       No 2018-10-03 20:13:00  2018     10   Wednesday   \n",
       "1                 795       No 2018-08-30 20:00:00  2018      8    Thursday   \n",
       "2                 329       No 2018-10-03 19:20:00  2018     10   Wednesday   \n",
       "3                  92       No 2018-10-03 20:00:00  2018     10   Wednesday   \n",
       "4                  36       No 2018-10-03 20:49:00  2018     10   Wednesday   \n",
       "...               ...      ...                 ...   ...    ...         ...   \n",
       "327815            285       No 2016-06-05 17:25:00  2016      6      Sunday   \n",
       "327816            520       No 2015-07-09 13:38:00  2015      7    Thursday   \n",
       "327817            520       No 2015-07-09 13:38:00  2015      7    Thursday   \n",
       "327818            569       No 2016-05-31 19:35:00  2016      5     Tuesday   \n",
       "327819            903       No 2015-06-22 00:12:00  2015      6      Monday   \n",
       "\n",
       "        HOUR    UCR_PART             STREET        Lat       Long  \n",
       "0         20    Part Two       ARLINGTON ST  42.262608 -71.121186  \n",
       "1         20  Part Three         ALLSTON ST  42.352111 -71.135311  \n",
       "2         19    Part Two           DEVON ST  42.308126 -71.076930  \n",
       "3         20    Part One       CAMBRIDGE ST  42.359454 -71.059648  \n",
       "4         20  Part Three        PRESCOTT ST  42.375258 -71.024663  \n",
       "...      ...         ...                ...        ...        ...  \n",
       "327815    17  Part Three        COVENTRY ST  42.336951 -71.085748  \n",
       "327816    13    Part One           RIVER ST  42.255926 -71.123172  \n",
       "327817    13  Part Three           RIVER ST  42.255926 -71.123172  \n",
       "327818    19  Part Three  NEW WASHINGTON ST  42.302333 -71.111565  \n",
       "327819     0  Part Three      WASHINGTON ST  42.333839 -71.080290  \n",
       "\n",
       "[327820 rows x 14 columns]"
      ]
     },
     "execution_count": 23,
     "metadata": {},
     "output_type": "execute_result"
    }
   ],
   "source": [
    "df"
   ]
  },
  {
   "cell_type": "markdown",
   "metadata": {
    "id": "PvQzifDg4M1P"
   },
   "source": [
    "## Handling Missing Data"
   ]
  },
  {
   "cell_type": "code",
   "execution_count": 24,
   "metadata": {
    "colab": {
     "base_uri": "https://localhost:8080/"
    },
    "id": "rW5uS1Tdz5qJ",
    "outputId": "554e6f1b-13e5-4cb3-9459-841f9c091412"
   },
   "outputs": [
    {
     "data": {
      "text/plain": [
       "OFFENSE_CODE_GROUP         0\n",
       "OFFENSE_DESCRIPTION        0\n",
       "DISTRICT                1774\n",
       "REPORTING_AREA         20920\n",
       "SHOOTING                   0\n",
       "OCCURRED_ON_DATE           0\n",
       "YEAR                       0\n",
       "MONTH                      0\n",
       "DAY_OF_WEEK                0\n",
       "HOUR                       0\n",
       "UCR_PART                  93\n",
       "STREET                 10977\n",
       "Lat                    20632\n",
       "Long                   20632\n",
       "dtype: int64"
      ]
     },
     "execution_count": 24,
     "metadata": {},
     "output_type": "execute_result"
    }
   ],
   "source": [
    "df.isnull().sum()"
   ]
  },
  {
   "cell_type": "code",
   "execution_count": 25,
   "metadata": {
    "colab": {
     "base_uri": "https://localhost:8080/"
    },
    "id": "pcNx75ib2Ilo",
    "outputId": "4c7f1d69-a55e-40bc-8f44-2a6c681e1beb"
   },
   "outputs": [
    {
     "name": "stdout",
     "output_type": "stream",
     "text": [
      "OFFENSE_CODE_GROUP  -  0%\n",
      "OFFENSE_DESCRIPTION  -  0%\n",
      "DISTRICT  -  1%\n",
      "REPORTING_AREA  -  6%\n",
      "SHOOTING  -  0%\n",
      "OCCURRED_ON_DATE  -  0%\n",
      "YEAR  -  0%\n",
      "MONTH  -  0%\n",
      "DAY_OF_WEEK  -  0%\n",
      "HOUR  -  0%\n",
      "UCR_PART  -  0%\n",
      "STREET  -  3%\n",
      "Lat  -  6%\n",
      "Long  -  6%\n"
     ]
    }
   ],
   "source": [
    "#Return percentage of missing values in each column  \n",
    "for col in df.columns:\n",
    "    pct_missing = np.mean(df[col].isnull())\n",
    "    print('{}  -  {}%'.format(col, round(pct_missing*100)))"
   ]
  },
  {
   "cell_type": "code",
   "execution_count": 26,
   "metadata": {
    "id": "NV7NiAOD2S4l"
   },
   "outputs": [],
   "source": [
    "df[['Lat','Long']] = df[['Lat','Long']].fillna(df[['Lat','Long']].mean())"
   ]
  },
  {
   "cell_type": "code",
   "execution_count": 27,
   "metadata": {
    "id": "M7Uf3CVW4lo7"
   },
   "outputs": [],
   "source": [
    "df['STREET'] =df['STREET'].fillna('Unknown')"
   ]
  },
  {
   "cell_type": "code",
   "execution_count": 28,
   "metadata": {
    "colab": {
     "base_uri": "https://localhost:8080/"
    },
    "id": "i-9Gv3je5m7s",
    "outputId": "53edc77c-43a1-4ee4-a9e6-2a7e0725f7b6"
   },
   "outputs": [
    {
     "data": {
      "text/plain": [
       "WASHINGTON ST        14590\n",
       "Unknown              10977\n",
       "BLUE HILL AVE         8002\n",
       "BOYLSTON ST           7425\n",
       "DORCHESTER AVE        5297\n",
       "TREMONT ST            4925\n",
       "MASSACHUSETTS AVE     4865\n",
       "HARRISON AVE          4739\n",
       "CENTRE ST             4487\n",
       "COMMONWEALTH AVE      4291\n",
       "Name: STREET, dtype: int64"
      ]
     },
     "execution_count": 28,
     "metadata": {},
     "output_type": "execute_result"
    }
   ],
   "source": [
    "df['STREET'].value_counts().head(10)"
   ]
  },
  {
   "cell_type": "code",
   "execution_count": 29,
   "metadata": {
    "id": "kz3R2xH75kyn"
   },
   "outputs": [],
   "source": [
    "df['DISTRICT'] =df['DISTRICT'].fillna('Unknown')"
   ]
  },
  {
   "cell_type": "code",
   "execution_count": 30,
   "metadata": {
    "colab": {
     "base_uri": "https://localhost:8080/"
    },
    "id": "lQ2h8EK954-T",
    "outputId": "a04fca9d-68e2-4dd6-a890-dac15c2a0ac6"
   },
   "outputs": [
    {
     "data": {
      "text/plain": [
       "B2         51288\n",
       "C11        43817\n",
       "D4         43338\n",
       "A1         36735\n",
       "B3         36400\n",
       "C6         24190\n",
       "D14        20632\n",
       "E13        17981\n",
       "E18        17825\n",
       "A7         13634\n",
       "E5         13543\n",
       "A15         6663\n",
       "Unknown     1774\n",
       "Name: DISTRICT, dtype: int64"
      ]
     },
     "execution_count": 30,
     "metadata": {},
     "output_type": "execute_result"
    }
   ],
   "source": [
    "df['DISTRICT'].value_counts().head(13)"
   ]
  },
  {
   "cell_type": "code",
   "execution_count": 31,
   "metadata": {
    "id": "yrzB4rW4-BrG"
   },
   "outputs": [],
   "source": [
    "df['UCR_PART'] = df['UCR_PART'].fillna('Unknown')"
   ]
  },
  {
   "cell_type": "code",
   "execution_count": 32,
   "metadata": {
    "id": "ivRHvj-HaxKq"
   },
   "outputs": [],
   "source": [
    "df.drop('REPORTING_AREA',axis=1,inplace=True)"
   ]
  },
  {
   "cell_type": "code",
   "execution_count": 33,
   "metadata": {
    "colab": {
     "base_uri": "https://localhost:8080/"
    },
    "id": "wDvtGLNDCSM4",
    "outputId": "da9af2f1-ab28-40a5-85a2-3e8ec48f6877"
   },
   "outputs": [
    {
     "name": "stdout",
     "output_type": "stream",
     "text": [
      "<class 'pandas.core.frame.DataFrame'>\n",
      "RangeIndex: 327820 entries, 0 to 327819\n",
      "Data columns (total 13 columns):\n",
      " #   Column               Non-Null Count   Dtype         \n",
      "---  ------               --------------   -----         \n",
      " 0   OFFENSE_CODE_GROUP   327820 non-null  object        \n",
      " 1   OFFENSE_DESCRIPTION  327820 non-null  object        \n",
      " 2   DISTRICT             327820 non-null  object        \n",
      " 3   SHOOTING             327820 non-null  object        \n",
      " 4   OCCURRED_ON_DATE     327820 non-null  datetime64[ns]\n",
      " 5   YEAR                 327820 non-null  int64         \n",
      " 6   MONTH                327820 non-null  int64         \n",
      " 7   DAY_OF_WEEK          327820 non-null  object        \n",
      " 8   HOUR                 327820 non-null  int64         \n",
      " 9   UCR_PART             327820 non-null  object        \n",
      " 10  STREET               327820 non-null  object        \n",
      " 11  Lat                  327820 non-null  float64       \n",
      " 12  Long                 327820 non-null  float64       \n",
      "dtypes: datetime64[ns](1), float64(2), int64(3), object(7)\n",
      "memory usage: 32.5+ MB\n"
     ]
    }
   ],
   "source": [
    "df.info()"
   ]
  },
  {
   "cell_type": "code",
   "execution_count": 34,
   "metadata": {
    "colab": {
     "base_uri": "https://localhost:8080/"
    },
    "id": "hCRj8XEd9FRV",
    "outputId": "0a18764a-07b8-46c5-9a0b-e1ef2ae4dbb3"
   },
   "outputs": [
    {
     "data": {
      "text/plain": [
       "OFFENSE_CODE_GROUP     0\n",
       "OFFENSE_DESCRIPTION    0\n",
       "DISTRICT               0\n",
       "SHOOTING               0\n",
       "OCCURRED_ON_DATE       0\n",
       "YEAR                   0\n",
       "MONTH                  0\n",
       "DAY_OF_WEEK            0\n",
       "HOUR                   0\n",
       "UCR_PART               0\n",
       "STREET                 0\n",
       "Lat                    0\n",
       "Long                   0\n",
       "dtype: int64"
      ]
     },
     "execution_count": 34,
     "metadata": {},
     "output_type": "execute_result"
    }
   ],
   "source": [
    "df.isnull().sum()"
   ]
  },
  {
   "cell_type": "markdown",
   "metadata": {
    "id": "i8ou-wH_76Rl"
   },
   "source": [
    "## Checking Duplicates"
   ]
  },
  {
   "cell_type": "code",
   "execution_count": 35,
   "metadata": {
    "colab": {
     "base_uri": "https://localhost:8080/"
    },
    "id": "rsfCrfSO7p7M",
    "outputId": "c4bb6c67-4051-49cf-b536-afc84248706d"
   },
   "outputs": [
    {
     "data": {
      "text/plain": [
       "950"
      ]
     },
     "execution_count": 35,
     "metadata": {},
     "output_type": "execute_result"
    }
   ],
   "source": [
    "#There is 942 row is duplicated\n",
    "df.duplicated().sum()"
   ]
  },
  {
   "cell_type": "code",
   "execution_count": 36,
   "metadata": {
    "colab": {
     "base_uri": "https://localhost:8080/",
     "height": 661
    },
    "id": "mUY9-gXv8Chz",
    "outputId": "71d4b159-d24c-42b2-ba1e-45cca07ecad7"
   },
   "outputs": [
    {
     "data": {
      "text/html": [
       "<div>\n",
       "<style scoped>\n",
       "    .dataframe tbody tr th:only-of-type {\n",
       "        vertical-align: middle;\n",
       "    }\n",
       "\n",
       "    .dataframe tbody tr th {\n",
       "        vertical-align: top;\n",
       "    }\n",
       "\n",
       "    .dataframe thead th {\n",
       "        text-align: right;\n",
       "    }\n",
       "</style>\n",
       "<table border=\"1\" class=\"dataframe\">\n",
       "  <thead>\n",
       "    <tr style=\"text-align: right;\">\n",
       "      <th></th>\n",
       "      <th>OFFENSE_CODE_GROUP</th>\n",
       "      <th>OFFENSE_DESCRIPTION</th>\n",
       "      <th>DISTRICT</th>\n",
       "      <th>SHOOTING</th>\n",
       "      <th>OCCURRED_ON_DATE</th>\n",
       "      <th>YEAR</th>\n",
       "      <th>MONTH</th>\n",
       "      <th>DAY_OF_WEEK</th>\n",
       "      <th>HOUR</th>\n",
       "      <th>UCR_PART</th>\n",
       "      <th>STREET</th>\n",
       "      <th>Lat</th>\n",
       "      <th>Long</th>\n",
       "    </tr>\n",
       "  </thead>\n",
       "  <tbody>\n",
       "    <tr>\n",
       "      <th>155</th>\n",
       "      <td>Vandalism</td>\n",
       "      <td>VANDALISM</td>\n",
       "      <td>C11</td>\n",
       "      <td>No</td>\n",
       "      <td>2018-10-03 05:30:00</td>\n",
       "      <td>2018</td>\n",
       "      <td>10</td>\n",
       "      <td>Wednesday</td>\n",
       "      <td>5</td>\n",
       "      <td>Part Two</td>\n",
       "      <td>TOPLIFF ST</td>\n",
       "      <td>42.304435</td>\n",
       "      <td>-71.068629</td>\n",
       "    </tr>\n",
       "    <tr>\n",
       "      <th>168</th>\n",
       "      <td>Vandalism</td>\n",
       "      <td>VANDALISM</td>\n",
       "      <td>C11</td>\n",
       "      <td>No</td>\n",
       "      <td>2018-10-03 05:30:00</td>\n",
       "      <td>2018</td>\n",
       "      <td>10</td>\n",
       "      <td>Wednesday</td>\n",
       "      <td>5</td>\n",
       "      <td>Part Two</td>\n",
       "      <td>TOPLIFF ST</td>\n",
       "      <td>42.304435</td>\n",
       "      <td>-71.068629</td>\n",
       "    </tr>\n",
       "    <tr>\n",
       "      <th>175</th>\n",
       "      <td>Vandalism</td>\n",
       "      <td>VANDALISM</td>\n",
       "      <td>C11</td>\n",
       "      <td>No</td>\n",
       "      <td>2018-10-03 05:30:00</td>\n",
       "      <td>2018</td>\n",
       "      <td>10</td>\n",
       "      <td>Wednesday</td>\n",
       "      <td>5</td>\n",
       "      <td>Part Two</td>\n",
       "      <td>TOPLIFF ST</td>\n",
       "      <td>42.304435</td>\n",
       "      <td>-71.068629</td>\n",
       "    </tr>\n",
       "    <tr>\n",
       "      <th>1144</th>\n",
       "      <td>Search Warrants</td>\n",
       "      <td>SEARCH WARRANT</td>\n",
       "      <td>A7</td>\n",
       "      <td>No</td>\n",
       "      <td>2018-09-29 13:26:00</td>\n",
       "      <td>2018</td>\n",
       "      <td>9</td>\n",
       "      <td>Saturday</td>\n",
       "      <td>13</td>\n",
       "      <td>Part Three</td>\n",
       "      <td>COURT RD</td>\n",
       "      <td>42.322016</td>\n",
       "      <td>-70.906030</td>\n",
       "    </tr>\n",
       "    <tr>\n",
       "      <th>1759</th>\n",
       "      <td>Larceny</td>\n",
       "      <td>LARCENY SHOPLIFTING</td>\n",
       "      <td>A1</td>\n",
       "      <td>No</td>\n",
       "      <td>2018-09-27 11:50:00</td>\n",
       "      <td>2018</td>\n",
       "      <td>9</td>\n",
       "      <td>Thursday</td>\n",
       "      <td>11</td>\n",
       "      <td>Part One</td>\n",
       "      <td>FANEUIL HALL MARKETPLACE</td>\n",
       "      <td>42.359980</td>\n",
       "      <td>-71.054741</td>\n",
       "    </tr>\n",
       "    <tr>\n",
       "      <th>...</th>\n",
       "      <td>...</td>\n",
       "      <td>...</td>\n",
       "      <td>...</td>\n",
       "      <td>...</td>\n",
       "      <td>...</td>\n",
       "      <td>...</td>\n",
       "      <td>...</td>\n",
       "      <td>...</td>\n",
       "      <td>...</td>\n",
       "      <td>...</td>\n",
       "      <td>...</td>\n",
       "      <td>...</td>\n",
       "      <td>...</td>\n",
       "    </tr>\n",
       "    <tr>\n",
       "      <th>327797</th>\n",
       "      <td>Simple Assault</td>\n",
       "      <td>ASSAULT &amp; BATTERY</td>\n",
       "      <td>B2</td>\n",
       "      <td>No</td>\n",
       "      <td>2015-10-02 21:00:00</td>\n",
       "      <td>2015</td>\n",
       "      <td>10</td>\n",
       "      <td>Friday</td>\n",
       "      <td>21</td>\n",
       "      <td>Part Two</td>\n",
       "      <td>HOMESTEAD ST</td>\n",
       "      <td>42.311277</td>\n",
       "      <td>-71.089093</td>\n",
       "    </tr>\n",
       "    <tr>\n",
       "      <th>327798</th>\n",
       "      <td>Warrant Arrests</td>\n",
       "      <td>WARRANT ARREST</td>\n",
       "      <td>B2</td>\n",
       "      <td>No</td>\n",
       "      <td>2015-10-02 21:00:00</td>\n",
       "      <td>2015</td>\n",
       "      <td>10</td>\n",
       "      <td>Friday</td>\n",
       "      <td>21</td>\n",
       "      <td>Part Three</td>\n",
       "      <td>HOMESTEAD ST</td>\n",
       "      <td>42.311277</td>\n",
       "      <td>-71.089093</td>\n",
       "    </tr>\n",
       "    <tr>\n",
       "      <th>327805</th>\n",
       "      <td>Violations</td>\n",
       "      <td>VAL - OPERATING AFTER REV/SUSP.</td>\n",
       "      <td>B2</td>\n",
       "      <td>No</td>\n",
       "      <td>2016-07-29 18:20:00</td>\n",
       "      <td>2016</td>\n",
       "      <td>7</td>\n",
       "      <td>Friday</td>\n",
       "      <td>18</td>\n",
       "      <td>Part Two</td>\n",
       "      <td>SLAYTON WAY</td>\n",
       "      <td>42.321770</td>\n",
       "      <td>-71.097798</td>\n",
       "    </tr>\n",
       "    <tr>\n",
       "      <th>327806</th>\n",
       "      <td>Warrant Arrests</td>\n",
       "      <td>WARRANT ARREST</td>\n",
       "      <td>C11</td>\n",
       "      <td>No</td>\n",
       "      <td>2016-02-01 01:43:00</td>\n",
       "      <td>2016</td>\n",
       "      <td>2</td>\n",
       "      <td>Monday</td>\n",
       "      <td>1</td>\n",
       "      <td>Part Three</td>\n",
       "      <td>GENEVA AVE</td>\n",
       "      <td>42.322016</td>\n",
       "      <td>-70.906030</td>\n",
       "    </tr>\n",
       "    <tr>\n",
       "      <th>327807</th>\n",
       "      <td>Warrant Arrests</td>\n",
       "      <td>WARRANT ARREST</td>\n",
       "      <td>C11</td>\n",
       "      <td>No</td>\n",
       "      <td>2016-02-01 01:43:00</td>\n",
       "      <td>2016</td>\n",
       "      <td>2</td>\n",
       "      <td>Monday</td>\n",
       "      <td>1</td>\n",
       "      <td>Part Three</td>\n",
       "      <td>GENEVA AVE</td>\n",
       "      <td>42.322016</td>\n",
       "      <td>-70.906030</td>\n",
       "    </tr>\n",
       "  </tbody>\n",
       "</table>\n",
       "<p>950 rows × 13 columns</p>\n",
       "</div>"
      ],
      "text/plain": [
       "       OFFENSE_CODE_GROUP              OFFENSE_DESCRIPTION DISTRICT SHOOTING  \\\n",
       "155             Vandalism                        VANDALISM      C11       No   \n",
       "168             Vandalism                        VANDALISM      C11       No   \n",
       "175             Vandalism                        VANDALISM      C11       No   \n",
       "1144      Search Warrants                   SEARCH WARRANT       A7       No   \n",
       "1759              Larceny              LARCENY SHOPLIFTING       A1       No   \n",
       "...                   ...                              ...      ...      ...   \n",
       "327797     Simple Assault                ASSAULT & BATTERY       B2       No   \n",
       "327798    Warrant Arrests                   WARRANT ARREST       B2       No   \n",
       "327805         Violations  VAL - OPERATING AFTER REV/SUSP.       B2       No   \n",
       "327806    Warrant Arrests                   WARRANT ARREST      C11       No   \n",
       "327807    Warrant Arrests                   WARRANT ARREST      C11       No   \n",
       "\n",
       "          OCCURRED_ON_DATE  YEAR  MONTH DAY_OF_WEEK  HOUR    UCR_PART  \\\n",
       "155    2018-10-03 05:30:00  2018     10   Wednesday     5    Part Two   \n",
       "168    2018-10-03 05:30:00  2018     10   Wednesday     5    Part Two   \n",
       "175    2018-10-03 05:30:00  2018     10   Wednesday     5    Part Two   \n",
       "1144   2018-09-29 13:26:00  2018      9    Saturday    13  Part Three   \n",
       "1759   2018-09-27 11:50:00  2018      9    Thursday    11    Part One   \n",
       "...                    ...   ...    ...         ...   ...         ...   \n",
       "327797 2015-10-02 21:00:00  2015     10      Friday    21    Part Two   \n",
       "327798 2015-10-02 21:00:00  2015     10      Friday    21  Part Three   \n",
       "327805 2016-07-29 18:20:00  2016      7      Friday    18    Part Two   \n",
       "327806 2016-02-01 01:43:00  2016      2      Monday     1  Part Three   \n",
       "327807 2016-02-01 01:43:00  2016      2      Monday     1  Part Three   \n",
       "\n",
       "                          STREET        Lat       Long  \n",
       "155                   TOPLIFF ST  42.304435 -71.068629  \n",
       "168                   TOPLIFF ST  42.304435 -71.068629  \n",
       "175                   TOPLIFF ST  42.304435 -71.068629  \n",
       "1144                    COURT RD  42.322016 -70.906030  \n",
       "1759    FANEUIL HALL MARKETPLACE  42.359980 -71.054741  \n",
       "...                          ...        ...        ...  \n",
       "327797              HOMESTEAD ST  42.311277 -71.089093  \n",
       "327798              HOMESTEAD ST  42.311277 -71.089093  \n",
       "327805               SLAYTON WAY  42.321770 -71.097798  \n",
       "327806                GENEVA AVE  42.322016 -70.906030  \n",
       "327807                GENEVA AVE  42.322016 -70.906030  \n",
       "\n",
       "[950 rows x 13 columns]"
      ]
     },
     "execution_count": 36,
     "metadata": {},
     "output_type": "execute_result"
    }
   ],
   "source": [
    "duplicate_rows = df[df.duplicated()]\n",
    "duplicate_rows"
   ]
  },
  {
   "cell_type": "code",
   "execution_count": 37,
   "metadata": {
    "id": "mjWe5j-P8wby"
   },
   "outputs": [],
   "source": [
    "df.drop_duplicates(inplace = True)"
   ]
  },
  {
   "cell_type": "code",
   "execution_count": 38,
   "metadata": {
    "colab": {
     "base_uri": "https://localhost:8080/"
    },
    "id": "aZuZpqXkBeSP",
    "outputId": "97c21c28-cf3b-4e1f-d9b9-112020d0f954"
   },
   "outputs": [
    {
     "name": "stdout",
     "output_type": "stream",
     "text": [
      "<class 'pandas.core.frame.DataFrame'>\n",
      "Int64Index: 326870 entries, 0 to 327819\n",
      "Data columns (total 13 columns):\n",
      " #   Column               Non-Null Count   Dtype         \n",
      "---  ------               --------------   -----         \n",
      " 0   OFFENSE_CODE_GROUP   326870 non-null  object        \n",
      " 1   OFFENSE_DESCRIPTION  326870 non-null  object        \n",
      " 2   DISTRICT             326870 non-null  object        \n",
      " 3   SHOOTING             326870 non-null  object        \n",
      " 4   OCCURRED_ON_DATE     326870 non-null  datetime64[ns]\n",
      " 5   YEAR                 326870 non-null  int64         \n",
      " 6   MONTH                326870 non-null  int64         \n",
      " 7   DAY_OF_WEEK          326870 non-null  object        \n",
      " 8   HOUR                 326870 non-null  int64         \n",
      " 9   UCR_PART             326870 non-null  object        \n",
      " 10  STREET               326870 non-null  object        \n",
      " 11  Lat                  326870 non-null  float64       \n",
      " 12  Long                 326870 non-null  float64       \n",
      "dtypes: datetime64[ns](1), float64(2), int64(3), object(7)\n",
      "memory usage: 34.9+ MB\n"
     ]
    }
   ],
   "source": [
    "df.info()"
   ]
  },
  {
   "cell_type": "code",
   "execution_count": 39,
   "metadata": {
    "colab": {
     "base_uri": "https://localhost:8080/",
     "height": 713
    },
    "id": "mGzbrlVxCw9x",
    "outputId": "041c881a-bd45-43d0-d7fb-4658452f3459"
   },
   "outputs": [
    {
     "data": {
      "text/html": [
       "<div>\n",
       "<style scoped>\n",
       "    .dataframe tbody tr th:only-of-type {\n",
       "        vertical-align: middle;\n",
       "    }\n",
       "\n",
       "    .dataframe tbody tr th {\n",
       "        vertical-align: top;\n",
       "    }\n",
       "\n",
       "    .dataframe thead th {\n",
       "        text-align: right;\n",
       "    }\n",
       "</style>\n",
       "<table border=\"1\" class=\"dataframe\">\n",
       "  <thead>\n",
       "    <tr style=\"text-align: right;\">\n",
       "      <th></th>\n",
       "      <th>OFFENSE_CODE_GROUP</th>\n",
       "      <th>OFFENSE_DESCRIPTION</th>\n",
       "      <th>DISTRICT</th>\n",
       "      <th>SHOOTING</th>\n",
       "      <th>OCCURRED_ON_DATE</th>\n",
       "      <th>YEAR</th>\n",
       "      <th>MONTH</th>\n",
       "      <th>DAY_OF_WEEK</th>\n",
       "      <th>HOUR</th>\n",
       "      <th>UCR_PART</th>\n",
       "      <th>STREET</th>\n",
       "      <th>Lat</th>\n",
       "      <th>Long</th>\n",
       "    </tr>\n",
       "  </thead>\n",
       "  <tbody>\n",
       "    <tr>\n",
       "      <th>0</th>\n",
       "      <td>Disorderly Conduct</td>\n",
       "      <td>DISTURBING THE PEACE</td>\n",
       "      <td>E18</td>\n",
       "      <td>No</td>\n",
       "      <td>2018-10-03 20:13:00</td>\n",
       "      <td>2018</td>\n",
       "      <td>10</td>\n",
       "      <td>Wednesday</td>\n",
       "      <td>20</td>\n",
       "      <td>Part Two</td>\n",
       "      <td>ARLINGTON ST</td>\n",
       "      <td>42.262608</td>\n",
       "      <td>-71.121186</td>\n",
       "    </tr>\n",
       "    <tr>\n",
       "      <th>1</th>\n",
       "      <td>Property Lost</td>\n",
       "      <td>PROPERTY - LOST</td>\n",
       "      <td>D14</td>\n",
       "      <td>No</td>\n",
       "      <td>2018-08-30 20:00:00</td>\n",
       "      <td>2018</td>\n",
       "      <td>8</td>\n",
       "      <td>Thursday</td>\n",
       "      <td>20</td>\n",
       "      <td>Part Three</td>\n",
       "      <td>ALLSTON ST</td>\n",
       "      <td>42.352111</td>\n",
       "      <td>-71.135311</td>\n",
       "    </tr>\n",
       "    <tr>\n",
       "      <th>2</th>\n",
       "      <td>Other</td>\n",
       "      <td>THREATS TO DO BODILY HARM</td>\n",
       "      <td>B2</td>\n",
       "      <td>No</td>\n",
       "      <td>2018-10-03 19:20:00</td>\n",
       "      <td>2018</td>\n",
       "      <td>10</td>\n",
       "      <td>Wednesday</td>\n",
       "      <td>19</td>\n",
       "      <td>Part Two</td>\n",
       "      <td>DEVON ST</td>\n",
       "      <td>42.308126</td>\n",
       "      <td>-71.076930</td>\n",
       "    </tr>\n",
       "    <tr>\n",
       "      <th>3</th>\n",
       "      <td>Aggravated Assault</td>\n",
       "      <td>ASSAULT - AGGRAVATED - BATTERY</td>\n",
       "      <td>A1</td>\n",
       "      <td>No</td>\n",
       "      <td>2018-10-03 20:00:00</td>\n",
       "      <td>2018</td>\n",
       "      <td>10</td>\n",
       "      <td>Wednesday</td>\n",
       "      <td>20</td>\n",
       "      <td>Part One</td>\n",
       "      <td>CAMBRIDGE ST</td>\n",
       "      <td>42.359454</td>\n",
       "      <td>-71.059648</td>\n",
       "    </tr>\n",
       "    <tr>\n",
       "      <th>4</th>\n",
       "      <td>Aircraft</td>\n",
       "      <td>AIRCRAFT INCIDENTS</td>\n",
       "      <td>A7</td>\n",
       "      <td>No</td>\n",
       "      <td>2018-10-03 20:49:00</td>\n",
       "      <td>2018</td>\n",
       "      <td>10</td>\n",
       "      <td>Wednesday</td>\n",
       "      <td>20</td>\n",
       "      <td>Part Three</td>\n",
       "      <td>PRESCOTT ST</td>\n",
       "      <td>42.375258</td>\n",
       "      <td>-71.024663</td>\n",
       "    </tr>\n",
       "    <tr>\n",
       "      <th>...</th>\n",
       "      <td>...</td>\n",
       "      <td>...</td>\n",
       "      <td>...</td>\n",
       "      <td>...</td>\n",
       "      <td>...</td>\n",
       "      <td>...</td>\n",
       "      <td>...</td>\n",
       "      <td>...</td>\n",
       "      <td>...</td>\n",
       "      <td>...</td>\n",
       "      <td>...</td>\n",
       "      <td>...</td>\n",
       "      <td>...</td>\n",
       "    </tr>\n",
       "    <tr>\n",
       "      <th>327815</th>\n",
       "      <td>Warrant Arrests</td>\n",
       "      <td>WARRANT ARREST</td>\n",
       "      <td>D4</td>\n",
       "      <td>No</td>\n",
       "      <td>2016-06-05 17:25:00</td>\n",
       "      <td>2016</td>\n",
       "      <td>6</td>\n",
       "      <td>Sunday</td>\n",
       "      <td>17</td>\n",
       "      <td>Part Three</td>\n",
       "      <td>COVENTRY ST</td>\n",
       "      <td>42.336951</td>\n",
       "      <td>-71.085748</td>\n",
       "    </tr>\n",
       "    <tr>\n",
       "      <th>327816</th>\n",
       "      <td>Homicide</td>\n",
       "      <td>MURDER, NON-NEGLIGIENT MANSLAUGHTER</td>\n",
       "      <td>E18</td>\n",
       "      <td>No</td>\n",
       "      <td>2015-07-09 13:38:00</td>\n",
       "      <td>2015</td>\n",
       "      <td>7</td>\n",
       "      <td>Thursday</td>\n",
       "      <td>13</td>\n",
       "      <td>Part One</td>\n",
       "      <td>RIVER ST</td>\n",
       "      <td>42.255926</td>\n",
       "      <td>-71.123172</td>\n",
       "    </tr>\n",
       "    <tr>\n",
       "      <th>327817</th>\n",
       "      <td>Warrant Arrests</td>\n",
       "      <td>WARRANT ARREST</td>\n",
       "      <td>E18</td>\n",
       "      <td>No</td>\n",
       "      <td>2015-07-09 13:38:00</td>\n",
       "      <td>2015</td>\n",
       "      <td>7</td>\n",
       "      <td>Thursday</td>\n",
       "      <td>13</td>\n",
       "      <td>Part Three</td>\n",
       "      <td>RIVER ST</td>\n",
       "      <td>42.255926</td>\n",
       "      <td>-71.123172</td>\n",
       "    </tr>\n",
       "    <tr>\n",
       "      <th>327818</th>\n",
       "      <td>Warrant Arrests</td>\n",
       "      <td>WARRANT ARREST</td>\n",
       "      <td>E13</td>\n",
       "      <td>No</td>\n",
       "      <td>2016-05-31 19:35:00</td>\n",
       "      <td>2016</td>\n",
       "      <td>5</td>\n",
       "      <td>Tuesday</td>\n",
       "      <td>19</td>\n",
       "      <td>Part Three</td>\n",
       "      <td>NEW WASHINGTON ST</td>\n",
       "      <td>42.302333</td>\n",
       "      <td>-71.111565</td>\n",
       "    </tr>\n",
       "    <tr>\n",
       "      <th>327819</th>\n",
       "      <td>Warrant Arrests</td>\n",
       "      <td>WARRANT ARREST</td>\n",
       "      <td>D4</td>\n",
       "      <td>No</td>\n",
       "      <td>2015-06-22 00:12:00</td>\n",
       "      <td>2015</td>\n",
       "      <td>6</td>\n",
       "      <td>Monday</td>\n",
       "      <td>0</td>\n",
       "      <td>Part Three</td>\n",
       "      <td>WASHINGTON ST</td>\n",
       "      <td>42.333839</td>\n",
       "      <td>-71.080290</td>\n",
       "    </tr>\n",
       "  </tbody>\n",
       "</table>\n",
       "<p>326870 rows × 13 columns</p>\n",
       "</div>"
      ],
      "text/plain": [
       "        OFFENSE_CODE_GROUP                  OFFENSE_DESCRIPTION DISTRICT  \\\n",
       "0       Disorderly Conduct                 DISTURBING THE PEACE      E18   \n",
       "1            Property Lost                      PROPERTY - LOST      D14   \n",
       "2                    Other            THREATS TO DO BODILY HARM       B2   \n",
       "3       Aggravated Assault       ASSAULT - AGGRAVATED - BATTERY       A1   \n",
       "4                 Aircraft                   AIRCRAFT INCIDENTS       A7   \n",
       "...                    ...                                  ...      ...   \n",
       "327815     Warrant Arrests                       WARRANT ARREST       D4   \n",
       "327816            Homicide  MURDER, NON-NEGLIGIENT MANSLAUGHTER      E18   \n",
       "327817     Warrant Arrests                       WARRANT ARREST      E18   \n",
       "327818     Warrant Arrests                       WARRANT ARREST      E13   \n",
       "327819     Warrant Arrests                       WARRANT ARREST       D4   \n",
       "\n",
       "       SHOOTING    OCCURRED_ON_DATE  YEAR  MONTH DAY_OF_WEEK  HOUR  \\\n",
       "0            No 2018-10-03 20:13:00  2018     10   Wednesday    20   \n",
       "1            No 2018-08-30 20:00:00  2018      8    Thursday    20   \n",
       "2            No 2018-10-03 19:20:00  2018     10   Wednesday    19   \n",
       "3            No 2018-10-03 20:00:00  2018     10   Wednesday    20   \n",
       "4            No 2018-10-03 20:49:00  2018     10   Wednesday    20   \n",
       "...         ...                 ...   ...    ...         ...   ...   \n",
       "327815       No 2016-06-05 17:25:00  2016      6      Sunday    17   \n",
       "327816       No 2015-07-09 13:38:00  2015      7    Thursday    13   \n",
       "327817       No 2015-07-09 13:38:00  2015      7    Thursday    13   \n",
       "327818       No 2016-05-31 19:35:00  2016      5     Tuesday    19   \n",
       "327819       No 2015-06-22 00:12:00  2015      6      Monday     0   \n",
       "\n",
       "          UCR_PART             STREET        Lat       Long  \n",
       "0         Part Two       ARLINGTON ST  42.262608 -71.121186  \n",
       "1       Part Three         ALLSTON ST  42.352111 -71.135311  \n",
       "2         Part Two           DEVON ST  42.308126 -71.076930  \n",
       "3         Part One       CAMBRIDGE ST  42.359454 -71.059648  \n",
       "4       Part Three        PRESCOTT ST  42.375258 -71.024663  \n",
       "...            ...                ...        ...        ...  \n",
       "327815  Part Three        COVENTRY ST  42.336951 -71.085748  \n",
       "327816    Part One           RIVER ST  42.255926 -71.123172  \n",
       "327817  Part Three           RIVER ST  42.255926 -71.123172  \n",
       "327818  Part Three  NEW WASHINGTON ST  42.302333 -71.111565  \n",
       "327819  Part Three      WASHINGTON ST  42.333839 -71.080290  \n",
       "\n",
       "[326870 rows x 13 columns]"
      ]
     },
     "execution_count": 39,
     "metadata": {},
     "output_type": "execute_result"
    }
   ],
   "source": [
    "df"
   ]
  },
  {
   "cell_type": "markdown",
   "metadata": {
    "id": "8TBtPBd1C5v0"
   },
   "source": [
    "# Analysis and Visualization"
   ]
  },
  {
   "cell_type": "markdown",
   "metadata": {
    "id": "Fxm9A3nZDrAs"
   },
   "source": [
    "## Boston Offenses "
   ]
  },
  {
   "cell_type": "markdown",
   "metadata": {
    "id": "bkf6_50HEPtw"
   },
   "source": [
    "### Most 10 Category of Offense"
   ]
  },
  {
   "cell_type": "code",
   "execution_count": 40,
   "metadata": {
    "colab": {
     "base_uri": "https://localhost:8080/"
    },
    "id": "5DDj87LsBfdE",
    "outputId": "fbac27c1-0bbf-4cff-81a2-3893720c5231"
   },
   "outputs": [
    {
     "data": {
      "text/plain": [
       "Motor Vehicle Accident Response    38120\n",
       "Larceny                            26609\n",
       "Medical Assistance                 24158\n",
       "Investigate Person                 19143\n",
       "Other                              18572\n",
       "Drug Violation                     16925\n",
       "Simple Assault                     16251\n",
       "Vandalism                          15743\n",
       "Verbal Disputes                    13478\n",
       "Towed                              11609\n",
       "Name: OFFENSE_CODE_GROUP, dtype: int64"
      ]
     },
     "execution_count": 40,
     "metadata": {},
     "output_type": "execute_result"
    }
   ],
   "source": [
    "df['OFFENSE_CODE_GROUP'].value_counts().head(10)"
   ]
  },
  {
   "cell_type": "code",
   "execution_count": 41,
   "metadata": {
    "colab": {
     "base_uri": "https://localhost:8080/",
     "height": 405
    },
    "id": "938pggjJFA1M",
    "outputId": "71b7c60f-7a65-4ea6-e8c4-5f31c96bb941"
   },
   "outputs": [
    {
     "data": {
      "image/png": "[encoded data removed]",
      "text/plain": [
       "<Figure size 2160x720 with 1 Axes>"
      ]
     },
     "metadata": {},
     "output_type": "display_data"
    }
   ],
   "source": [
    "sns.set(rc={'figure.figsize':(30, 10)}, font_scale=1.2)\n",
    "plt.title(\" Most 10 Category of Offenses \", size=26)\n",
    "plt.bar(df['OFFENSE_CODE_GROUP'].value_counts().head(10).index,df['OFFENSE_CODE_GROUP'].value_counts().head(10)\n",
    "           ,facecolor='r',edgecolor='b',width=0.8)\n",
    "plt.show()"
   ]
  },
  {
   "cell_type": "markdown",
   "metadata": {
    "id": "SnLOna4_GFeJ"
   },
   "source": [
    "### Most 5 Description of Offenses"
   ]
  },
  {
   "cell_type": "code",
   "execution_count": 42,
   "metadata": {
    "colab": {
     "base_uri": "https://localhost:8080/"
    },
    "id": "vAArIgIbB6Kz",
    "outputId": "cb4116dd-47ee-4d22-9fc5-b18651fa3116"
   },
   "outputs": [
    {
     "data": {
      "text/plain": [
       "SICK/INJURED/MEDICAL - PERSON            19345\n",
       "INVESTIGATE PERSON                       19147\n",
       "M/V - LEAVING SCENE - PROPERTY DAMAGE    16721\n",
       "VANDALISM                                15475\n",
       "ASSAULT SIMPLE - BATTERY                 15180\n",
       "Name: OFFENSE_DESCRIPTION, dtype: int64"
      ]
     },
     "execution_count": 42,
     "metadata": {},
     "output_type": "execute_result"
    }
   ],
   "source": [
    "df['OFFENSE_DESCRIPTION'].value_counts().head(5)"
   ]
  },
  {
   "cell_type": "code",
   "execution_count": 43,
   "metadata": {
    "colab": {
     "base_uri": "https://localhost:8080/",
     "height": 887
    },
    "id": "ZfBtmd-XB9em",
    "outputId": "2e91843a-f156-4934-8361-1346545927bf"
   },
   "outputs": [
    {
     "data": {
      "text/plain": [
       "<AxesSubplot:>"
      ]
     },
     "execution_count": 43,
     "metadata": {},
     "output_type": "execute_result"
    },
    {
     "data": {
      "image/png": "[encoded data removed]",
      "text/plain": [
       "<Figure size 1080x720 with 1 Axes>"
      ]
     },
     "metadata": {},
     "output_type": "display_data"
    }
   ],
   "source": [
    "sns.set(rc={'figure.figsize':(15,10)}, font_scale=1.2)\n",
    "df['OFFENSE_DESCRIPTION'].value_counts().head(5).plot(kind='bar')"
   ]
  },
  {
   "cell_type": "markdown",
   "metadata": {
    "id": "gnb9XjtJHOuZ"
   },
   "source": [
    "## Is there a shooting during crimes ? "
   ]
  },
  {
   "cell_type": "code",
   "execution_count": 44,
   "metadata": {
    "colab": {
     "base_uri": "https://localhost:8080/"
    },
    "id": "UlKF9nXXJpms",
    "outputId": "0594fec3-8463-4d1b-acc7-5eb5d9b3ed4d"
   },
   "outputs": [
    {
     "data": {
      "text/plain": [
       "No     325816\n",
       "Yes      1054\n",
       "Name: SHOOTING, dtype: int64"
      ]
     },
     "execution_count": 44,
     "metadata": {},
     "output_type": "execute_result"
    }
   ],
   "source": [
    "df['SHOOTING'].value_counts()"
   ]
  },
  {
   "cell_type": "code",
   "execution_count": 45,
   "metadata": {
    "colab": {
     "base_uri": "https://localhost:8080/",
     "height": 635
    },
    "id": "3zZDopbDGLgV",
    "outputId": "11f6da70-d2a4-4373-ec97-852fc44fa0d2"
   },
   "outputs": [
    {
     "data": {
      "text/plain": [
       "Text(0.5, 1.0, 'is there a shooting during crimes ? ')"
      ]
     },
     "execution_count": 45,
     "metadata": {},
     "output_type": "execute_result"
    },
    {
     "data": {
      "image/png": "[encoded data removed]",
      "text/plain": [
       "<Figure size 1080x720 with 1 Axes>"
      ]
     },
     "metadata": {},
     "output_type": "display_data"
    }
   ],
   "source": [
    "plt.bar(df['SHOOTING'].value_counts().index,df['SHOOTING'].value_counts()\n",
    "           ,facecolor='r',edgecolor='b',width=0.8)\n",
    "plt.title(\"is there a shooting during crimes ? \", size=20)\n"
   ]
  },
  {
   "cell_type": "code",
   "execution_count": 46,
   "metadata": {
    "colab": {
     "base_uri": "https://localhost:8080/"
    },
    "id": "Vrv5wk-JIUDk",
    "outputId": "c6e02558-656a-41a8-cf56-5985fba93381"
   },
   "outputs": [
    {
     "data": {
      "text/plain": [
       "Aggravated Assault                 538\n",
       "Homicide                           123\n",
       "Warrant Arrests                     78\n",
       "Firearm Violations                  74\n",
       "Ballistics                          45\n",
       "Drug Violation                      33\n",
       "Search Warrants                     30\n",
       "Medical Assistance                  20\n",
       "Robbery                             19\n",
       "Vandalism                           17\n",
       "Other                               15\n",
       "Investigate Property                15\n",
       "Investigate Person                   8\n",
       "Motor Vehicle Accident Response      6\n",
       "Simple Assault                       5\n",
       "HOME INVASION                        5\n",
       "Towed                                4\n",
       "Property Found                       3\n",
       "Firearm Discovery                    3\n",
       "Disorderly Conduct                   3\n",
       "Property Lost                        2\n",
       "Violations                           2\n",
       "Recovered Stolen Property            2\n",
       "Manslaughter                         1\n",
       "Property Related Damage              1\n",
       "Police Service Incidents             1\n",
       "Missing Person Located               1\n",
       "Name: OFFENSE_CODE_GROUP, dtype: int64"
      ]
     },
     "execution_count": 46,
     "metadata": {},
     "output_type": "execute_result"
    }
   ],
   "source": [
    "df[df['SHOOTING']=='Yes']['OFFENSE_CODE_GROUP'].value_counts()"
   ]
  },
  {
   "cell_type": "markdown",
   "metadata": {
    "id": "TzQqKtUINGgK"
   },
   "source": [
    "The 5 most common types of crimes in which a shooting occurred"
   ]
  },
  {
   "cell_type": "code",
   "execution_count": 47,
   "metadata": {
    "id": "UWxfRn5wJFRK"
   },
   "outputs": [],
   "source": [
    "top_5_crime_type_with_shooting = df[df['SHOOTING']=='Yes']['OFFENSE_CODE_GROUP'].value_counts().head(5)"
   ]
  },
  {
   "cell_type": "code",
   "execution_count": 48,
   "metadata": {
    "colab": {
     "base_uri": "https://localhost:8080/",
     "height": 598
    },
    "id": "dBwsVN8yKwEj",
    "outputId": "9965d59a-eb72-4edf-98b9-973e6694fea4"
   },
   "outputs": [
    {
     "data": {
      "image/png": "[encoded data removed]",
      "text/plain": [
       "<Figure size 1080x720 with 1 Axes>"
      ]
     },
     "metadata": {},
     "output_type": "display_data"
    }
   ],
   "source": [
    "plt.pie(top_5_crime_type_with_shooting,labels=top_5_crime_type_with_shooting.index,\n",
    "        autopct ='%1.2f%%',shadow = True, explode = [0.1,0,0,0,0],startangle=270)\n",
    "plt.title(\" The Most 5 Types of Crimes in which a shooting occurred \", size=20)\n",
    "plt.axis('equal')\n",
    "plt.show()"
   ]
  },
  {
   "cell_type": "markdown",
   "metadata": {
    "id": "jkQhabVeaVCW"
   },
   "source": [
    "## Uniform Crime Reports for Boston"
   ]
  },
  {
   "cell_type": "code",
   "execution_count": 49,
   "metadata": {
    "colab": {
     "base_uri": "https://localhost:8080/"
    },
    "id": "pkA3FqumbHUr",
    "outputId": "e599e20b-00b6-4dc7-a143-f9c0dcb9063e"
   },
   "outputs": [
    {
     "data": {
      "text/plain": [
       "Part Three    162419\n",
       "Part Two       99987\n",
       "Part One       63086\n",
       "Other           1285\n",
       "Unknown           93\n",
       "Name: UCR_PART, dtype: int64"
      ]
     },
     "execution_count": 49,
     "metadata": {},
     "output_type": "execute_result"
    }
   ],
   "source": [
    "df['UCR_PART'].value_counts()"
   ]
  },
  {
   "cell_type": "code",
   "execution_count": 50,
   "metadata": {
    "colab": {
     "base_uri": "https://localhost:8080/",
     "height": 618
    },
    "id": "lPqnMCW7bl8v",
    "outputId": "32938023-79a2-472d-a5e8-6a4d455e2594"
   },
   "outputs": [
    {
     "data": {
      "image/png": "[encoded data removed]",
      "text/plain": [
       "<Figure size 1080x720 with 1 Axes>"
      ]
     },
     "metadata": {},
     "output_type": "display_data"
    }
   ],
   "source": [
    "plt.title(\" Uniform Crime Reports for Boston \", size=20)\n",
    "plt.bar(df['UCR_PART'].value_counts().index,df['UCR_PART'].value_counts()\n",
    "           ,facecolor='b',edgecolor='k')\n",
    "plt.show()"
   ]
  },
  {
   "cell_type": "markdown",
   "metadata": {
    "id": "m42FTRd9fOF-"
   },
   "source": [
    "## Streets and Crimes"
   ]
  },
  {
   "cell_type": "code",
   "execution_count": 51,
   "metadata": {
    "colab": {
     "base_uri": "https://localhost:8080/"
    },
    "id": "afox3v6hfSrG",
    "outputId": "99e50dbe-5db9-404b-a191-ebd3214e7eec"
   },
   "outputs": [
    {
     "data": {
      "text/plain": [
       "WASHINGTON ST        14513\n",
       "Unknown              10964\n",
       "BLUE HILL AVE         7965\n",
       "BOYLSTON ST           7399\n",
       "DORCHESTER AVE        5292\n",
       "TREMONT ST            4910\n",
       "MASSACHUSETTS AVE     4849\n",
       "HARRISON AVE          4726\n",
       "Name: STREET, dtype: int64"
      ]
     },
     "execution_count": 51,
     "metadata": {},
     "output_type": "execute_result"
    }
   ],
   "source": [
    "df['STREET'].value_counts().head(8)"
   ]
  },
  {
   "cell_type": "code",
   "execution_count": 52,
   "metadata": {
    "colab": {
     "base_uri": "https://localhost:8080/",
     "height": 478
    },
    "id": "UC7qwVByfboc",
    "outputId": "c117a052-f271-44d5-e6cc-94a304eee370"
   },
   "outputs": [
    {
     "data": {
      "image/png": "[encoded data removed]",
      "text/plain": [
       "<Figure size 1800x720 with 1 Axes>"
      ]
     },
     "metadata": {},
     "output_type": "display_data"
    }
   ],
   "source": [
    "sns.set(rc={'figure.figsize':(25, 10)}, font_scale=1.2)\n",
    "plt.title(\" Most 8 Danger Streets in Boston \", size=25)\n",
    "plt.bar(df['STREET'].value_counts().head(8).index,df['STREET'].value_counts().head(8)\n",
    "           ,facecolor='r',edgecolor='b',width=0.8)\n",
    "plt.show()"
   ]
  },
  {
   "cell_type": "markdown",
   "metadata": {
    "id": "B8mQJJ96Nhuq"
   },
   "source": [
    "## District and Crimes"
   ]
  },
  {
   "cell_type": "code",
   "execution_count": 53,
   "metadata": {
    "colab": {
     "base_uri": "https://localhost:8080/"
    },
    "id": "-D-6weV-LgPG",
    "outputId": "50588155-1078-4bca-f2f7-de5981e34863"
   },
   "outputs": [
    {
     "data": {
      "text/plain": [
       "B2         51182\n",
       "C11        43676\n",
       "D4         43223\n",
       "A1         36628\n",
       "B3         36280\n",
       "C6         24105\n",
       "D14        20578\n",
       "E13        17926\n",
       "E18        17739\n",
       "A7         13598\n",
       "E5         13514\n",
       "A15         6648\n",
       "Unknown     1773\n",
       "Name: DISTRICT, dtype: int64"
      ]
     },
     "execution_count": 53,
     "metadata": {},
     "output_type": "execute_result"
    }
   ],
   "source": [
    "df['DISTRICT'].value_counts()"
   ]
  },
  {
   "cell_type": "code",
   "execution_count": 54,
   "metadata": {
    "colab": {
     "base_uri": "https://localhost:8080/",
     "height": 654
    },
    "id": "_drm53vxOW8x",
    "outputId": "556df964-70d0-405c-bc0a-5480cafe03b7"
   },
   "outputs": [
    {
     "data": {
      "text/plain": [
       "<AxesSubplot:title={'center':' Crimes Count in Districts '}, xlabel='DISTRICT', ylabel='count'>"
      ]
     },
     "execution_count": 54,
     "metadata": {},
     "output_type": "execute_result"
    },
    {
     "data": {
      "image/png": "[encoded data removed]",
      "text/plain": [
       "<Figure size 1080x720 with 1 Axes>"
      ]
     },
     "metadata": {},
     "output_type": "display_data"
    }
   ],
   "source": [
    "sns.set(rc={'figure.figsize':(15,10)}, font_scale=1.2)\n",
    "plt.title(\" Crimes Count in Districts \", size=20)\n",
    "sns.countplot(x= df['DISTRICT'],\n",
    "              order = df['DISTRICT'].value_counts().index\n",
    "              ,palette='viridis')"
   ]
  },
  {
   "cell_type": "code",
   "execution_count": 55,
   "metadata": {
    "colab": {
     "base_uri": "https://localhost:8080/",
     "height": 488
    },
    "id": "yZILOiMsOeY6",
    "outputId": "f7b8343c-a711-40e4-e168-0b4b5d06bea5"
   },
   "outputs": [
    {
     "data": {
      "text/html": [
       "<div>\n",
       "<style scoped>\n",
       "    .dataframe tbody tr th:only-of-type {\n",
       "        vertical-align: middle;\n",
       "    }\n",
       "\n",
       "    .dataframe tbody tr th {\n",
       "        vertical-align: top;\n",
       "    }\n",
       "\n",
       "    .dataframe thead th {\n",
       "        text-align: right;\n",
       "    }\n",
       "</style>\n",
       "<table border=\"1\" class=\"dataframe\">\n",
       "  <thead>\n",
       "    <tr style=\"text-align: right;\">\n",
       "      <th></th>\n",
       "      <th>OFFENSE_CODE_GROUP</th>\n",
       "    </tr>\n",
       "    <tr>\n",
       "      <th>DISTRICT</th>\n",
       "      <th></th>\n",
       "    </tr>\n",
       "  </thead>\n",
       "  <tbody>\n",
       "    <tr>\n",
       "      <th>A1</th>\n",
       "      <td>Larceny</td>\n",
       "    </tr>\n",
       "    <tr>\n",
       "      <th>A15</th>\n",
       "      <td>Motor Vehicle Accident Response</td>\n",
       "    </tr>\n",
       "    <tr>\n",
       "      <th>A7</th>\n",
       "      <td>Motor Vehicle Accident Response</td>\n",
       "    </tr>\n",
       "    <tr>\n",
       "      <th>B2</th>\n",
       "      <td>Motor Vehicle Accident Response</td>\n",
       "    </tr>\n",
       "    <tr>\n",
       "      <th>B3</th>\n",
       "      <td>Motor Vehicle Accident Response</td>\n",
       "    </tr>\n",
       "    <tr>\n",
       "      <th>C11</th>\n",
       "      <td>Motor Vehicle Accident Response</td>\n",
       "    </tr>\n",
       "    <tr>\n",
       "      <th>C6</th>\n",
       "      <td>Motor Vehicle Accident Response</td>\n",
       "    </tr>\n",
       "    <tr>\n",
       "      <th>D14</th>\n",
       "      <td>Motor Vehicle Accident Response</td>\n",
       "    </tr>\n",
       "    <tr>\n",
       "      <th>D4</th>\n",
       "      <td>Larceny</td>\n",
       "    </tr>\n",
       "    <tr>\n",
       "      <th>E13</th>\n",
       "      <td>Motor Vehicle Accident Response</td>\n",
       "    </tr>\n",
       "    <tr>\n",
       "      <th>E18</th>\n",
       "      <td>Motor Vehicle Accident Response</td>\n",
       "    </tr>\n",
       "    <tr>\n",
       "      <th>E5</th>\n",
       "      <td>Motor Vehicle Accident Response</td>\n",
       "    </tr>\n",
       "    <tr>\n",
       "      <th>Unknown</th>\n",
       "      <td>Motor Vehicle Accident Response</td>\n",
       "    </tr>\n",
       "  </tbody>\n",
       "</table>\n",
       "</div>"
      ],
      "text/plain": [
       "                       OFFENSE_CODE_GROUP\n",
       "DISTRICT                                 \n",
       "A1                                Larceny\n",
       "A15       Motor Vehicle Accident Response\n",
       "A7        Motor Vehicle Accident Response\n",
       "B2        Motor Vehicle Accident Response\n",
       "B3        Motor Vehicle Accident Response\n",
       "C11       Motor Vehicle Accident Response\n",
       "C6        Motor Vehicle Accident Response\n",
       "D14       Motor Vehicle Accident Response\n",
       "D4                                Larceny\n",
       "E13       Motor Vehicle Accident Response\n",
       "E18       Motor Vehicle Accident Response\n",
       "E5        Motor Vehicle Accident Response\n",
       "Unknown   Motor Vehicle Accident Response"
      ]
     },
     "execution_count": 55,
     "metadata": {},
     "output_type": "execute_result"
    }
   ],
   "source": [
    "most_crime_type_in_each_district = df.groupby('DISTRICT').agg(lambda x:x.value_counts().index[0])['OFFENSE_CODE_GROUP']\n",
    "most_crime_type_in_each_district= pd.DataFrame(most_crime_type_in_each_district)\n",
    "most_crime_type_in_each_district"
   ]
  },
  {
   "cell_type": "code",
   "execution_count": 56,
   "metadata": {
    "colab": {
     "base_uri": "https://localhost:8080/",
     "height": 618
    },
    "id": "K2mXbSgBTGRF",
    "outputId": "036fbb03-105e-4545-89c8-bdc4b85244ef"
   },
   "outputs": [
    {
     "data": {
      "image/png": "[encoded data removed]",
      "text/plain": [
       "<Figure size 1080x720 with 1 Axes>"
      ]
     },
     "metadata": {},
     "output_type": "display_data"
    }
   ],
   "source": [
    "plt.bar(most_crime_type_in_each_district.index ,\n",
    "        pd.Series(most_crime_type_in_each_district.values.flatten()))\n",
    "plt.title('Commen Crime Type in each District',size = 20)\n",
    "plt.show()"
   ]
  },
  {
   "cell_type": "markdown",
   "metadata": {
    "id": "KX0IlWumWswU"
   },
   "source": [
    "## Crimes via Years, Days and Months"
   ]
  },
  {
   "cell_type": "markdown",
   "metadata": {
    "id": "TDDbrz_yzbgw"
   },
   "source": [
    "### For Years"
   ]
  },
  {
   "cell_type": "code",
   "execution_count": 57,
   "metadata": {
    "colab": {
     "base_uri": "https://localhost:8080/"
    },
    "id": "6U7PnA63Pe4Z",
    "outputId": "73206672-5377-47eb-faf1-273110daa9c1"
   },
   "outputs": [
    {
     "data": {
      "text/plain": [
       "2017    100650\n",
       "2016     98822\n",
       "2018     74206\n",
       "2015     53192\n",
       "Name: YEAR, dtype: int64"
      ]
     },
     "execution_count": 57,
     "metadata": {},
     "output_type": "execute_result"
    }
   ],
   "source": [
    "df['YEAR'].value_counts()"
   ]
  },
  {
   "cell_type": "code",
   "execution_count": 58,
   "metadata": {
    "colab": {
     "base_uri": "https://localhost:8080/",
     "height": 596
    },
    "id": "f8PtFv6gQ_QQ",
    "outputId": "b4a17d15-6325-40aa-c8cf-5122dbfaf395"
   },
   "outputs": [
    {
     "data": {
      "image/png": "[encoded data removed]",
      "text/plain": [
       "<Figure size 1080x720 with 1 Axes>"
      ]
     },
     "metadata": {},
     "output_type": "display_data"
    }
   ],
   "source": [
    "plt.pie(df['YEAR'].value_counts(),labels=df['YEAR'].value_counts().index,\n",
    "        autopct ='%1.1f%%',shadow = True, explode = [0.1,0,0,0])\n",
    "plt.title(\" Crimes via Years\", size=20)\n",
    "plt.axis('equal')\n",
    "plt.show()"
   ]
  },
  {
   "cell_type": "markdown",
   "metadata": {
    "id": "2rFQHdh9zt1E"
   },
   "source": [
    "### For Months"
   ]
  },
  {
   "cell_type": "code",
   "execution_count": 59,
   "metadata": {
    "id": "3j7062tHzPaY"
   },
   "outputs": [],
   "source": [
    "df['Month_Name'] = df['OCCURRED_ON_DATE'].dt.month_name()"
   ]
  },
  {
   "cell_type": "code",
   "execution_count": 60,
   "metadata": {
    "colab": {
     "base_uri": "https://localhost:8080/"
    },
    "id": "Db8U-Nq5Z0GI",
    "outputId": "2992ca39-09a4-414c-84e6-e3666afc9003"
   },
   "outputs": [
    {
     "data": {
      "text/plain": [
       "August       35039\n",
       "July         34564\n",
       "September    33924\n",
       "June         30531\n",
       "October      26353\n",
       "May          26187\n",
       "March        24064\n",
       "April        24052\n",
       "November     23612\n",
       "January      23547\n",
       "December     23412\n",
       "February     21585\n",
       "Name: Month_Name, dtype: int64"
      ]
     },
     "execution_count": 60,
     "metadata": {},
     "output_type": "execute_result"
    }
   ],
   "source": [
    "df['Month_Name'].value_counts()"
   ]
  },
  {
   "cell_type": "code",
   "execution_count": 61,
   "metadata": {
    "colab": {
     "base_uri": "https://localhost:8080/",
     "height": 563
    },
    "id": "jn5w_HHc-TWe",
    "outputId": "5eb31fb0-8c81-4df5-825b-f7dda3031dc5",
    "scrolled": false
   },
   "outputs": [
    {
     "data": {
      "image/png": "[encoded data removed]",
      "text/plain": [
       "<Figure size 1440x720 with 1 Axes>"
      ]
     },
     "metadata": {},
     "output_type": "display_data"
    }
   ],
   "source": [
    "\n",
    "sns.set(rc={'figure.figsize':(20, 10)}, font_scale=1.3)\n",
    "plt.bar(df['Month_Name'].value_counts().index,df['Month_Name'].value_counts()\n",
    "           ,facecolor='r',edgecolor='b',width=0.8)\n",
    "plt.show()"
   ]
  },
  {
   "cell_type": "code",
   "execution_count": 62,
   "metadata": {
    "colab": {
     "base_uri": "https://localhost:8080/",
     "height": 590
    },
    "id": "i1demVNpdbW4",
    "outputId": "a20728e0-18d1-4320-acd6-368ea0c63a5c"
   },
   "outputs": [
    {
     "data": {
      "text/plain": [
       "<AxesSubplot:xlabel='Month_Name', ylabel='count'>"
      ]
     },
     "execution_count": 62,
     "metadata": {},
     "output_type": "execute_result"
    },
    {
     "data": {
      "image/png": "[encoded data removed]",
      "text/plain": [
       "<Figure size 1440x720 with 1 Axes>"
      ]
     },
     "metadata": {},
     "output_type": "display_data"
    }
   ],
   "source": [
    "sns.countplot(x=df['Month_Name'],order=df['Month_Name'].value_counts().index,palette='viridis')"
   ]
  },
  {
   "cell_type": "markdown",
   "metadata": {
    "id": "ua2cPieTzkZF"
   },
   "source": [
    "### For Days"
   ]
  },
  {
   "cell_type": "code",
   "execution_count": 63,
   "metadata": {
    "colab": {
     "base_uri": "https://localhost:8080/"
    },
    "id": "330c2583Wm7a",
    "outputId": "5816dc43-3cea-4b03-d8f0-5d47064a2e52"
   },
   "outputs": [
    {
     "data": {
      "text/plain": [
       "Friday       49602\n",
       "Wednesday    48017\n",
       "Thursday     47717\n",
       "Tuesday      47568\n",
       "Monday       46820\n",
       "Saturday     45861\n",
       "Sunday       41285\n",
       "Name: DAY_OF_WEEK, dtype: int64"
      ]
     },
     "execution_count": 63,
     "metadata": {},
     "output_type": "execute_result"
    }
   ],
   "source": [
    "df['DAY_OF_WEEK'].value_counts()"
   ]
  },
  {
   "cell_type": "code",
   "execution_count": 64,
   "metadata": {
    "colab": {
     "base_uri": "https://localhost:8080/",
     "height": 598
    },
    "id": "1YU26YRF_uSb",
    "outputId": "e32937d7-ae39-46d1-c2e6-1bea9af86703"
   },
   "outputs": [
    {
     "data": {
      "image/png": "[encoded data removed]",
      "text/plain": [
       "<Figure size 1080x720 with 1 Axes>"
      ]
     },
     "metadata": {},
     "output_type": "display_data"
    }
   ],
   "source": [
    "sns.set(rc={'figure.figsize':(15, 10)}, font_scale=1.3)\n",
    "plt.bar(df['DAY_OF_WEEK'].value_counts().index,df['DAY_OF_WEEK'].value_counts()\n",
    "           ,facecolor='r',edgecolor='b',width=0.8)\n",
    "plt.show()"
   ]
  },
  {
   "cell_type": "code",
   "execution_count": 65,
   "metadata": {
    "colab": {
     "base_uri": "https://localhost:8080/",
     "height": 635
    },
    "id": "PSQbzoFsW4LU",
    "outputId": "6917dd43-21c2-49f0-da0e-3f4e526ee152"
   },
   "outputs": [
    {
     "data": {
      "text/plain": [
       "<AxesSubplot:xlabel='DAY_OF_WEEK', ylabel='count'>"
      ]
     },
     "execution_count": 65,
     "metadata": {},
     "output_type": "execute_result"
    },
    {
     "data": {
      "image/png": "[encoded data removed]",
      "text/plain": [
       "<Figure size 1080x720 with 1 Axes>"
      ]
     },
     "metadata": {},
     "output_type": "display_data"
    }
   ],
   "source": [
    "sns.countplot(x=df['DAY_OF_WEEK'],order=df['DAY_OF_WEEK'].value_counts().index,palette='viridis')"
   ]
  },
  {
   "cell_type": "markdown",
   "metadata": {
    "id": "GF0weq69XaRb"
   },
   "source": [
    "## in which period of day most of crime occurs ?"
   ]
  },
  {
   "cell_type": "code",
   "execution_count": 66,
   "metadata": {
    "id": "VGiXDT44W8Xp"
   },
   "outputs": [],
   "source": [
    "df['Hour'] = df['OCCURRED_ON_DATE'].dt.hour"
   ]
  },
  {
   "cell_type": "code",
   "execution_count": 67,
   "metadata": {
    "id": "UjeWUFHvZCo6"
   },
   "outputs": [],
   "source": [
    "def map_hours(x):\n",
    "    if x in range(0, 13):\n",
    "        return 'morning'\n",
    "    elif x in range(13, 19): \n",
    "        return 'afternoon'\n",
    "    else:\n",
    "        return 'evening'\n",
    "    \n",
    "df['Period'] = df['Hour'].apply(map_hours)"
   ]
  },
  {
   "cell_type": "code",
   "execution_count": 68,
   "metadata": {
    "colab": {
     "base_uri": "https://localhost:8080/",
     "height": 713
    },
    "id": "LIiba_0cZu0T",
    "outputId": "d880136a-2a22-406b-ff8b-758e6de9af2e"
   },
   "outputs": [
    {
     "data": {
      "text/html": [
       "<div>\n",
       "<style scoped>\n",
       "    .dataframe tbody tr th:only-of-type {\n",
       "        vertical-align: middle;\n",
       "    }\n",
       "\n",
       "    .dataframe tbody tr th {\n",
       "        vertical-align: top;\n",
       "    }\n",
       "\n",
       "    .dataframe thead th {\n",
       "        text-align: right;\n",
       "    }\n",
       "</style>\n",
       "<table border=\"1\" class=\"dataframe\">\n",
       "  <thead>\n",
       "    <tr style=\"text-align: right;\">\n",
       "      <th></th>\n",
       "      <th>OFFENSE_CODE_GROUP</th>\n",
       "      <th>OFFENSE_DESCRIPTION</th>\n",
       "      <th>DISTRICT</th>\n",
       "      <th>SHOOTING</th>\n",
       "      <th>OCCURRED_ON_DATE</th>\n",
       "      <th>YEAR</th>\n",
       "      <th>MONTH</th>\n",
       "      <th>DAY_OF_WEEK</th>\n",
       "      <th>HOUR</th>\n",
       "      <th>UCR_PART</th>\n",
       "      <th>STREET</th>\n",
       "      <th>Lat</th>\n",
       "      <th>Long</th>\n",
       "      <th>Month_Name</th>\n",
       "      <th>Hour</th>\n",
       "      <th>Period</th>\n",
       "    </tr>\n",
       "  </thead>\n",
       "  <tbody>\n",
       "    <tr>\n",
       "      <th>0</th>\n",
       "      <td>Disorderly Conduct</td>\n",
       "      <td>DISTURBING THE PEACE</td>\n",
       "      <td>E18</td>\n",
       "      <td>No</td>\n",
       "      <td>2018-10-03 20:13:00</td>\n",
       "      <td>2018</td>\n",
       "      <td>10</td>\n",
       "      <td>Wednesday</td>\n",
       "      <td>20</td>\n",
       "      <td>Part Two</td>\n",
       "      <td>ARLINGTON ST</td>\n",
       "      <td>42.262608</td>\n",
       "      <td>-71.121186</td>\n",
       "      <td>October</td>\n",
       "      <td>20</td>\n",
       "      <td>evening</td>\n",
       "    </tr>\n",
       "    <tr>\n",
       "      <th>1</th>\n",
       "      <td>Property Lost</td>\n",
       "      <td>PROPERTY - LOST</td>\n",
       "      <td>D14</td>\n",
       "      <td>No</td>\n",
       "      <td>2018-08-30 20:00:00</td>\n",
       "      <td>2018</td>\n",
       "      <td>8</td>\n",
       "      <td>Thursday</td>\n",
       "      <td>20</td>\n",
       "      <td>Part Three</td>\n",
       "      <td>ALLSTON ST</td>\n",
       "      <td>42.352111</td>\n",
       "      <td>-71.135311</td>\n",
       "      <td>August</td>\n",
       "      <td>20</td>\n",
       "      <td>evening</td>\n",
       "    </tr>\n",
       "    <tr>\n",
       "      <th>2</th>\n",
       "      <td>Other</td>\n",
       "      <td>THREATS TO DO BODILY HARM</td>\n",
       "      <td>B2</td>\n",
       "      <td>No</td>\n",
       "      <td>2018-10-03 19:20:00</td>\n",
       "      <td>2018</td>\n",
       "      <td>10</td>\n",
       "      <td>Wednesday</td>\n",
       "      <td>19</td>\n",
       "      <td>Part Two</td>\n",
       "      <td>DEVON ST</td>\n",
       "      <td>42.308126</td>\n",
       "      <td>-71.076930</td>\n",
       "      <td>October</td>\n",
       "      <td>19</td>\n",
       "      <td>evening</td>\n",
       "    </tr>\n",
       "    <tr>\n",
       "      <th>3</th>\n",
       "      <td>Aggravated Assault</td>\n",
       "      <td>ASSAULT - AGGRAVATED - BATTERY</td>\n",
       "      <td>A1</td>\n",
       "      <td>No</td>\n",
       "      <td>2018-10-03 20:00:00</td>\n",
       "      <td>2018</td>\n",
       "      <td>10</td>\n",
       "      <td>Wednesday</td>\n",
       "      <td>20</td>\n",
       "      <td>Part One</td>\n",
       "      <td>CAMBRIDGE ST</td>\n",
       "      <td>42.359454</td>\n",
       "      <td>-71.059648</td>\n",
       "      <td>October</td>\n",
       "      <td>20</td>\n",
       "      <td>evening</td>\n",
       "    </tr>\n",
       "    <tr>\n",
       "      <th>4</th>\n",
       "      <td>Aircraft</td>\n",
       "      <td>AIRCRAFT INCIDENTS</td>\n",
       "      <td>A7</td>\n",
       "      <td>No</td>\n",
       "      <td>2018-10-03 20:49:00</td>\n",
       "      <td>2018</td>\n",
       "      <td>10</td>\n",
       "      <td>Wednesday</td>\n",
       "      <td>20</td>\n",
       "      <td>Part Three</td>\n",
       "      <td>PRESCOTT ST</td>\n",
       "      <td>42.375258</td>\n",
       "      <td>-71.024663</td>\n",
       "      <td>October</td>\n",
       "      <td>20</td>\n",
       "      <td>evening</td>\n",
       "    </tr>\n",
       "    <tr>\n",
       "      <th>...</th>\n",
       "      <td>...</td>\n",
       "      <td>...</td>\n",
       "      <td>...</td>\n",
       "      <td>...</td>\n",
       "      <td>...</td>\n",
       "      <td>...</td>\n",
       "      <td>...</td>\n",
       "      <td>...</td>\n",
       "      <td>...</td>\n",
       "      <td>...</td>\n",
       "      <td>...</td>\n",
       "      <td>...</td>\n",
       "      <td>...</td>\n",
       "      <td>...</td>\n",
       "      <td>...</td>\n",
       "      <td>...</td>\n",
       "    </tr>\n",
       "    <tr>\n",
       "      <th>327815</th>\n",
       "      <td>Warrant Arrests</td>\n",
       "      <td>WARRANT ARREST</td>\n",
       "      <td>D4</td>\n",
       "      <td>No</td>\n",
       "      <td>2016-06-05 17:25:00</td>\n",
       "      <td>2016</td>\n",
       "      <td>6</td>\n",
       "      <td>Sunday</td>\n",
       "      <td>17</td>\n",
       "      <td>Part Three</td>\n",
       "      <td>COVENTRY ST</td>\n",
       "      <td>42.336951</td>\n",
       "      <td>-71.085748</td>\n",
       "      <td>June</td>\n",
       "      <td>17</td>\n",
       "      <td>afternoon</td>\n",
       "    </tr>\n",
       "    <tr>\n",
       "      <th>327816</th>\n",
       "      <td>Homicide</td>\n",
       "      <td>MURDER, NON-NEGLIGIENT MANSLAUGHTER</td>\n",
       "      <td>E18</td>\n",
       "      <td>No</td>\n",
       "      <td>2015-07-09 13:38:00</td>\n",
       "      <td>2015</td>\n",
       "      <td>7</td>\n",
       "      <td>Thursday</td>\n",
       "      <td>13</td>\n",
       "      <td>Part One</td>\n",
       "      <td>RIVER ST</td>\n",
       "      <td>42.255926</td>\n",
       "      <td>-71.123172</td>\n",
       "      <td>July</td>\n",
       "      <td>13</td>\n",
       "      <td>afternoon</td>\n",
       "    </tr>\n",
       "    <tr>\n",
       "      <th>327817</th>\n",
       "      <td>Warrant Arrests</td>\n",
       "      <td>WARRANT ARREST</td>\n",
       "      <td>E18</td>\n",
       "      <td>No</td>\n",
       "      <td>2015-07-09 13:38:00</td>\n",
       "      <td>2015</td>\n",
       "      <td>7</td>\n",
       "      <td>Thursday</td>\n",
       "      <td>13</td>\n",
       "      <td>Part Three</td>\n",
       "      <td>RIVER ST</td>\n",
       "      <td>42.255926</td>\n",
       "      <td>-71.123172</td>\n",
       "      <td>July</td>\n",
       "      <td>13</td>\n",
       "      <td>afternoon</td>\n",
       "    </tr>\n",
       "    <tr>\n",
       "      <th>327818</th>\n",
       "      <td>Warrant Arrests</td>\n",
       "      <td>WARRANT ARREST</td>\n",
       "      <td>E13</td>\n",
       "      <td>No</td>\n",
       "      <td>2016-05-31 19:35:00</td>\n",
       "      <td>2016</td>\n",
       "      <td>5</td>\n",
       "      <td>Tuesday</td>\n",
       "      <td>19</td>\n",
       "      <td>Part Three</td>\n",
       "      <td>NEW WASHINGTON ST</td>\n",
       "      <td>42.302333</td>\n",
       "      <td>-71.111565</td>\n",
       "      <td>May</td>\n",
       "      <td>19</td>\n",
       "      <td>evening</td>\n",
       "    </tr>\n",
       "    <tr>\n",
       "      <th>327819</th>\n",
       "      <td>Warrant Arrests</td>\n",
       "      <td>WARRANT ARREST</td>\n",
       "      <td>D4</td>\n",
       "      <td>No</td>\n",
       "      <td>2015-06-22 00:12:00</td>\n",
       "      <td>2015</td>\n",
       "      <td>6</td>\n",
       "      <td>Monday</td>\n",
       "      <td>0</td>\n",
       "      <td>Part Three</td>\n",
       "      <td>WASHINGTON ST</td>\n",
       "      <td>42.333839</td>\n",
       "      <td>-71.080290</td>\n",
       "      <td>June</td>\n",
       "      <td>0</td>\n",
       "      <td>morning</td>\n",
       "    </tr>\n",
       "  </tbody>\n",
       "</table>\n",
       "<p>326870 rows × 16 columns</p>\n",
       "</div>"
      ],
      "text/plain": [
       "        OFFENSE_CODE_GROUP                  OFFENSE_DESCRIPTION DISTRICT  \\\n",
       "0       Disorderly Conduct                 DISTURBING THE PEACE      E18   \n",
       "1            Property Lost                      PROPERTY - LOST      D14   \n",
       "2                    Other            THREATS TO DO BODILY HARM       B2   \n",
       "3       Aggravated Assault       ASSAULT - AGGRAVATED - BATTERY       A1   \n",
       "4                 Aircraft                   AIRCRAFT INCIDENTS       A7   \n",
       "...                    ...                                  ...      ...   \n",
       "327815     Warrant Arrests                       WARRANT ARREST       D4   \n",
       "327816            Homicide  MURDER, NON-NEGLIGIENT MANSLAUGHTER      E18   \n",
       "327817     Warrant Arrests                       WARRANT ARREST      E18   \n",
       "327818     Warrant Arrests                       WARRANT ARREST      E13   \n",
       "327819     Warrant Arrests                       WARRANT ARREST       D4   \n",
       "\n",
       "       SHOOTING    OCCURRED_ON_DATE  YEAR  MONTH DAY_OF_WEEK  HOUR  \\\n",
       "0            No 2018-10-03 20:13:00  2018     10   Wednesday    20   \n",
       "1            No 2018-08-30 20:00:00  2018      8    Thursday    20   \n",
       "2            No 2018-10-03 19:20:00  2018     10   Wednesday    19   \n",
       "3            No 2018-10-03 20:00:00  2018     10   Wednesday    20   \n",
       "4            No 2018-10-03 20:49:00  2018     10   Wednesday    20   \n",
       "...         ...                 ...   ...    ...         ...   ...   \n",
       "327815       No 2016-06-05 17:25:00  2016      6      Sunday    17   \n",
       "327816       No 2015-07-09 13:38:00  2015      7    Thursday    13   \n",
       "327817       No 2015-07-09 13:38:00  2015      7    Thursday    13   \n",
       "327818       No 2016-05-31 19:35:00  2016      5     Tuesday    19   \n",
       "327819       No 2015-06-22 00:12:00  2015      6      Monday     0   \n",
       "\n",
       "          UCR_PART             STREET        Lat       Long Month_Name  Hour  \\\n",
       "0         Part Two       ARLINGTON ST  42.262608 -71.121186    October    20   \n",
       "1       Part Three         ALLSTON ST  42.352111 -71.135311     August    20   \n",
       "2         Part Two           DEVON ST  42.308126 -71.076930    October    19   \n",
       "3         Part One       CAMBRIDGE ST  42.359454 -71.059648    October    20   \n",
       "4       Part Three        PRESCOTT ST  42.375258 -71.024663    October    20   \n",
       "...            ...                ...        ...        ...        ...   ...   \n",
       "327815  Part Three        COVENTRY ST  42.336951 -71.085748       June    17   \n",
       "327816    Part One           RIVER ST  42.255926 -71.123172       July    13   \n",
       "327817  Part Three           RIVER ST  42.255926 -71.123172       July    13   \n",
       "327818  Part Three  NEW WASHINGTON ST  42.302333 -71.111565        May    19   \n",
       "327819  Part Three      WASHINGTON ST  42.333839 -71.080290       June     0   \n",
       "\n",
       "           Period  \n",
       "0         evening  \n",
       "1         evening  \n",
       "2         evening  \n",
       "3         evening  \n",
       "4         evening  \n",
       "...           ...  \n",
       "327815  afternoon  \n",
       "327816  afternoon  \n",
       "327817  afternoon  \n",
       "327818    evening  \n",
       "327819    morning  \n",
       "\n",
       "[326870 rows x 16 columns]"
      ]
     },
     "execution_count": 68,
     "metadata": {},
     "output_type": "execute_result"
    }
   ],
   "source": [
    "df"
   ]
  },
  {
   "cell_type": "code",
   "execution_count": 69,
   "metadata": {
    "colab": {
     "base_uri": "https://localhost:8080/",
     "height": 575
    },
    "id": "SbYVIDjIZLPI",
    "outputId": "010e251b-30c3-4c4c-9264-00a0168d88de"
   },
   "outputs": [
    {
     "data": {
      "image/png": "[encoded data removed]",
      "text/plain": [
       "<Figure size 1080x720 with 1 Axes>"
      ]
     },
     "metadata": {},
     "output_type": "display_data"
    }
   ],
   "source": [
    "plt.pie(df['Period'].value_counts(),labels=df['Period'].value_counts().index,\n",
    "        autopct ='%1.1f%%',shadow = True, explode = [0.1,0,0],startangle=180)\n",
    "plt.axis('equal')\n",
    "plt.show()"
   ]
  },
  {
   "cell_type": "markdown",
   "metadata": {
    "id": "uLcsfhjJeRu6"
   },
   "source": [
    "## Does season affect on occurance of criems ?"
   ]
  },
  {
   "cell_type": "code",
   "execution_count": 70,
   "metadata": {
    "id": "-k01GMQndLPM"
   },
   "outputs": [],
   "source": [
    "def map_months(x):\n",
    "    if x in [12, 1, 2]:\n",
    "        return 'Winter'\n",
    "    elif x in [3, 4, 5]:\n",
    "        return 'Spring'\n",
    "    elif x in [6, 7, 8]:\n",
    "        return 'Summer'\n",
    "    elif x in [9, 10, 11]:\n",
    "        return 'Autumn'\n",
    "    \n",
    "df['Season'] = df['MONTH'].apply(map_months)"
   ]
  },
  {
   "cell_type": "code",
   "execution_count": 71,
   "metadata": {
    "colab": {
     "base_uri": "https://localhost:8080/",
     "height": 713
    },
    "id": "TpdYoCHfek_Y",
    "outputId": "4d55fe22-71a9-48cf-9289-905b991bfb41"
   },
   "outputs": [
    {
     "data": {
      "text/html": [
       "<div>\n",
       "<style scoped>\n",
       "    .dataframe tbody tr th:only-of-type {\n",
       "        vertical-align: middle;\n",
       "    }\n",
       "\n",
       "    .dataframe tbody tr th {\n",
       "        vertical-align: top;\n",
       "    }\n",
       "\n",
       "    .dataframe thead th {\n",
       "        text-align: right;\n",
       "    }\n",
       "</style>\n",
       "<table border=\"1\" class=\"dataframe\">\n",
       "  <thead>\n",
       "    <tr style=\"text-align: right;\">\n",
       "      <th></th>\n",
       "      <th>OFFENSE_CODE_GROUP</th>\n",
       "      <th>OFFENSE_DESCRIPTION</th>\n",
       "      <th>DISTRICT</th>\n",
       "      <th>SHOOTING</th>\n",
       "      <th>OCCURRED_ON_DATE</th>\n",
       "      <th>YEAR</th>\n",
       "      <th>MONTH</th>\n",
       "      <th>DAY_OF_WEEK</th>\n",
       "      <th>HOUR</th>\n",
       "      <th>UCR_PART</th>\n",
       "      <th>STREET</th>\n",
       "      <th>Lat</th>\n",
       "      <th>Long</th>\n",
       "      <th>Month_Name</th>\n",
       "      <th>Hour</th>\n",
       "      <th>Period</th>\n",
       "      <th>Season</th>\n",
       "    </tr>\n",
       "  </thead>\n",
       "  <tbody>\n",
       "    <tr>\n",
       "      <th>0</th>\n",
       "      <td>Disorderly Conduct</td>\n",
       "      <td>DISTURBING THE PEACE</td>\n",
       "      <td>E18</td>\n",
       "      <td>No</td>\n",
       "      <td>2018-10-03 20:13:00</td>\n",
       "      <td>2018</td>\n",
       "      <td>10</td>\n",
       "      <td>Wednesday</td>\n",
       "      <td>20</td>\n",
       "      <td>Part Two</td>\n",
       "      <td>ARLINGTON ST</td>\n",
       "      <td>42.262608</td>\n",
       "      <td>-71.121186</td>\n",
       "      <td>October</td>\n",
       "      <td>20</td>\n",
       "      <td>evening</td>\n",
       "      <td>Autumn</td>\n",
       "    </tr>\n",
       "    <tr>\n",
       "      <th>1</th>\n",
       "      <td>Property Lost</td>\n",
       "      <td>PROPERTY - LOST</td>\n",
       "      <td>D14</td>\n",
       "      <td>No</td>\n",
       "      <td>2018-08-30 20:00:00</td>\n",
       "      <td>2018</td>\n",
       "      <td>8</td>\n",
       "      <td>Thursday</td>\n",
       "      <td>20</td>\n",
       "      <td>Part Three</td>\n",
       "      <td>ALLSTON ST</td>\n",
       "      <td>42.352111</td>\n",
       "      <td>-71.135311</td>\n",
       "      <td>August</td>\n",
       "      <td>20</td>\n",
       "      <td>evening</td>\n",
       "      <td>Summer</td>\n",
       "    </tr>\n",
       "    <tr>\n",
       "      <th>2</th>\n",
       "      <td>Other</td>\n",
       "      <td>THREATS TO DO BODILY HARM</td>\n",
       "      <td>B2</td>\n",
       "      <td>No</td>\n",
       "      <td>2018-10-03 19:20:00</td>\n",
       "      <td>2018</td>\n",
       "      <td>10</td>\n",
       "      <td>Wednesday</td>\n",
       "      <td>19</td>\n",
       "      <td>Part Two</td>\n",
       "      <td>DEVON ST</td>\n",
       "      <td>42.308126</td>\n",
       "      <td>-71.076930</td>\n",
       "      <td>October</td>\n",
       "      <td>19</td>\n",
       "      <td>evening</td>\n",
       "      <td>Autumn</td>\n",
       "    </tr>\n",
       "    <tr>\n",
       "      <th>3</th>\n",
       "      <td>Aggravated Assault</td>\n",
       "      <td>ASSAULT - AGGRAVATED - BATTERY</td>\n",
       "      <td>A1</td>\n",
       "      <td>No</td>\n",
       "      <td>2018-10-03 20:00:00</td>\n",
       "      <td>2018</td>\n",
       "      <td>10</td>\n",
       "      <td>Wednesday</td>\n",
       "      <td>20</td>\n",
       "      <td>Part One</td>\n",
       "      <td>CAMBRIDGE ST</td>\n",
       "      <td>42.359454</td>\n",
       "      <td>-71.059648</td>\n",
       "      <td>October</td>\n",
       "      <td>20</td>\n",
       "      <td>evening</td>\n",
       "      <td>Autumn</td>\n",
       "    </tr>\n",
       "    <tr>\n",
       "      <th>4</th>\n",
       "      <td>Aircraft</td>\n",
       "      <td>AIRCRAFT INCIDENTS</td>\n",
       "      <td>A7</td>\n",
       "      <td>No</td>\n",
       "      <td>2018-10-03 20:49:00</td>\n",
       "      <td>2018</td>\n",
       "      <td>10</td>\n",
       "      <td>Wednesday</td>\n",
       "      <td>20</td>\n",
       "      <td>Part Three</td>\n",
       "      <td>PRESCOTT ST</td>\n",
       "      <td>42.375258</td>\n",
       "      <td>-71.024663</td>\n",
       "      <td>October</td>\n",
       "      <td>20</td>\n",
       "      <td>evening</td>\n",
       "      <td>Autumn</td>\n",
       "    </tr>\n",
       "    <tr>\n",
       "      <th>...</th>\n",
       "      <td>...</td>\n",
       "      <td>...</td>\n",
       "      <td>...</td>\n",
       "      <td>...</td>\n",
       "      <td>...</td>\n",
       "      <td>...</td>\n",
       "      <td>...</td>\n",
       "      <td>...</td>\n",
       "      <td>...</td>\n",
       "      <td>...</td>\n",
       "      <td>...</td>\n",
       "      <td>...</td>\n",
       "      <td>...</td>\n",
       "      <td>...</td>\n",
       "      <td>...</td>\n",
       "      <td>...</td>\n",
       "      <td>...</td>\n",
       "    </tr>\n",
       "    <tr>\n",
       "      <th>327815</th>\n",
       "      <td>Warrant Arrests</td>\n",
       "      <td>WARRANT ARREST</td>\n",
       "      <td>D4</td>\n",
       "      <td>No</td>\n",
       "      <td>2016-06-05 17:25:00</td>\n",
       "      <td>2016</td>\n",
       "      <td>6</td>\n",
       "      <td>Sunday</td>\n",
       "      <td>17</td>\n",
       "      <td>Part Three</td>\n",
       "      <td>COVENTRY ST</td>\n",
       "      <td>42.336951</td>\n",
       "      <td>-71.085748</td>\n",
       "      <td>June</td>\n",
       "      <td>17</td>\n",
       "      <td>afternoon</td>\n",
       "      <td>Summer</td>\n",
       "    </tr>\n",
       "    <tr>\n",
       "      <th>327816</th>\n",
       "      <td>Homicide</td>\n",
       "      <td>MURDER, NON-NEGLIGIENT MANSLAUGHTER</td>\n",
       "      <td>E18</td>\n",
       "      <td>No</td>\n",
       "      <td>2015-07-09 13:38:00</td>\n",
       "      <td>2015</td>\n",
       "      <td>7</td>\n",
       "      <td>Thursday</td>\n",
       "      <td>13</td>\n",
       "      <td>Part One</td>\n",
       "      <td>RIVER ST</td>\n",
       "      <td>42.255926</td>\n",
       "      <td>-71.123172</td>\n",
       "      <td>July</td>\n",
       "      <td>13</td>\n",
       "      <td>afternoon</td>\n",
       "      <td>Summer</td>\n",
       "    </tr>\n",
       "    <tr>\n",
       "      <th>327817</th>\n",
       "      <td>Warrant Arrests</td>\n",
       "      <td>WARRANT ARREST</td>\n",
       "      <td>E18</td>\n",
       "      <td>No</td>\n",
       "      <td>2015-07-09 13:38:00</td>\n",
       "      <td>2015</td>\n",
       "      <td>7</td>\n",
       "      <td>Thursday</td>\n",
       "      <td>13</td>\n",
       "      <td>Part Three</td>\n",
       "      <td>RIVER ST</td>\n",
       "      <td>42.255926</td>\n",
       "      <td>-71.123172</td>\n",
       "      <td>July</td>\n",
       "      <td>13</td>\n",
       "      <td>afternoon</td>\n",
       "      <td>Summer</td>\n",
       "    </tr>\n",
       "    <tr>\n",
       "      <th>327818</th>\n",
       "      <td>Warrant Arrests</td>\n",
       "      <td>WARRANT ARREST</td>\n",
       "      <td>E13</td>\n",
       "      <td>No</td>\n",
       "      <td>2016-05-31 19:35:00</td>\n",
       "      <td>2016</td>\n",
       "      <td>5</td>\n",
       "      <td>Tuesday</td>\n",
       "      <td>19</td>\n",
       "      <td>Part Three</td>\n",
       "      <td>NEW WASHINGTON ST</td>\n",
       "      <td>42.302333</td>\n",
       "      <td>-71.111565</td>\n",
       "      <td>May</td>\n",
       "      <td>19</td>\n",
       "      <td>evening</td>\n",
       "      <td>Spring</td>\n",
       "    </tr>\n",
       "    <tr>\n",
       "      <th>327819</th>\n",
       "      <td>Warrant Arrests</td>\n",
       "      <td>WARRANT ARREST</td>\n",
       "      <td>D4</td>\n",
       "      <td>No</td>\n",
       "      <td>2015-06-22 00:12:00</td>\n",
       "      <td>2015</td>\n",
       "      <td>6</td>\n",
       "      <td>Monday</td>\n",
       "      <td>0</td>\n",
       "      <td>Part Three</td>\n",
       "      <td>WASHINGTON ST</td>\n",
       "      <td>42.333839</td>\n",
       "      <td>-71.080290</td>\n",
       "      <td>June</td>\n",
       "      <td>0</td>\n",
       "      <td>morning</td>\n",
       "      <td>Summer</td>\n",
       "    </tr>\n",
       "  </tbody>\n",
       "</table>\n",
       "<p>326870 rows × 17 columns</p>\n",
       "</div>"
      ],
      "text/plain": [
       "        OFFENSE_CODE_GROUP                  OFFENSE_DESCRIPTION DISTRICT  \\\n",
       "0       Disorderly Conduct                 DISTURBING THE PEACE      E18   \n",
       "1            Property Lost                      PROPERTY - LOST      D14   \n",
       "2                    Other            THREATS TO DO BODILY HARM       B2   \n",
       "3       Aggravated Assault       ASSAULT - AGGRAVATED - BATTERY       A1   \n",
       "4                 Aircraft                   AIRCRAFT INCIDENTS       A7   \n",
       "...                    ...                                  ...      ...   \n",
       "327815     Warrant Arrests                       WARRANT ARREST       D4   \n",
       "327816            Homicide  MURDER, NON-NEGLIGIENT MANSLAUGHTER      E18   \n",
       "327817     Warrant Arrests                       WARRANT ARREST      E18   \n",
       "327818     Warrant Arrests                       WARRANT ARREST      E13   \n",
       "327819     Warrant Arrests                       WARRANT ARREST       D4   \n",
       "\n",
       "       SHOOTING    OCCURRED_ON_DATE  YEAR  MONTH DAY_OF_WEEK  HOUR  \\\n",
       "0            No 2018-10-03 20:13:00  2018     10   Wednesday    20   \n",
       "1            No 2018-08-30 20:00:00  2018      8    Thursday    20   \n",
       "2            No 2018-10-03 19:20:00  2018     10   Wednesday    19   \n",
       "3            No 2018-10-03 20:00:00  2018     10   Wednesday    20   \n",
       "4            No 2018-10-03 20:49:00  2018     10   Wednesday    20   \n",
       "...         ...                 ...   ...    ...         ...   ...   \n",
       "327815       No 2016-06-05 17:25:00  2016      6      Sunday    17   \n",
       "327816       No 2015-07-09 13:38:00  2015      7    Thursday    13   \n",
       "327817       No 2015-07-09 13:38:00  2015      7    Thursday    13   \n",
       "327818       No 2016-05-31 19:35:00  2016      5     Tuesday    19   \n",
       "327819       No 2015-06-22 00:12:00  2015      6      Monday     0   \n",
       "\n",
       "          UCR_PART             STREET        Lat       Long Month_Name  Hour  \\\n",
       "0         Part Two       ARLINGTON ST  42.262608 -71.121186    October    20   \n",
       "1       Part Three         ALLSTON ST  42.352111 -71.135311     August    20   \n",
       "2         Part Two           DEVON ST  42.308126 -71.076930    October    19   \n",
       "3         Part One       CAMBRIDGE ST  42.359454 -71.059648    October    20   \n",
       "4       Part Three        PRESCOTT ST  42.375258 -71.024663    October    20   \n",
       "...            ...                ...        ...        ...        ...   ...   \n",
       "327815  Part Three        COVENTRY ST  42.336951 -71.085748       June    17   \n",
       "327816    Part One           RIVER ST  42.255926 -71.123172       July    13   \n",
       "327817  Part Three           RIVER ST  42.255926 -71.123172       July    13   \n",
       "327818  Part Three  NEW WASHINGTON ST  42.302333 -71.111565        May    19   \n",
       "327819  Part Three      WASHINGTON ST  42.333839 -71.080290       June     0   \n",
       "\n",
       "           Period  Season  \n",
       "0         evening  Autumn  \n",
       "1         evening  Summer  \n",
       "2         evening  Autumn  \n",
       "3         evening  Autumn  \n",
       "4         evening  Autumn  \n",
       "...           ...     ...  \n",
       "327815  afternoon  Summer  \n",
       "327816  afternoon  Summer  \n",
       "327817  afternoon  Summer  \n",
       "327818    evening  Spring  \n",
       "327819    morning  Summer  \n",
       "\n",
       "[326870 rows x 17 columns]"
      ]
     },
     "execution_count": 71,
     "metadata": {},
     "output_type": "execute_result"
    }
   ],
   "source": [
    "df"
   ]
  },
  {
   "cell_type": "code",
   "execution_count": 72,
   "metadata": {
    "colab": {
     "base_uri": "https://localhost:8080/"
    },
    "id": "gByruQszerkO",
    "outputId": "73e3311e-6cfd-4592-b7f1-930c8a6bf5ef"
   },
   "outputs": [
    {
     "data": {
      "text/plain": [
       "Summer    100134\n",
       "Autumn     83889\n",
       "Spring     74303\n",
       "Winter     68544\n",
       "Name: Season, dtype: int64"
      ]
     },
     "execution_count": 72,
     "metadata": {},
     "output_type": "execute_result"
    }
   ],
   "source": [
    "df['Season'].value_counts()"
   ]
  },
  {
   "cell_type": "code",
   "execution_count": 73,
   "metadata": {
    "colab": {
     "base_uri": "https://localhost:8080/",
     "height": 575
    },
    "id": "g5uoEqYFe_r5",
    "outputId": "7cd9c7bf-581f-4fc9-f7f6-df91f3abcf22"
   },
   "outputs": [
    {
     "data": {
      "image/png": "[encoded data removed]",
      "text/plain": [
       "<Figure size 1080x720 with 1 Axes>"
      ]
     },
     "metadata": {},
     "output_type": "display_data"
    }
   ],
   "source": [
    "plt.pie(df['Season'].value_counts(),labels=df['Season'].value_counts().index,\n",
    "        autopct ='%1.1f%%',shadow = True, explode = [0.1,0,0,0])\n",
    "plt.axis('equal')\n",
    "plt.show()"
   ]
  },
  {
   "cell_type": "markdown",
   "metadata": {
    "id": "5GeRhiXsgdak"
   },
   "source": [
    "# Data Preprocessing ||"
   ]
  },
  {
   "cell_type": "code",
   "execution_count": 74,
   "metadata": {
    "id": "YFc6c2HufFGM"
   },
   "outputs": [],
   "source": [
    "df.drop(['Season','Period','STREET','OCCURRED_ON_DATE','Hour','Month_Name'],axis=1,inplace = True)"
   ]
  },
  {
   "cell_type": "code",
   "execution_count": 75,
   "metadata": {
    "id": "7vcx7NZZhGwe"
   },
   "outputs": [],
   "source": [
    "df[['Lat','Long']] =df[['Lat','Long']].round(2) "
   ]
  },
  {
   "cell_type": "code",
   "execution_count": 76,
   "metadata": {
    "colab": {
     "base_uri": "https://localhost:8080/",
     "height": 467
    },
    "id": "vpb6J4WvhWlW",
    "outputId": "a70a5dec-0143-4a20-e429-92452a826d15"
   },
   "outputs": [
    {
     "data": {
      "text/html": [
       "<div>\n",
       "<style scoped>\n",
       "    .dataframe tbody tr th:only-of-type {\n",
       "        vertical-align: middle;\n",
       "    }\n",
       "\n",
       "    .dataframe tbody tr th {\n",
       "        vertical-align: top;\n",
       "    }\n",
       "\n",
       "    .dataframe thead th {\n",
       "        text-align: right;\n",
       "    }\n",
       "</style>\n",
       "<table border=\"1\" class=\"dataframe\">\n",
       "  <thead>\n",
       "    <tr style=\"text-align: right;\">\n",
       "      <th></th>\n",
       "      <th>OFFENSE_CODE_GROUP</th>\n",
       "      <th>OFFENSE_DESCRIPTION</th>\n",
       "      <th>DISTRICT</th>\n",
       "      <th>SHOOTING</th>\n",
       "      <th>YEAR</th>\n",
       "      <th>MONTH</th>\n",
       "      <th>DAY_OF_WEEK</th>\n",
       "      <th>HOUR</th>\n",
       "      <th>UCR_PART</th>\n",
       "      <th>Lat</th>\n",
       "      <th>Long</th>\n",
       "    </tr>\n",
       "  </thead>\n",
       "  <tbody>\n",
       "    <tr>\n",
       "      <th>0</th>\n",
       "      <td>Disorderly Conduct</td>\n",
       "      <td>DISTURBING THE PEACE</td>\n",
       "      <td>E18</td>\n",
       "      <td>No</td>\n",
       "      <td>2018</td>\n",
       "      <td>10</td>\n",
       "      <td>Wednesday</td>\n",
       "      <td>20</td>\n",
       "      <td>Part Two</td>\n",
       "      <td>42.26</td>\n",
       "      <td>-71.12</td>\n",
       "    </tr>\n",
       "    <tr>\n",
       "      <th>1</th>\n",
       "      <td>Property Lost</td>\n",
       "      <td>PROPERTY - LOST</td>\n",
       "      <td>D14</td>\n",
       "      <td>No</td>\n",
       "      <td>2018</td>\n",
       "      <td>8</td>\n",
       "      <td>Thursday</td>\n",
       "      <td>20</td>\n",
       "      <td>Part Three</td>\n",
       "      <td>42.35</td>\n",
       "      <td>-71.14</td>\n",
       "    </tr>\n",
       "    <tr>\n",
       "      <th>2</th>\n",
       "      <td>Other</td>\n",
       "      <td>THREATS TO DO BODILY HARM</td>\n",
       "      <td>B2</td>\n",
       "      <td>No</td>\n",
       "      <td>2018</td>\n",
       "      <td>10</td>\n",
       "      <td>Wednesday</td>\n",
       "      <td>19</td>\n",
       "      <td>Part Two</td>\n",
       "      <td>42.31</td>\n",
       "      <td>-71.08</td>\n",
       "    </tr>\n",
       "    <tr>\n",
       "      <th>3</th>\n",
       "      <td>Aggravated Assault</td>\n",
       "      <td>ASSAULT - AGGRAVATED - BATTERY</td>\n",
       "      <td>A1</td>\n",
       "      <td>No</td>\n",
       "      <td>2018</td>\n",
       "      <td>10</td>\n",
       "      <td>Wednesday</td>\n",
       "      <td>20</td>\n",
       "      <td>Part One</td>\n",
       "      <td>42.36</td>\n",
       "      <td>-71.06</td>\n",
       "    </tr>\n",
       "    <tr>\n",
       "      <th>4</th>\n",
       "      <td>Aircraft</td>\n",
       "      <td>AIRCRAFT INCIDENTS</td>\n",
       "      <td>A7</td>\n",
       "      <td>No</td>\n",
       "      <td>2018</td>\n",
       "      <td>10</td>\n",
       "      <td>Wednesday</td>\n",
       "      <td>20</td>\n",
       "      <td>Part Three</td>\n",
       "      <td>42.38</td>\n",
       "      <td>-71.02</td>\n",
       "    </tr>\n",
       "    <tr>\n",
       "      <th>...</th>\n",
       "      <td>...</td>\n",
       "      <td>...</td>\n",
       "      <td>...</td>\n",
       "      <td>...</td>\n",
       "      <td>...</td>\n",
       "      <td>...</td>\n",
       "      <td>...</td>\n",
       "      <td>...</td>\n",
       "      <td>...</td>\n",
       "      <td>...</td>\n",
       "      <td>...</td>\n",
       "    </tr>\n",
       "    <tr>\n",
       "      <th>327815</th>\n",
       "      <td>Warrant Arrests</td>\n",
       "      <td>WARRANT ARREST</td>\n",
       "      <td>D4</td>\n",
       "      <td>No</td>\n",
       "      <td>2016</td>\n",
       "      <td>6</td>\n",
       "      <td>Sunday</td>\n",
       "      <td>17</td>\n",
       "      <td>Part Three</td>\n",
       "      <td>42.34</td>\n",
       "      <td>-71.09</td>\n",
       "    </tr>\n",
       "    <tr>\n",
       "      <th>327816</th>\n",
       "      <td>Homicide</td>\n",
       "      <td>MURDER, NON-NEGLIGIENT MANSLAUGHTER</td>\n",
       "      <td>E18</td>\n",
       "      <td>No</td>\n",
       "      <td>2015</td>\n",
       "      <td>7</td>\n",
       "      <td>Thursday</td>\n",
       "      <td>13</td>\n",
       "      <td>Part One</td>\n",
       "      <td>42.26</td>\n",
       "      <td>-71.12</td>\n",
       "    </tr>\n",
       "    <tr>\n",
       "      <th>327817</th>\n",
       "      <td>Warrant Arrests</td>\n",
       "      <td>WARRANT ARREST</td>\n",
       "      <td>E18</td>\n",
       "      <td>No</td>\n",
       "      <td>2015</td>\n",
       "      <td>7</td>\n",
       "      <td>Thursday</td>\n",
       "      <td>13</td>\n",
       "      <td>Part Three</td>\n",
       "      <td>42.26</td>\n",
       "      <td>-71.12</td>\n",
       "    </tr>\n",
       "    <tr>\n",
       "      <th>327818</th>\n",
       "      <td>Warrant Arrests</td>\n",
       "      <td>WARRANT ARREST</td>\n",
       "      <td>E13</td>\n",
       "      <td>No</td>\n",
       "      <td>2016</td>\n",
       "      <td>5</td>\n",
       "      <td>Tuesday</td>\n",
       "      <td>19</td>\n",
       "      <td>Part Three</td>\n",
       "      <td>42.30</td>\n",
       "      <td>-71.11</td>\n",
       "    </tr>\n",
       "    <tr>\n",
       "      <th>327819</th>\n",
       "      <td>Warrant Arrests</td>\n",
       "      <td>WARRANT ARREST</td>\n",
       "      <td>D4</td>\n",
       "      <td>No</td>\n",
       "      <td>2015</td>\n",
       "      <td>6</td>\n",
       "      <td>Monday</td>\n",
       "      <td>0</td>\n",
       "      <td>Part Three</td>\n",
       "      <td>42.33</td>\n",
       "      <td>-71.08</td>\n",
       "    </tr>\n",
       "  </tbody>\n",
       "</table>\n",
       "<p>326870 rows × 11 columns</p>\n",
       "</div>"
      ],
      "text/plain": [
       "        OFFENSE_CODE_GROUP                  OFFENSE_DESCRIPTION DISTRICT  \\\n",
       "0       Disorderly Conduct                 DISTURBING THE PEACE      E18   \n",
       "1            Property Lost                      PROPERTY - LOST      D14   \n",
       "2                    Other            THREATS TO DO BODILY HARM       B2   \n",
       "3       Aggravated Assault       ASSAULT - AGGRAVATED - BATTERY       A1   \n",
       "4                 Aircraft                   AIRCRAFT INCIDENTS       A7   \n",
       "...                    ...                                  ...      ...   \n",
       "327815     Warrant Arrests                       WARRANT ARREST       D4   \n",
       "327816            Homicide  MURDER, NON-NEGLIGIENT MANSLAUGHTER      E18   \n",
       "327817     Warrant Arrests                       WARRANT ARREST      E18   \n",
       "327818     Warrant Arrests                       WARRANT ARREST      E13   \n",
       "327819     Warrant Arrests                       WARRANT ARREST       D4   \n",
       "\n",
       "       SHOOTING  YEAR  MONTH DAY_OF_WEEK  HOUR    UCR_PART    Lat   Long  \n",
       "0            No  2018     10   Wednesday    20    Part Two  42.26 -71.12  \n",
       "1            No  2018      8    Thursday    20  Part Three  42.35 -71.14  \n",
       "2            No  2018     10   Wednesday    19    Part Two  42.31 -71.08  \n",
       "3            No  2018     10   Wednesday    20    Part One  42.36 -71.06  \n",
       "4            No  2018     10   Wednesday    20  Part Three  42.38 -71.02  \n",
       "...         ...   ...    ...         ...   ...         ...    ...    ...  \n",
       "327815       No  2016      6      Sunday    17  Part Three  42.34 -71.09  \n",
       "327816       No  2015      7    Thursday    13    Part One  42.26 -71.12  \n",
       "327817       No  2015      7    Thursday    13  Part Three  42.26 -71.12  \n",
       "327818       No  2016      5     Tuesday    19  Part Three  42.30 -71.11  \n",
       "327819       No  2015      6      Monday     0  Part Three  42.33 -71.08  \n",
       "\n",
       "[326870 rows x 11 columns]"
      ]
     },
     "execution_count": 76,
     "metadata": {},
     "output_type": "execute_result"
    }
   ],
   "source": [
    "df"
   ]
  },
  {
   "cell_type": "markdown",
   "metadata": {
    "id": "UESokBl6gis4"
   },
   "source": [
    "## Handling Categorical Data"
   ]
  },
  {
   "cell_type": "code",
   "execution_count": 77,
   "metadata": {
    "id": "7Hg5i3rtATaE"
   },
   "outputs": [],
   "source": [
    "df_copy = df.copy()"
   ]
  },
  {
   "cell_type": "code",
   "execution_count": 78,
   "metadata": {
    "id": "YzEpc5bRg3dx"
   },
   "outputs": [],
   "source": [
    "df_copy = pd.get_dummies(df_copy, columns=['OFFENSE_CODE_GROUP','OFFENSE_DESCRIPTION'], drop_first=True)"
   ]
  },
  {
   "cell_type": "code",
   "execution_count": 79,
   "metadata": {
    "colab": {
     "base_uri": "https://localhost:8080/"
    },
    "id": "XsECCIfAinZa",
    "outputId": "ab84b8fe-1240-4d2b-a7c3-776712b14a4f"
   },
   "outputs": [
    {
     "data": {
      "text/plain": [
       "['DISTRICT', 'SHOOTING', 'DAY_OF_WEEK', 'UCR_PART']"
      ]
     },
     "execution_count": 79,
     "metadata": {},
     "output_type": "execute_result"
    }
   ],
   "source": [
    "list_categorical_columns = list(df_copy.select_dtypes('object').columns)\n",
    "list_categorical_columns"
   ]
  },
  {
   "cell_type": "code",
   "execution_count": 80,
   "metadata": {
    "id": "vCGj9Kv2ibwY"
   },
   "outputs": [],
   "source": [
    "from sklearn.preprocessing import LabelEncoder\n",
    "for col in list_categorical_columns :\n",
    "   df_copy[col] = LabelEncoder().fit_transform(df_copy[col])"
   ]
  },
  {
   "cell_type": "code",
   "execution_count": 81,
   "metadata": {
    "colab": {
     "base_uri": "https://localhost:8080/",
     "height": 522
    },
    "id": "Vz7nhDYCi3D6",
    "outputId": "4f050267-2cd7-4280-d501-ebd0c82491bb"
   },
   "outputs": [
    {
     "data": {
      "text/html": [
       "<div>\n",
       "<style scoped>\n",
       "    .dataframe tbody tr th:only-of-type {\n",
       "        vertical-align: middle;\n",
       "    }\n",
       "\n",
       "    .dataframe tbody tr th {\n",
       "        vertical-align: top;\n",
       "    }\n",
       "\n",
       "    .dataframe thead th {\n",
       "        text-align: right;\n",
       "    }\n",
       "</style>\n",
       "<table border=\"1\" class=\"dataframe\">\n",
       "  <thead>\n",
       "    <tr style=\"text-align: right;\">\n",
       "      <th></th>\n",
       "      <th>DISTRICT</th>\n",
       "      <th>SHOOTING</th>\n",
       "      <th>YEAR</th>\n",
       "      <th>MONTH</th>\n",
       "      <th>DAY_OF_WEEK</th>\n",
       "      <th>HOUR</th>\n",
       "      <th>UCR_PART</th>\n",
       "      <th>Lat</th>\n",
       "      <th>Long</th>\n",
       "      <th>OFFENSE_CODE_GROUP_Aircraft</th>\n",
       "      <th>...</th>\n",
       "      <th>OFFENSE_DESCRIPTION_VIOLATION - CITY ORDINANCE</th>\n",
       "      <th>OFFENSE_DESCRIPTION_VIOLATION - CITY ORDINANCE CONSTRUCTION PERMIT</th>\n",
       "      <th>OFFENSE_DESCRIPTION_VIOLATION - HAWKER AND PEDDLER</th>\n",
       "      <th>OFFENSE_DESCRIPTION_VIOLATION - RESTRAINING ORDER</th>\n",
       "      <th>OFFENSE_DESCRIPTION_WARRANT ARREST</th>\n",
       "      <th>OFFENSE_DESCRIPTION_WEAPON - FIREARM - CARRYING / POSSESSING, ETC</th>\n",
       "      <th>OFFENSE_DESCRIPTION_WEAPON - FIREARM - OTHER VIOLATION</th>\n",
       "      <th>OFFENSE_DESCRIPTION_WEAPON - FIREARM - SALE / TRAFFICKING</th>\n",
       "      <th>OFFENSE_DESCRIPTION_WEAPON - OTHER - CARRYING / POSSESSING, ETC</th>\n",
       "      <th>OFFENSE_DESCRIPTION_WEAPON - OTHER - OTHER VIOLATION</th>\n",
       "    </tr>\n",
       "  </thead>\n",
       "  <tbody>\n",
       "    <tr>\n",
       "      <th>0</th>\n",
       "      <td>10</td>\n",
       "      <td>0</td>\n",
       "      <td>2018</td>\n",
       "      <td>10</td>\n",
       "      <td>6</td>\n",
       "      <td>20</td>\n",
       "      <td>3</td>\n",
       "      <td>42.26</td>\n",
       "      <td>-71.12</td>\n",
       "      <td>0</td>\n",
       "      <td>...</td>\n",
       "      <td>0</td>\n",
       "      <td>0</td>\n",
       "      <td>0</td>\n",
       "      <td>0</td>\n",
       "      <td>0</td>\n",
       "      <td>0</td>\n",
       "      <td>0</td>\n",
       "      <td>0</td>\n",
       "      <td>0</td>\n",
       "      <td>0</td>\n",
       "    </tr>\n",
       "    <tr>\n",
       "      <th>1</th>\n",
       "      <td>7</td>\n",
       "      <td>0</td>\n",
       "      <td>2018</td>\n",
       "      <td>8</td>\n",
       "      <td>4</td>\n",
       "      <td>20</td>\n",
       "      <td>2</td>\n",
       "      <td>42.35</td>\n",
       "      <td>-71.14</td>\n",
       "      <td>0</td>\n",
       "      <td>...</td>\n",
       "      <td>0</td>\n",
       "      <td>0</td>\n",
       "      <td>0</td>\n",
       "      <td>0</td>\n",
       "      <td>0</td>\n",
       "      <td>0</td>\n",
       "      <td>0</td>\n",
       "      <td>0</td>\n",
       "      <td>0</td>\n",
       "      <td>0</td>\n",
       "    </tr>\n",
       "    <tr>\n",
       "      <th>2</th>\n",
       "      <td>3</td>\n",
       "      <td>0</td>\n",
       "      <td>2018</td>\n",
       "      <td>10</td>\n",
       "      <td>6</td>\n",
       "      <td>19</td>\n",
       "      <td>3</td>\n",
       "      <td>42.31</td>\n",
       "      <td>-71.08</td>\n",
       "      <td>0</td>\n",
       "      <td>...</td>\n",
       "      <td>0</td>\n",
       "      <td>0</td>\n",
       "      <td>0</td>\n",
       "      <td>0</td>\n",
       "      <td>0</td>\n",
       "      <td>0</td>\n",
       "      <td>0</td>\n",
       "      <td>0</td>\n",
       "      <td>0</td>\n",
       "      <td>0</td>\n",
       "    </tr>\n",
       "    <tr>\n",
       "      <th>3</th>\n",
       "      <td>0</td>\n",
       "      <td>0</td>\n",
       "      <td>2018</td>\n",
       "      <td>10</td>\n",
       "      <td>6</td>\n",
       "      <td>20</td>\n",
       "      <td>1</td>\n",
       "      <td>42.36</td>\n",
       "      <td>-71.06</td>\n",
       "      <td>0</td>\n",
       "      <td>...</td>\n",
       "      <td>0</td>\n",
       "      <td>0</td>\n",
       "      <td>0</td>\n",
       "      <td>0</td>\n",
       "      <td>0</td>\n",
       "      <td>0</td>\n",
       "      <td>0</td>\n",
       "      <td>0</td>\n",
       "      <td>0</td>\n",
       "      <td>0</td>\n",
       "    </tr>\n",
       "    <tr>\n",
       "      <th>4</th>\n",
       "      <td>2</td>\n",
       "      <td>0</td>\n",
       "      <td>2018</td>\n",
       "      <td>10</td>\n",
       "      <td>6</td>\n",
       "      <td>20</td>\n",
       "      <td>2</td>\n",
       "      <td>42.38</td>\n",
       "      <td>-71.02</td>\n",
       "      <td>1</td>\n",
       "      <td>...</td>\n",
       "      <td>0</td>\n",
       "      <td>0</td>\n",
       "      <td>0</td>\n",
       "      <td>0</td>\n",
       "      <td>0</td>\n",
       "      <td>0</td>\n",
       "      <td>0</td>\n",
       "      <td>0</td>\n",
       "      <td>0</td>\n",
       "      <td>0</td>\n",
       "    </tr>\n",
       "    <tr>\n",
       "      <th>...</th>\n",
       "      <td>...</td>\n",
       "      <td>...</td>\n",
       "      <td>...</td>\n",
       "      <td>...</td>\n",
       "      <td>...</td>\n",
       "      <td>...</td>\n",
       "      <td>...</td>\n",
       "      <td>...</td>\n",
       "      <td>...</td>\n",
       "      <td>...</td>\n",
       "      <td>...</td>\n",
       "      <td>...</td>\n",
       "      <td>...</td>\n",
       "      <td>...</td>\n",
       "      <td>...</td>\n",
       "      <td>...</td>\n",
       "      <td>...</td>\n",
       "      <td>...</td>\n",
       "      <td>...</td>\n",
       "      <td>...</td>\n",
       "      <td>...</td>\n",
       "    </tr>\n",
       "    <tr>\n",
       "      <th>327815</th>\n",
       "      <td>8</td>\n",
       "      <td>0</td>\n",
       "      <td>2016</td>\n",
       "      <td>6</td>\n",
       "      <td>3</td>\n",
       "      <td>17</td>\n",
       "      <td>2</td>\n",
       "      <td>42.34</td>\n",
       "      <td>-71.09</td>\n",
       "      <td>0</td>\n",
       "      <td>...</td>\n",
       "      <td>0</td>\n",
       "      <td>0</td>\n",
       "      <td>0</td>\n",
       "      <td>0</td>\n",
       "      <td>1</td>\n",
       "      <td>0</td>\n",
       "      <td>0</td>\n",
       "      <td>0</td>\n",
       "      <td>0</td>\n",
       "      <td>0</td>\n",
       "    </tr>\n",
       "    <tr>\n",
       "      <th>327816</th>\n",
       "      <td>10</td>\n",
       "      <td>0</td>\n",
       "      <td>2015</td>\n",
       "      <td>7</td>\n",
       "      <td>4</td>\n",
       "      <td>13</td>\n",
       "      <td>1</td>\n",
       "      <td>42.26</td>\n",
       "      <td>-71.12</td>\n",
       "      <td>0</td>\n",
       "      <td>...</td>\n",
       "      <td>0</td>\n",
       "      <td>0</td>\n",
       "      <td>0</td>\n",
       "      <td>0</td>\n",
       "      <td>0</td>\n",
       "      <td>0</td>\n",
       "      <td>0</td>\n",
       "      <td>0</td>\n",
       "      <td>0</td>\n",
       "      <td>0</td>\n",
       "    </tr>\n",
       "    <tr>\n",
       "      <th>327817</th>\n",
       "      <td>10</td>\n",
       "      <td>0</td>\n",
       "      <td>2015</td>\n",
       "      <td>7</td>\n",
       "      <td>4</td>\n",
       "      <td>13</td>\n",
       "      <td>2</td>\n",
       "      <td>42.26</td>\n",
       "      <td>-71.12</td>\n",
       "      <td>0</td>\n",
       "      <td>...</td>\n",
       "      <td>0</td>\n",
       "      <td>0</td>\n",
       "      <td>0</td>\n",
       "      <td>0</td>\n",
       "      <td>1</td>\n",
       "      <td>0</td>\n",
       "      <td>0</td>\n",
       "      <td>0</td>\n",
       "      <td>0</td>\n",
       "      <td>0</td>\n",
       "    </tr>\n",
       "    <tr>\n",
       "      <th>327818</th>\n",
       "      <td>9</td>\n",
       "      <td>0</td>\n",
       "      <td>2016</td>\n",
       "      <td>5</td>\n",
       "      <td>5</td>\n",
       "      <td>19</td>\n",
       "      <td>2</td>\n",
       "      <td>42.30</td>\n",
       "      <td>-71.11</td>\n",
       "      <td>0</td>\n",
       "      <td>...</td>\n",
       "      <td>0</td>\n",
       "      <td>0</td>\n",
       "      <td>0</td>\n",
       "      <td>0</td>\n",
       "      <td>1</td>\n",
       "      <td>0</td>\n",
       "      <td>0</td>\n",
       "      <td>0</td>\n",
       "      <td>0</td>\n",
       "      <td>0</td>\n",
       "    </tr>\n",
       "    <tr>\n",
       "      <th>327819</th>\n",
       "      <td>8</td>\n",
       "      <td>0</td>\n",
       "      <td>2015</td>\n",
       "      <td>6</td>\n",
       "      <td>1</td>\n",
       "      <td>0</td>\n",
       "      <td>2</td>\n",
       "      <td>42.33</td>\n",
       "      <td>-71.08</td>\n",
       "      <td>0</td>\n",
       "      <td>...</td>\n",
       "      <td>0</td>\n",
       "      <td>0</td>\n",
       "      <td>0</td>\n",
       "      <td>0</td>\n",
       "      <td>1</td>\n",
       "      <td>0</td>\n",
       "      <td>0</td>\n",
       "      <td>0</td>\n",
       "      <td>0</td>\n",
       "      <td>0</td>\n",
       "    </tr>\n",
       "  </tbody>\n",
       "</table>\n",
       "<p>326870 rows × 318 columns</p>\n",
       "</div>"
      ],
      "text/plain": [
       "        DISTRICT  SHOOTING  YEAR  MONTH  DAY_OF_WEEK  HOUR  UCR_PART    Lat  \\\n",
       "0             10         0  2018     10            6    20         3  42.26   \n",
       "1              7         0  2018      8            4    20         2  42.35   \n",
       "2              3         0  2018     10            6    19         3  42.31   \n",
       "3              0         0  2018     10            6    20         1  42.36   \n",
       "4              2         0  2018     10            6    20         2  42.38   \n",
       "...          ...       ...   ...    ...          ...   ...       ...    ...   \n",
       "327815         8         0  2016      6            3    17         2  42.34   \n",
       "327816        10         0  2015      7            4    13         1  42.26   \n",
       "327817        10         0  2015      7            4    13         2  42.26   \n",
       "327818         9         0  2016      5            5    19         2  42.30   \n",
       "327819         8         0  2015      6            1     0         2  42.33   \n",
       "\n",
       "         Long  OFFENSE_CODE_GROUP_Aircraft  ...  \\\n",
       "0      -71.12                            0  ...   \n",
       "1      -71.14                            0  ...   \n",
       "2      -71.08                            0  ...   \n",
       "3      -71.06                            0  ...   \n",
       "4      -71.02                            1  ...   \n",
       "...       ...                          ...  ...   \n",
       "327815 -71.09                            0  ...   \n",
       "327816 -71.12                            0  ...   \n",
       "327817 -71.12                            0  ...   \n",
       "327818 -71.11                            0  ...   \n",
       "327819 -71.08                            0  ...   \n",
       "\n",
       "        OFFENSE_DESCRIPTION_VIOLATION - CITY ORDINANCE  \\\n",
       "0                                                    0   \n",
       "1                                                    0   \n",
       "2                                                    0   \n",
       "3                                                    0   \n",
       "4                                                    0   \n",
       "...                                                ...   \n",
       "327815                                               0   \n",
       "327816                                               0   \n",
       "327817                                               0   \n",
       "327818                                               0   \n",
       "327819                                               0   \n",
       "\n",
       "        OFFENSE_DESCRIPTION_VIOLATION - CITY ORDINANCE CONSTRUCTION PERMIT  \\\n",
       "0                                                       0                    \n",
       "1                                                       0                    \n",
       "2                                                       0                    \n",
       "3                                                       0                    \n",
       "4                                                       0                    \n",
       "...                                                   ...                    \n",
       "327815                                                  0                    \n",
       "327816                                                  0                    \n",
       "327817                                                  0                    \n",
       "327818                                                  0                    \n",
       "327819                                                  0                    \n",
       "\n",
       "        OFFENSE_DESCRIPTION_VIOLATION - HAWKER AND PEDDLER  \\\n",
       "0                                                       0    \n",
       "1                                                       0    \n",
       "2                                                       0    \n",
       "3                                                       0    \n",
       "4                                                       0    \n",
       "...                                                   ...    \n",
       "327815                                                  0    \n",
       "327816                                                  0    \n",
       "327817                                                  0    \n",
       "327818                                                  0    \n",
       "327819                                                  0    \n",
       "\n",
       "        OFFENSE_DESCRIPTION_VIOLATION - RESTRAINING ORDER  \\\n",
       "0                                                       0   \n",
       "1                                                       0   \n",
       "2                                                       0   \n",
       "3                                                       0   \n",
       "4                                                       0   \n",
       "...                                                   ...   \n",
       "327815                                                  0   \n",
       "327816                                                  0   \n",
       "327817                                                  0   \n",
       "327818                                                  0   \n",
       "327819                                                  0   \n",
       "\n",
       "        OFFENSE_DESCRIPTION_WARRANT ARREST  \\\n",
       "0                                        0   \n",
       "1                                        0   \n",
       "2                                        0   \n",
       "3                                        0   \n",
       "4                                        0   \n",
       "...                                    ...   \n",
       "327815                                   1   \n",
       "327816                                   0   \n",
       "327817                                   1   \n",
       "327818                                   1   \n",
       "327819                                   1   \n",
       "\n",
       "        OFFENSE_DESCRIPTION_WEAPON - FIREARM - CARRYING / POSSESSING, ETC  \\\n",
       "0                                                       0                   \n",
       "1                                                       0                   \n",
       "2                                                       0                   \n",
       "3                                                       0                   \n",
       "4                                                       0                   \n",
       "...                                                   ...                   \n",
       "327815                                                  0                   \n",
       "327816                                                  0                   \n",
       "327817                                                  0                   \n",
       "327818                                                  0                   \n",
       "327819                                                  0                   \n",
       "\n",
       "        OFFENSE_DESCRIPTION_WEAPON - FIREARM - OTHER VIOLATION  \\\n",
       "0                                                       0        \n",
       "1                                                       0        \n",
       "2                                                       0        \n",
       "3                                                       0        \n",
       "4                                                       0        \n",
       "...                                                   ...        \n",
       "327815                                                  0        \n",
       "327816                                                  0        \n",
       "327817                                                  0        \n",
       "327818                                                  0        \n",
       "327819                                                  0        \n",
       "\n",
       "        OFFENSE_DESCRIPTION_WEAPON - FIREARM - SALE / TRAFFICKING  \\\n",
       "0                                                       0           \n",
       "1                                                       0           \n",
       "2                                                       0           \n",
       "3                                                       0           \n",
       "4                                                       0           \n",
       "...                                                   ...           \n",
       "327815                                                  0           \n",
       "327816                                                  0           \n",
       "327817                                                  0           \n",
       "327818                                                  0           \n",
       "327819                                                  0           \n",
       "\n",
       "        OFFENSE_DESCRIPTION_WEAPON - OTHER - CARRYING / POSSESSING, ETC  \\\n",
       "0                                                       0                 \n",
       "1                                                       0                 \n",
       "2                                                       0                 \n",
       "3                                                       0                 \n",
       "4                                                       0                 \n",
       "...                                                   ...                 \n",
       "327815                                                  0                 \n",
       "327816                                                  0                 \n",
       "327817                                                  0                 \n",
       "327818                                                  0                 \n",
       "327819                                                  0                 \n",
       "\n",
       "        OFFENSE_DESCRIPTION_WEAPON - OTHER - OTHER VIOLATION  \n",
       "0                                                       0     \n",
       "1                                                       0     \n",
       "2                                                       0     \n",
       "3                                                       0     \n",
       "4                                                       0     \n",
       "...                                                   ...     \n",
       "327815                                                  0     \n",
       "327816                                                  0     \n",
       "327817                                                  0     \n",
       "327818                                                  0     \n",
       "327819                                                  0     \n",
       "\n",
       "[326870 rows x 318 columns]"
      ]
     },
     "execution_count": 81,
     "metadata": {},
     "output_type": "execute_result"
    }
   ],
   "source": [
    "df_copy"
   ]
  },
  {
   "cell_type": "markdown",
   "metadata": {
    "id": "WM9PZvK3jypm"
   },
   "source": [
    "# Modelling"
   ]
  },
  {
   "cell_type": "markdown",
   "metadata": {
    "id": "f47djiS-lkUK"
   },
   "source": [
    "## Using K-Means"
   ]
  },
  {
   "cell_type": "code",
   "execution_count": 82,
   "metadata": {
    "id": "789c4Dtji6N9"
   },
   "outputs": [],
   "source": [
    "from sklearn.cluster import KMeans"
   ]
  },
  {
   "cell_type": "code",
   "execution_count": 83,
   "metadata": {
    "colab": {
     "base_uri": "https://localhost:8080/"
    },
    "id": "4bnHwbeHlN79",
    "outputId": "a926f971-4c68-4ad0-fc35-293eac8778d2"
   },
   "outputs": [
    {
     "data": {
      "text/plain": [
       "array([3, 3, 3, ..., 0, 2, 4])"
      ]
     },
     "execution_count": 83,
     "metadata": {},
     "output_type": "execute_result"
    }
   ],
   "source": [
    "model = KMeans(n_clusters=5)\n",
    "all_clusters = model.fit_predict(df_copy)\n",
    "all_clusters"
   ]
  },
  {
   "cell_type": "code",
   "execution_count": 84,
   "metadata": {
    "id": "gPmIuL5cIMvx"
   },
   "outputs": [],
   "source": [
    "df['Cluster'] = all_clusters"
   ]
  },
  {
   "cell_type": "code",
   "execution_count": 85,
   "metadata": {
    "colab": {
     "base_uri": "https://localhost:8080/",
     "height": 634
    },
    "id": "3AOrIw5xIRDn",
    "outputId": "ed0ae989-49ba-4a13-8204-4b2d5de8f3a7"
   },
   "outputs": [
    {
     "data": {
      "text/plain": [
       "<AxesSubplot:xlabel='Cluster', ylabel='count'>"
      ]
     },
     "execution_count": 85,
     "metadata": {},
     "output_type": "execute_result"
    },
    {
     "data": {
      "image/png": "[encoded data removed]",
      "text/plain": [
       "<Figure size 1080x720 with 1 Axes>"
      ]
     },
     "metadata": {},
     "output_type": "display_data"
    }
   ],
   "source": [
    "sns.countplot(x=df['Cluster'] ,order = df['Cluster'].value_counts().index)"
   ]
  },
  {
   "cell_type": "code",
   "execution_count": 86,
   "metadata": {
    "colab": {
     "base_uri": "https://localhost:8080/",
     "height": 589
    },
    "id": "zX_LbjpjI529",
    "outputId": "4972a546-39ca-4e21-a1e6-bac7ef978b57"
   },
   "outputs": [
    {
     "data": {
      "text/html": [
       "<div>\n",
       "<style scoped>\n",
       "    .dataframe tbody tr th:only-of-type {\n",
       "        vertical-align: middle;\n",
       "    }\n",
       "\n",
       "    .dataframe tbody tr th {\n",
       "        vertical-align: top;\n",
       "    }\n",
       "\n",
       "    .dataframe thead th {\n",
       "        text-align: right;\n",
       "    }\n",
       "</style>\n",
       "<table border=\"1\" class=\"dataframe\">\n",
       "  <thead>\n",
       "    <tr style=\"text-align: right;\">\n",
       "      <th></th>\n",
       "      <th>OFFENSE_CODE_GROUP</th>\n",
       "      <th>OFFENSE_DESCRIPTION</th>\n",
       "      <th>DISTRICT</th>\n",
       "      <th>SHOOTING</th>\n",
       "      <th>YEAR</th>\n",
       "      <th>MONTH</th>\n",
       "      <th>DAY_OF_WEEK</th>\n",
       "      <th>HOUR</th>\n",
       "      <th>UCR_PART</th>\n",
       "      <th>Lat</th>\n",
       "      <th>Long</th>\n",
       "      <th>Cluster</th>\n",
       "    </tr>\n",
       "  </thead>\n",
       "  <tbody>\n",
       "    <tr>\n",
       "      <th>0</th>\n",
       "      <td>Disorderly Conduct</td>\n",
       "      <td>DISTURBING THE PEACE</td>\n",
       "      <td>E18</td>\n",
       "      <td>No</td>\n",
       "      <td>2018</td>\n",
       "      <td>10</td>\n",
       "      <td>Wednesday</td>\n",
       "      <td>20</td>\n",
       "      <td>Part Two</td>\n",
       "      <td>42.26</td>\n",
       "      <td>-71.12</td>\n",
       "      <td>3</td>\n",
       "    </tr>\n",
       "    <tr>\n",
       "      <th>1</th>\n",
       "      <td>Property Lost</td>\n",
       "      <td>PROPERTY - LOST</td>\n",
       "      <td>D14</td>\n",
       "      <td>No</td>\n",
       "      <td>2018</td>\n",
       "      <td>8</td>\n",
       "      <td>Thursday</td>\n",
       "      <td>20</td>\n",
       "      <td>Part Three</td>\n",
       "      <td>42.35</td>\n",
       "      <td>-71.14</td>\n",
       "      <td>3</td>\n",
       "    </tr>\n",
       "    <tr>\n",
       "      <th>2</th>\n",
       "      <td>Other</td>\n",
       "      <td>THREATS TO DO BODILY HARM</td>\n",
       "      <td>B2</td>\n",
       "      <td>No</td>\n",
       "      <td>2018</td>\n",
       "      <td>10</td>\n",
       "      <td>Wednesday</td>\n",
       "      <td>19</td>\n",
       "      <td>Part Two</td>\n",
       "      <td>42.31</td>\n",
       "      <td>-71.08</td>\n",
       "      <td>3</td>\n",
       "    </tr>\n",
       "    <tr>\n",
       "      <th>3</th>\n",
       "      <td>Aggravated Assault</td>\n",
       "      <td>ASSAULT - AGGRAVATED - BATTERY</td>\n",
       "      <td>A1</td>\n",
       "      <td>No</td>\n",
       "      <td>2018</td>\n",
       "      <td>10</td>\n",
       "      <td>Wednesday</td>\n",
       "      <td>20</td>\n",
       "      <td>Part One</td>\n",
       "      <td>42.36</td>\n",
       "      <td>-71.06</td>\n",
       "      <td>3</td>\n",
       "    </tr>\n",
       "    <tr>\n",
       "      <th>4</th>\n",
       "      <td>Aircraft</td>\n",
       "      <td>AIRCRAFT INCIDENTS</td>\n",
       "      <td>A7</td>\n",
       "      <td>No</td>\n",
       "      <td>2018</td>\n",
       "      <td>10</td>\n",
       "      <td>Wednesday</td>\n",
       "      <td>20</td>\n",
       "      <td>Part Three</td>\n",
       "      <td>42.38</td>\n",
       "      <td>-71.02</td>\n",
       "      <td>3</td>\n",
       "    </tr>\n",
       "    <tr>\n",
       "      <th>...</th>\n",
       "      <td>...</td>\n",
       "      <td>...</td>\n",
       "      <td>...</td>\n",
       "      <td>...</td>\n",
       "      <td>...</td>\n",
       "      <td>...</td>\n",
       "      <td>...</td>\n",
       "      <td>...</td>\n",
       "      <td>...</td>\n",
       "      <td>...</td>\n",
       "      <td>...</td>\n",
       "      <td>...</td>\n",
       "    </tr>\n",
       "    <tr>\n",
       "      <th>327815</th>\n",
       "      <td>Warrant Arrests</td>\n",
       "      <td>WARRANT ARREST</td>\n",
       "      <td>D4</td>\n",
       "      <td>No</td>\n",
       "      <td>2016</td>\n",
       "      <td>6</td>\n",
       "      <td>Sunday</td>\n",
       "      <td>17</td>\n",
       "      <td>Part Three</td>\n",
       "      <td>42.34</td>\n",
       "      <td>-71.09</td>\n",
       "      <td>2</td>\n",
       "    </tr>\n",
       "    <tr>\n",
       "      <th>327816</th>\n",
       "      <td>Homicide</td>\n",
       "      <td>MURDER, NON-NEGLIGIENT MANSLAUGHTER</td>\n",
       "      <td>E18</td>\n",
       "      <td>No</td>\n",
       "      <td>2015</td>\n",
       "      <td>7</td>\n",
       "      <td>Thursday</td>\n",
       "      <td>13</td>\n",
       "      <td>Part One</td>\n",
       "      <td>42.26</td>\n",
       "      <td>-71.12</td>\n",
       "      <td>0</td>\n",
       "    </tr>\n",
       "    <tr>\n",
       "      <th>327817</th>\n",
       "      <td>Warrant Arrests</td>\n",
       "      <td>WARRANT ARREST</td>\n",
       "      <td>E18</td>\n",
       "      <td>No</td>\n",
       "      <td>2015</td>\n",
       "      <td>7</td>\n",
       "      <td>Thursday</td>\n",
       "      <td>13</td>\n",
       "      <td>Part Three</td>\n",
       "      <td>42.26</td>\n",
       "      <td>-71.12</td>\n",
       "      <td>0</td>\n",
       "    </tr>\n",
       "    <tr>\n",
       "      <th>327818</th>\n",
       "      <td>Warrant Arrests</td>\n",
       "      <td>WARRANT ARREST</td>\n",
       "      <td>E13</td>\n",
       "      <td>No</td>\n",
       "      <td>2016</td>\n",
       "      <td>5</td>\n",
       "      <td>Tuesday</td>\n",
       "      <td>19</td>\n",
       "      <td>Part Three</td>\n",
       "      <td>42.30</td>\n",
       "      <td>-71.11</td>\n",
       "      <td>2</td>\n",
       "    </tr>\n",
       "    <tr>\n",
       "      <th>327819</th>\n",
       "      <td>Warrant Arrests</td>\n",
       "      <td>WARRANT ARREST</td>\n",
       "      <td>D4</td>\n",
       "      <td>No</td>\n",
       "      <td>2015</td>\n",
       "      <td>6</td>\n",
       "      <td>Monday</td>\n",
       "      <td>0</td>\n",
       "      <td>Part Three</td>\n",
       "      <td>42.33</td>\n",
       "      <td>-71.08</td>\n",
       "      <td>4</td>\n",
       "    </tr>\n",
       "  </tbody>\n",
       "</table>\n",
       "<p>326870 rows × 12 columns</p>\n",
       "</div>"
      ],
      "text/plain": [
       "        OFFENSE_CODE_GROUP                  OFFENSE_DESCRIPTION DISTRICT  \\\n",
       "0       Disorderly Conduct                 DISTURBING THE PEACE      E18   \n",
       "1            Property Lost                      PROPERTY - LOST      D14   \n",
       "2                    Other            THREATS TO DO BODILY HARM       B2   \n",
       "3       Aggravated Assault       ASSAULT - AGGRAVATED - BATTERY       A1   \n",
       "4                 Aircraft                   AIRCRAFT INCIDENTS       A7   \n",
       "...                    ...                                  ...      ...   \n",
       "327815     Warrant Arrests                       WARRANT ARREST       D4   \n",
       "327816            Homicide  MURDER, NON-NEGLIGIENT MANSLAUGHTER      E18   \n",
       "327817     Warrant Arrests                       WARRANT ARREST      E18   \n",
       "327818     Warrant Arrests                       WARRANT ARREST      E13   \n",
       "327819     Warrant Arrests                       WARRANT ARREST       D4   \n",
       "\n",
       "       SHOOTING  YEAR  MONTH DAY_OF_WEEK  HOUR    UCR_PART    Lat   Long  \\\n",
       "0            No  2018     10   Wednesday    20    Part Two  42.26 -71.12   \n",
       "1            No  2018      8    Thursday    20  Part Three  42.35 -71.14   \n",
       "2            No  2018     10   Wednesday    19    Part Two  42.31 -71.08   \n",
       "3            No  2018     10   Wednesday    20    Part One  42.36 -71.06   \n",
       "4            No  2018     10   Wednesday    20  Part Three  42.38 -71.02   \n",
       "...         ...   ...    ...         ...   ...         ...    ...    ...   \n",
       "327815       No  2016      6      Sunday    17  Part Three  42.34 -71.09   \n",
       "327816       No  2015      7    Thursday    13    Part One  42.26 -71.12   \n",
       "327817       No  2015      7    Thursday    13  Part Three  42.26 -71.12   \n",
       "327818       No  2016      5     Tuesday    19  Part Three  42.30 -71.11   \n",
       "327819       No  2015      6      Monday     0  Part Three  42.33 -71.08   \n",
       "\n",
       "        Cluster  \n",
       "0             3  \n",
       "1             3  \n",
       "2             3  \n",
       "3             3  \n",
       "4             3  \n",
       "...         ...  \n",
       "327815        2  \n",
       "327816        0  \n",
       "327817        0  \n",
       "327818        2  \n",
       "327819        4  \n",
       "\n",
       "[326870 rows x 12 columns]"
      ]
     },
     "execution_count": 86,
     "metadata": {},
     "output_type": "execute_result"
    }
   ],
   "source": [
    "df"
   ]
  }
 ],
 "metadata": {
  "colab": {
   "collapsed_sections": [],
   "name": "Boston City Crimes Clustering.ipynb",
   "provenance": [],
   "toc_visible": true
  },
  "kernelspec": {
   "display_name": "Python 3",
   "language": "python",
   "name": "python3"
  },
  "language_info": {
   "codemirror_mode": {
    "name": "ipython",
    "version": 3
   },
   "file_extension": ".py",
   "mimetype": "text/x-python",
   "name": "python",
   "nbconvert_exporter": "python",
   "pygments_lexer": "ipython3",
   "version": "3.8.5"
  }
 },
 "nbformat": 4,
 "nbformat_minor": 1
}
